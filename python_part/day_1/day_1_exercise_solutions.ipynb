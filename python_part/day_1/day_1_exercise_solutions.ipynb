{
 "cells": [
  {
   "cell_type": "markdown",
   "metadata": {},
   "source": [
    "# Day 1 Exercise: Python Basics\n",
    "\n",
    "This sheet will help you learn the python basics!"
   ]
  },
  {
   "cell_type": "code",
   "execution_count": null,
   "metadata": {},
   "outputs": [],
   "source": []
  },
  {
   "cell_type": "markdown",
   "metadata": {},
   "source": [
    "## 1. Build a List Evaluator"
   ]
  },
  {
   "cell_type": "markdown",
   "metadata": {},
   "source": [
    "Create a function, which calculates and prints out the maximum value, minimum value, average, and the variance of a list of numbers. (Try not to use the sum, max or min functions in python)."
   ]
  },
  {
   "cell_type": "code",
   "execution_count": 2,
   "metadata": {},
   "outputs": [],
   "source": [
    "def evaluateList(values):\n",
    "    \n",
    "    # store the values for the average\n",
    "    sumValues = 0\n",
    "    \n",
    "    # iterate over all values\n",
    "    i = 0\n",
    "    for x in values:\n",
    "        if i is 0:\n",
    "            maxValue = x\n",
    "            minValue = x\n",
    "        # check if new value x is bigger than stored max value \n",
    "        if x > maxValue:\n",
    "            maxValue = x\n",
    "        # check if new value x is smaller than stored min value \n",
    "        if x < minValue:\n",
    "            minValue = x\n",
    "        # add sto sum\n",
    "        sumValues = sumValues + x\n",
    "        \n",
    "        i = i+1\n",
    "    \n",
    "    # calculate the average\n",
    "    avgValue = sumValues/(len(values))\n",
    "    \n",
    "    # placerholder for variance \n",
    "    variance = 0\n",
    "    \n",
    "    # for each value, calculate the difference to the average \n",
    "    for x in values:    \n",
    "        variance = variance + (x-avgValue)**2\n",
    "    \n",
    "    # divide by number of samples\n",
    "    variance = variance/(len(values))\n",
    "    \n",
    "    # print out values\n",
    "    print(\"The average is: \" + str(avgValue))\n",
    "    print(\"The max value is: \" + str(maxValue))\n",
    "    print(\"The min value is:\" + str(minValue))\n",
    "    print(\"The variance is: \" + str(variance))       "
   ]
  },
  {
   "cell_type": "code",
   "execution_count": 4,
   "metadata": {},
   "outputs": [
    {
     "name": "stdout",
     "output_type": "stream",
     "text": [
      "The average is: 3.5\n",
      "The max value is: 6\n",
      "The min value is:1\n",
      "The variance is: 2.9166666666666665\n"
     ]
    }
   ],
   "source": [
    "#import numpy\n",
    "\n",
    "#values = numpy.random.normal(0,1,5000000)\n",
    "evaluateList([1,2,3,4,5,6])\n",
    "#evaluateList(values)"
   ]
  },
  {
   "cell_type": "markdown",
   "metadata": {},
   "source": [
    "## 2.  Build a simple calculator\n",
    "\n",
    "Write a function, which takes in two numbers, x and y, and does a mathmatical operation of those numbers. The third input is the operation, which should be a string. Possible operations are: _\"add\"_, _\"subtract\"_, _\"multiply\"_, _\"divide\"_, _\"whole-division\"_ , _\"modulo\"_ and _\"power\"_ (x to the power of y). \n",
    "\n",
    "Your function should make sure the values x and y are of type _int_ or _float_. If the values x and y are not numbers, or the operation is not one of the listed ones, the function should print out a message with the error."
   ]
  },
  {
   "cell_type": "code",
   "execution_count": 41,
   "metadata": {},
   "outputs": [],
   "source": [
    "def calculator(x, y, operation):\n",
    "    \n",
    "    # check if x and y \n",
    "    if not ((type(x) is int or type(x) is float) and\\\n",
    "(type(y) is int or type(y) is float)):\n",
    "        print(\"Error: input values must be of type int or float\")\n",
    "        return # jump out of function\n",
    "    \n",
    "    if operation is \"add\":\n",
    "        return x + y\n",
    "    elif operation is \"subtract\":\n",
    "        return x - y\n",
    "    elif operation is \"mutliply\":\n",
    "        return x * y\n",
    "    elif operation is \"divide\":\n",
    "        return x / y\n",
    "    elif operation is \"whole_division\":\n",
    "        return x // y\n",
    "    elif operation is \"modulo\":\n",
    "        return x % y\n",
    "    elif operation is \"power\":\n",
    "        return x**y\n",
    "    else:\n",
    "        print(\"Error: operation is invalid\")"
   ]
  },
  {
   "cell_type": "code",
   "execution_count": 42,
   "metadata": {},
   "outputs": [
    {
     "data": {
      "text/plain": [
       "7.0"
      ]
     },
     "execution_count": 42,
     "metadata": {},
     "output_type": "execute_result"
    }
   ],
   "source": [
    "calculator(4, 3.0, \"add\")"
   ]
  },
  {
   "cell_type": "markdown",
   "metadata": {},
   "source": [
    "## 3. Build an Invoice Generator\n",
    "\n",
    "Write a function, which prints out an invoice for an order for a supermarket. At the moment, the supermarket only has only 4 different products and prices for each: \n",
    "\n",
    "- Watermelons for 3.8\n",
    "- Apples  for 0.9 \n",
    "- Bananas for 1.1 \n",
    "- Tomatoes for 2.7\n",
    "\n",
    "Since the supermarket is pretty new, they have a special going on: If one buys more tomatoes than watermelons, the bananas get 90% off. Otherwise, if the apples cost more than 10 euros, the tomatoes are free! (I know, weird special). \n",
    "The input for the generator is: the name of the customer and number of each item bought. The generator should print out an invoice."
   ]
  },
  {
   "cell_type": "code",
   "execution_count": 8,
   "metadata": {},
   "outputs": [],
   "source": [
    "def generate_invoice(name, watermelons, apples, bananas, tomatoes):\n",
    "    \n",
    "    price_w = 3.8\n",
    "    price_a = 0.9\n",
    "    price_b = 1.1\n",
    "    price_t = 2.7\n",
    "    \n",
    "    \n",
    "    if(tomatoes > watermelons):\n",
    "        price_b *= 0.9\n",
    "    elif(apples * price_a > 10):\n",
    "        price_t = 0.0\n",
    "        \n",
    "    sumAll = watermelons*price_w + apples*price_a + bananas*price_b + tomatoes*price_t\n",
    "    \n",
    "    print(\"Dear \"+ name +\", your total is: \"+str(sumAll))\n",
    "    "
   ]
  },
  {
   "cell_type": "code",
   "execution_count": 9,
   "metadata": {},
   "outputs": [
    {
     "name": "stdout",
     "output_type": "stream",
     "text": [
      "Dear Jason, your total is: 30.35\n"
     ]
    }
   ],
   "source": [
    "generate_invoice(\"Jason\",1,3,5,7)"
   ]
  },
  {
   "cell_type": "markdown",
   "metadata": {},
   "source": [
    "## 4. Fibonnaci\n",
    "\n",
    "Write a function which calculates and prints the fibonacci series up to n. If that is too easy: Rewrite the function recursively (the function should call itself)."
   ]
  },
  {
   "cell_type": "code",
   "execution_count": 1,
   "metadata": {},
   "outputs": [],
   "source": [
    "def fib(n):\n",
    "    serie = [0, 1]\n",
    "    if n==0:\n",
    "        print(0)\n",
    "    else:\n",
    "        print(\"0\")\n",
    "        print(\"1\")\n",
    "    new_n = serie[-1] + serie[-2]\n",
    "    while(new_n <= n):\n",
    "        print(new_n)\n",
    "        serie.append(new_n)\n",
    "        new_n = serie[-1] + serie[-2]\n",
    " "
   ]
  },
  {
   "cell_type": "code",
   "execution_count": 2,
   "metadata": {},
   "outputs": [
    {
     "name": "stdout",
     "output_type": "stream",
     "text": [
      "0\n",
      "1\n",
      "1\n",
      "2\n",
      "3\n",
      "5\n"
     ]
    }
   ],
   "source": [
    "fib(6)"
   ]
  },
  {
   "cell_type": "code",
   "execution_count": 3,
   "metadata": {},
   "outputs": [],
   "source": [
    "def fib1(i_final):\n",
    "    serie = [0, 1]\n",
    "    if i_final==0:\n",
    "        print(0)\n",
    "    else:\n",
    "        print(\"0\")\n",
    "        print(\"1\")\n",
    "    i = 2\n",
    "    while(i < i_final):\n",
    "        new_fib = serie[-1] + serie[-2]\n",
    "        serie.append(new_fib)\n",
    "        i += 1\n",
    "        print(new_fib)     "
   ]
  },
  {
   "cell_type": "code",
   "execution_count": 7,
   "metadata": {},
   "outputs": [
    {
     "name": "stdout",
     "output_type": "stream",
     "text": [
      "0\n",
      "1\n"
     ]
    }
   ],
   "source": [
    "fib1(1)"
   ]
  },
  {
   "cell_type": "code",
   "execution_count": 10,
   "metadata": {},
   "outputs": [],
   "source": [
    "# Solution for recursive fibonacci without using lists\n",
    "def fibr(i, printit=True):\n",
    "    #i = n if i is None else i\n",
    "    #if i is None\n",
    "    if i == 0: \n",
    "        return 0\n",
    "    if i == 1:\n",
    "        if printit: \n",
    "            print(\"0\")\n",
    "            print(\"1\")\n",
    "        return 1\n",
    "    else:\n",
    "        val = fibr(i=i-1, printit=printit) + fibr(i=i-2, printit=False)\n",
    "        if printit: \n",
    "            print(val)\n",
    "        return val"
   ]
  },
  {
   "cell_type": "code",
   "execution_count": 11,
   "metadata": {},
   "outputs": [
    {
     "name": "stdout",
     "output_type": "stream",
     "text": [
      "0\n",
      "1\n",
      "1\n",
      "2\n",
      "3\n",
      "5\n"
     ]
    },
    {
     "data": {
      "text/plain": [
       "5"
      ]
     },
     "execution_count": 11,
     "metadata": {},
     "output_type": "execute_result"
    }
   ],
   "source": [
    "fibr(5)"
   ]
  },
  {
   "cell_type": "code",
   "execution_count": 113,
   "metadata": {},
   "outputs": [],
   "source": [
    "# m = maximum number we want to print\n",
    "# i = index we want to get\n",
    "def fibr1(m, i, printit=True):\n",
    "    if i == 0: \n",
    "        return 0\n",
    "    if i == 1 and i <= m:\n",
    "        if printit: \n",
    "            print(\"0\")\n",
    "            print(\"1\")\n",
    "        return 1\n",
    "    else:\n",
    "        val = fibr1(m, i=i-1, printit=printit) + fibr1(m, i=i-2, printit=False)\n",
    "        if val <= m and printit: \n",
    "            print(val)\n",
    "        return val"
   ]
  },
  {
   "cell_type": "code",
   "execution_count": 117,
   "metadata": {},
   "outputs": [
    {
     "name": "stdout",
     "output_type": "stream",
     "text": [
      "0\n",
      "1\n",
      "1\n",
      "2\n",
      "3\n",
      "5\n",
      "8\n",
      "13\n",
      "21\n",
      "34\n"
     ]
    },
    {
     "data": {
      "text/plain": [
       "34"
      ]
     },
     "execution_count": 117,
     "metadata": {},
     "output_type": "execute_result"
    }
   ],
   "source": [
    "fibr1(35,9)"
   ]
  },
  {
   "cell_type": "markdown",
   "metadata": {},
   "source": [
    "## 5. Build an Encoder and Decoder"
   ]
  },
  {
   "cell_type": "markdown",
   "metadata": {},
   "source": [
    "Create an encrypt function that takes a string and returns the sentence with all the letters transposed by a key in the alphabet. The key is an integer specfied in the encrypt function. Also write a decrypt function, which takes an encrypted sentence and a key as input and returns the initial string (if the key is correct!). Symbols should not be transposed!"
   ]
  },
  {
   "cell_type": "code",
   "execution_count": 45,
   "metadata": {},
   "outputs": [],
   "source": []
  },
  {
   "cell_type": "code",
   "execution_count": 12,
   "metadata": {},
   "outputs": [],
   "source": [
    "def encrypt(inp, key):\n",
    "    output = []\n",
    "    for letter in list(inp):\n",
    "        if letter.isalpha():  # Check that character is letter\n",
    "            newletter = chr(ord((letter)) + key)  # Transpose the stuff\n",
    "            \n",
    "            if newletter.isalpha\n",
    "            # print('New letter is %s' % newletter)\n",
    "        else:\n",
    "            newletter = letter\n",
    "        output.append(newletter)\n",
    "        #output = output + newletter\n",
    "    return ''.join(output)  # Making the list into a string again"
   ]
  },
  {
   "cell_type": "code",
   "execution_count": 14,
   "metadata": {},
   "outputs": [
    {
     "data": {
      "text/plain": [
       "'Jgnnq,encuu!Ctg {qw cycmg?'"
      ]
     },
     "execution_count": 14,
     "metadata": {},
     "output_type": "execute_result"
    }
   ],
   "source": [
    "encrypt(\"Hello,class!Are you awake?\", 2)"
   ]
  },
  {
   "cell_type": "code",
   "execution_count": null,
   "metadata": {},
   "outputs": [],
   "source": []
  },
  {
   "cell_type": "code",
   "execution_count": 15,
   "metadata": {},
   "outputs": [],
   "source": [
    "def decrypt(inp, key):\n",
    "    return encrypt(inp, -key)"
   ]
  },
  {
   "cell_type": "code",
   "execution_count": 16,
   "metadata": {},
   "outputs": [
    {
     "data": {
      "text/plain": [
       "'Hello,class!Are {ou awake?'"
      ]
     },
     "execution_count": 16,
     "metadata": {},
     "output_type": "execute_result"
    }
   ],
   "source": [
    "decrypt('Jgnnq,encuu!Ctg {qw cycmg?',2)"
   ]
  },
  {
   "cell_type": "code",
   "execution_count": 19,
   "metadata": {},
   "outputs": [
    {
     "data": {
      "text/plain": [
       "'Ich bin ein Star, holt mich hier raus!'"
      ]
     },
     "execution_count": 19,
     "metadata": {},
     "output_type": "execute_result"
    }
   ],
   "source": [
    "decrypt(encrypt(\"Ich bin ein Star, holt mich hier raus!\",3),3)"
   ]
  },
  {
   "cell_type": "markdown",
   "metadata": {},
   "source": [
    "## 6. Build a X-mas Tree generator"
   ]
  },
  {
   "cell_type": "markdown",
   "metadata": {},
   "source": [
    "Write a function which prints out a christmas tree! The tree consisits out of stars. The input to the function is only the number of levels and the height of each level. With each level, the tree gets two starts wider. Example:\n",
    "\n",
    "![](example_xmas_tree.png)"
   ]
  },
  {
   "cell_type": "code",
   "execution_count": 43,
   "metadata": {},
   "outputs": [],
   "source": [
    "levels = 3\n",
    "height_lvl = 5\n",
    "width = (1+(height_lvl-1)*2)+((levels-1)*2)"
   ]
  },
  {
   "cell_type": "code",
   "execution_count": 44,
   "metadata": {},
   "outputs": [
    {
     "data": {
      "text/plain": [
       "13"
      ]
     },
     "execution_count": 44,
     "metadata": {},
     "output_type": "execute_result"
    }
   ],
   "source": [
    "width"
   ]
  },
  {
   "cell_type": "code",
   "execution_count": 48,
   "metadata": {},
   "outputs": [
    {
     "name": "stdout",
     "output_type": "stream",
     "text": [
      "      *      \n",
      "     ***     \n",
      "    *****    \n",
      "   *******   \n",
      "  *********  \n",
      "     ***     \n",
      "    *****    \n",
      "   *******   \n",
      "  *********  \n",
      " *********** \n",
      "    *****    \n",
      "   *******   \n",
      "  *********  \n",
      " *********** \n",
      "*************\n"
     ]
    }
   ],
   "source": [
    "for i_levels in range(levels):\n",
    "    \n",
    "    for j_height_lvl in range(height_lvl):\n",
    "        \n",
    "        for k in range (width):\n",
    "            \n",
    "            if width//2-j_height_lvl-i_levels-1 < k <\\\n",
    "            width//2+j_height_lvl+i_levels+1: \n",
    "                print(\"*\", end='')\n",
    "            else:\n",
    "                print(\" \", end='')\n",
    "        print()"
   ]
  },
  {
   "cell_type": "code",
   "execution_count": 51,
   "metadata": {},
   "outputs": [
    {
     "data": {
      "text/plain": [
       "''"
      ]
     },
     "execution_count": 51,
     "metadata": {},
     "output_type": "execute_result"
    }
   ],
   "source": [
    "\"hdhdhd\"*-3"
   ]
  },
  {
   "cell_type": "code",
   "execution_count": 60,
   "metadata": {},
   "outputs": [
    {
     "data": {
      "text/plain": [
       "[1]"
      ]
     },
     "execution_count": 60,
     "metadata": {},
     "output_type": "execute_result"
    }
   ],
   "source": [
    "x = list(range(10))\n",
    "x[1::-10]"
   ]
  },
  {
   "cell_type": "code",
   "execution_count": null,
   "metadata": {},
   "outputs": [],
   "source": []
  }
 ],
 "metadata": {
  "kernelspec": {
   "display_name": "Python 3",
   "language": "python",
   "name": "python3"
  },
  "language_info": {
   "codemirror_mode": {
    "name": "ipython",
    "version": 3
   },
   "file_extension": ".py",
   "mimetype": "text/x-python",
   "name": "python",
   "nbconvert_exporter": "python",
   "pygments_lexer": "ipython3",
   "version": "3.5.2"
  }
 },
 "nbformat": 4,
 "nbformat_minor": 2
}
