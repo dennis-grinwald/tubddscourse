{
 "cells": [
  {
   "cell_type": "markdown",
   "metadata": {},
   "source": [
    "# Day 1 Exercise: Python Basics\n",
    "\n",
    "This sheet will help you learn the python basics!"
   ]
  },
  {
   "cell_type": "markdown",
   "metadata": {},
   "source": [
    "## 1. Build a List Evaluator"
   ]
  },
  {
   "cell_type": "markdown",
   "metadata": {},
   "source": [
    "Create a function, which calculates and prints out the maximum value, minimum value, average, and the variance of a list of numbers. (Try not to use the sum, max or min functions in python).\n",
    "\n",
    "(Quick reminder variance)\n",
    "![](variance-formula.png)"
   ]
  },
  {
   "cell_type": "code",
   "execution_count": 2,
   "metadata": {},
   "outputs": [],
   "source": [
    "# Your code here!      "
   ]
  },
  {
   "cell_type": "markdown",
   "metadata": {},
   "source": [
    "## 2.  Build a simple calculator\n",
    "\n",
    "Write a function, which takes in two numbers, x and y, and does a mathmatical operation of those numbers. The third input is the operation, which should be a string. Possible operations are: _\"add\"_, _\"subtract\"_, _\"multiply\"_, _\"divide\"_, _\"whole-division\"_ , _\"modulo\"_ and _\"power\"_ (x to the power of y). \n",
    "\n",
    "Your function should make sure the values x and y are of type _int_ or _float_. If the values x and y are not numbers, or the operation is not one of the listed ones, the function should print out a message with the error."
   ]
  },
  {
   "cell_type": "code",
   "execution_count": 3,
   "metadata": {},
   "outputs": [],
   "source": [
    "# Your code here!     "
   ]
  },
  {
   "cell_type": "markdown",
   "metadata": {},
   "source": [
    "## 3. Build an Invoice Generator\n",
    "\n",
    "Write a function, which prints out an invoice for an order for a supermarket. At the moment, the supermarket only has only 4 different products and prices for each: \n",
    "\n",
    "- Watermelons for 3.8\n",
    "- Apples  for 0.9 \n",
    "- Bananas for 1.1 \n",
    "- Tomatoes for 2.7\n",
    "\n",
    "Since the supermarket is pretty new, they have a special going on: If one buys more tomatoes than watermelons, the bananas are free! Else, if the price for all apples is higher than the price for all tomatoes, the watermelons are free! (weird special , I know).\n",
    "The input for the generator is: the name of the customer and number of each item bought. The generator should print out an invoice."
   ]
  },
  {
   "cell_type": "code",
   "execution_count": 4,
   "metadata": {},
   "outputs": [],
   "source": [
    "# Your code here!     "
   ]
  },
  {
   "cell_type": "markdown",
   "metadata": {},
   "source": [
    "## 4. Fibonnaci\n",
    "\n",
    "Write a function which calculates and prints the fibonacci series up to n. If that is too easy: Rewrite the function recursively (the function should call itself)."
   ]
  },
  {
   "cell_type": "code",
   "execution_count": 5,
   "metadata": {},
   "outputs": [],
   "source": [
    "# Your code here!     "
   ]
  },
  {
   "cell_type": "markdown",
   "metadata": {},
   "source": [
    "## 5. Build an Encoder and Decoder"
   ]
  },
  {
   "cell_type": "markdown",
   "metadata": {},
   "source": [
    "Create an encrypt function that takes a string and returns the sentence with all the letters transposed by a key in the alphabet. The key is an integer specfied in the encrypt function. Also write a decrypt function, which takes an encrypted sentence and a key as input and returns the initial string (if the key is correct!). Symbols should not be transposed!"
   ]
  },
  {
   "cell_type": "code",
   "execution_count": 6,
   "metadata": {},
   "outputs": [],
   "source": [
    "# Your code here!"
   ]
  },
  {
   "cell_type": "markdown",
   "metadata": {},
   "source": [
    "## 6. Build a X-mas Tree generator"
   ]
  },
  {
   "cell_type": "markdown",
   "metadata": {},
   "source": [
    "Write a function which prints out a christmas tree! The tree consisits out of stars. The input to the function is only the number of levels and the height of each level. With each level, the tree gets two starts wider. Example:\n",
    "\n",
    "![](example_xmas_tree.png)"
   ]
  },
  {
   "cell_type": "code",
   "execution_count": 7,
   "metadata": {},
   "outputs": [],
   "source": [
    "# Your code here!     "
   ]
  }
 ],
 "metadata": {
  "kernelspec": {
   "display_name": "Python 3",
   "language": "python",
   "name": "python3"
  },
  "language_info": {
   "codemirror_mode": {
    "name": "ipython",
    "version": 3
   },
   "file_extension": ".py",
   "mimetype": "text/x-python",
   "name": "python",
   "nbconvert_exporter": "python",
   "pygments_lexer": "ipython3",
   "version": "3.5.2"
  }
 },
 "nbformat": 4,
 "nbformat_minor": 2
}
