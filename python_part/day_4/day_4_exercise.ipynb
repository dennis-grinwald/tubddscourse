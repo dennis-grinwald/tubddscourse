{
 "cells": [
  {
   "cell_type": "markdown",
   "metadata": {},
   "source": [
    "# Day 4: Exercise \n",
    "\n",
    "This exercise covers more numpy functions and plotting with matplotlib.\n",
    "\n",
    "Docs: https://matplotlib.org/3.1.1/api/pyplot_summary.html"
   ]
  },
  {
   "cell_type": "markdown",
   "metadata": {},
   "source": [
    "## 1. Image plotting and manipulation"
   ]
  },
  {
   "cell_type": "code",
   "execution_count": null,
   "metadata": {},
   "outputs": [],
   "source": [
    "from scipy import misc\n",
    "import numpy as np\n",
    "import matplotlib.pyplot as plt\n",
    "import matplotlib.image as mping\n",
    "\n",
    "%matplotlib inline"
   ]
  },
  {
   "cell_type": "code",
   "execution_count": null,
   "metadata": {},
   "outputs": [],
   "source": [
    "# get a random picture \n",
    "face = misc.face()\n",
    "plt.imshow(face)\n",
    "type(face)"
   ]
  },
  {
   "cell_type": "markdown",
   "metadata": {},
   "source": [
    "__optional: use your own picture!__\n",
    "You can load it with:\n",
    "`mping.imread(\"NAME OF THE IMAGE\")`"
   ]
  },
  {
   "cell_type": "markdown",
   "metadata": {},
   "source": [
    "### 1.1 Rotate a picture\n",
    "\n",
    "Write a function which rotates a picture by a number of 90 degree angles (counter-clockwise). The function should check of the input angle is a multiple of 90. If not, print out a message!"
   ]
  },
  {
   "cell_type": "code",
   "execution_count": null,
   "metadata": {},
   "outputs": [],
   "source": [
    "def rotate_pic(pic, angle):\n",
    "    # YOUR CODE starts here!\n",
    "    # YOUR CODE ENDS here!\n",
    "rotate_pic_1(face, 90)"
   ]
  },
  {
   "cell_type": "markdown",
   "metadata": {},
   "source": [
    "### 1.2 Mirror a picture\n",
    "\n",
    "Write a function which mirrors a picture by the vertical or horizontal axis. Since there are only two possible axis, you can use a boolean to specify the angle."
   ]
  },
  {
   "cell_type": "code",
   "execution_count": null,
   "metadata": {},
   "outputs": [],
   "source": [
    "def mirror_pic(pic, vertical):\n",
    "    # YOUR CODE starts here!\n",
    "    # YOUR CODE ENDS here!\n",
    "mirror_pic(face, True)"
   ]
  },
  {
   "cell_type": "markdown",
   "metadata": {},
   "source": [
    "### 1.3 Make a picture black and white\n",
    "\n",
    "Write a function which makes the image black and white. You can change a pixel to gray by assigning the mean to all three color channels. Example: (0,50,100) becomes (50,50,50)"
   ]
  },
  {
   "cell_type": "code",
   "execution_count": null,
   "metadata": {},
   "outputs": [],
   "source": [
    "def black_n_white(pic):\n",
    "    # YOUR CODE starts here!\n",
    "    # YOUR CODE ENDS here!\n",
    "black_n_white(face)"
   ]
  },
  {
   "cell_type": "markdown",
   "metadata": {},
   "source": [
    "### 1.4 Zoom into a picture\n",
    "\n",
    "Write a function, which zooms into a given position (`x` and `y`), and cuts out a window of size `n` around that position. You should check that the x and y are withing the image, and also the window is within the image's borders. If not, print out a message.\n",
    "\n",
    "Plot the picture.\n",
    "\n",
    "Bonus: Draw a red square around the the zoomed part in the original picture, and plot both pics together. \n",
    "\n"
   ]
  },
  {
   "cell_type": "code",
   "execution_count": null,
   "metadata": {},
   "outputs": [],
   "source": [
    "def zoom_pic(pic, x, y, n, d=10):\n",
    "    # YOUR CODE starts here!\n",
    "\n",
    "    # YOUR CODE ENDS here!\n",
    "zoom_pic(face, 400, 600, 150)"
   ]
  },
  {
   "cell_type": "markdown",
   "metadata": {},
   "source": [
    "### 1.5 Advanced: Make Checkerboard Filter"
   ]
  },
  {
   "cell_type": "markdown",
   "metadata": {},
   "source": [
    "Write a function, which cuts the image into `n`x `m`  little pieces, and then arranges the pieces random into a new picture. The new picture should have the same size as the original pic."
   ]
  },
  {
   "cell_type": "code",
   "execution_count": null,
   "metadata": {},
   "outputs": [],
   "source": [
    "import random\n",
    "\n",
    "def checker_filter(pic, n, m):\n",
    "    # YOUR CODE Starts here!\n",
    "    \n",
    "    # YOUR CODE ENDS here!\n",
    "checker_filter(face, 3, 4) #equals 12 pieces"
   ]
  },
  {
   "cell_type": "markdown",
   "metadata": {},
   "source": [
    "## 2. Rearange a dataset of handwritten digits\n",
    "\n",
    "The dataset imported with `data.digits()` contains 1797 handwritten digits of size `8 x 8` flattened into arrays of size `64`. Rearange the array `X` in such a way, that the first 100 digits are visible in 10 x 10 grid.\n",
    "Some useful steps:\n",
    "- try to plot one digit first\n",
    "- try to find out how a image of one digit is flattened\n",
    "- `transpose()` and `reshape()` will be helpful!\n",
    "\n",
    "`Y` contains the labels, therefore you can use `Y` to check your result. "
   ]
  },
  {
   "cell_type": "code",
   "execution_count": null,
   "metadata": {},
   "outputs": [],
   "source": [
    "import data\n",
    "\n",
    "X, Y = data.digits() "
   ]
  },
  {
   "cell_type": "code",
   "execution_count": null,
   "metadata": {},
   "outputs": [],
   "source": [
    "X.shape, Y.shape"
   ]
  },
  {
   "cell_type": "code",
   "execution_count": null,
   "metadata": {},
   "outputs": [],
   "source": [
    "# YOUR CODE Starts here!\n",
    "    \n",
    "# YOUR CODE ENDS here!"
   ]
  },
  {
   "cell_type": "markdown",
   "metadata": {},
   "source": [
    "## 3 Analyze Dataset\n",
    "For our dataset from day 2 we want to make some graphs and display the distrubutions. For that we want to use numpy. Therefore, take the existing solution from day 2, and change all list of numerical values (test score) to numpy arrays.\n",
    "- the numpy function asarray() will be helpful!"
   ]
  },
  {
   "cell_type": "code",
   "execution_count": null,
   "metadata": {},
   "outputs": [],
   "source": [
    "data = "
   ]
  },
  {
   "cell_type": "markdown",
   "metadata": {},
   "source": [
    "### 3.1 BoxPlots\n",
    "We want to find the distribution of test scores for different ethnic group, and display the result with boxplots.\n",
    "- complete function `get_scores_for_ethnic_group(scoretype, data, ethnic_group)`, which returns all scores for a specified group. (`data` is the dictionary)\n",
    "- Make 4 boxplot (as subplots) comparing the different score types for the different ethnic groups.\n",
    "- Title each of the boxplot accordingly. \n",
    "- Label the boxes accordingly. \n",
    "- Titel the figure (using fig.subtitle) accordingly"
   ]
  },
  {
   "cell_type": "code",
   "execution_count": null,
   "metadata": {},
   "outputs": [],
   "source": [
    "from collections import defaultdict\n",
    "\n",
    "def get_scores_for_race(scoretype, data, race):\n",
    "    # YOUR CODE Starts here!\n",
    "    \n",
    "    # YOUR CODE ENDS here!\n",
    "    return scores"
   ]
  },
  {
   "cell_type": "code",
   "execution_count": null,
   "metadata": {},
   "outputs": [],
   "source": [
    "# Please plot something"
   ]
  },
  {
   "cell_type": "markdown",
   "metadata": {},
   "source": [
    "### 3.2 Bar Plot \n",
    "- complete the function `get_scores_for_gender(scoretype, data, 'gender')`\n",
    "- Plot the different mean scores for male and female for each test in one bar plot. \n",
    "- color the genders differently"
   ]
  },
  {
   "cell_type": "code",
   "execution_count": null,
   "metadata": {},
   "outputs": [],
   "source": [
    "def get_scores_for_gender(scoretype, data, gender):\n",
    "    \n",
    "    return scores"
   ]
  },
  {
   "cell_type": "code",
   "execution_count": null,
   "metadata": {},
   "outputs": [],
   "source": [
    "# Get plottin"
   ]
  },
  {
   "cell_type": "markdown",
   "metadata": {},
   "source": [
    "### 3.3 Histogram\n",
    "For each test, plot a histogram of the scores for male and female for only those that have completed the test preparation course.\n",
    "- complete the function get_scores_for_gender_prep(scoretype, data, gender)\n",
    "- plot all histograms as subplots in one figure\n",
    "- give proper titles and legends"
   ]
  },
  {
   "cell_type": "code",
   "execution_count": null,
   "metadata": {},
   "outputs": [],
   "source": [
    "def get_scores_for_gender_prep(scoretype, data, gender):\n",
    "     # YOUR CODE Starts here!\n",
    "    \n",
    "    # YOUR CODE ENDS here!\n",
    "    return scores"
   ]
  },
  {
   "cell_type": "code",
   "execution_count": null,
   "metadata": {},
   "outputs": [],
   "source": [
    "# here you may plot something"
   ]
  },
  {
   "cell_type": "markdown",
   "metadata": {},
   "source": [
    "### 3.4 Scatter Plots and Line Plots\n",
    "- Make a scatter plot comparing the reading scores to the writing scores for different parental education\n",
    "- Color the different markers depending on parental education"
   ]
  },
  {
   "cell_type": "code",
   "execution_count": null,
   "metadata": {},
   "outputs": [],
   "source": [
    "def get_scores_for_parental_education(scoretype, data, parental_education):\n",
    "    # YOUR CODE Starts here!\n",
    "    \n",
    "    # YOUR CODE ENDS here!\n",
    "    return scores"
   ]
  },
  {
   "cell_type": "code",
   "execution_count": null,
   "metadata": {},
   "outputs": [],
   "source": [
    "# almost done, just one more plot"
   ]
  },
  {
   "cell_type": "markdown",
   "metadata": {},
   "source": [
    "## 4 Advanced: Convert Dataset into numpy Array with one-hot-encoding:\n",
    "\n",
    "We want to convert the dataset of our students into a numpy array. Since some values are not numerical, we need to \"one-hot encode\" these values. That means, for every categorial value of a categorial column, we add a new column, with the categorial value as header. In that new column, we write a 1, if the previous value is equal to the header name. Here is an example:\n",
    "\n",
    "![](one-hot-encoding-example.png)\n",
    "\n",
    "This in necessary, since most algorithms can not work with labeled/categeorial data. Therefore we simply add new column to our dataset, which tells us if a category is present or not. \n",
    "\n",
    "- read our dataset in _\"NewStudentPerformance.csv\"_ into a dictionary (we already have that)\n",
    "- find the categorial features/column of our dataset.\n",
    "- for each categorial feature/column, replace it with n-columns, where n is the number of categories.\n",
    "- fill the new columns with 1 and 0, depending if the category is satisfied.\n",
    "- your final data container should be a single numpy array"
   ]
  },
  {
   "cell_type": "code",
   "execution_count": null,
   "metadata": {},
   "outputs": [],
   "source": []
  }
 ],
 "metadata": {
  "kernelspec": {
   "display_name": "Python 3",
   "language": "python",
   "name": "python3"
  },
  "language_info": {
   "codemirror_mode": {
    "name": "ipython",
    "version": 3
   },
   "file_extension": ".py",
   "mimetype": "text/x-python",
   "name": "python",
   "nbconvert_exporter": "python",
   "pygments_lexer": "ipython3",
   "version": "3.5.2"
  }
 },
 "nbformat": 4,
 "nbformat_minor": 2
}
