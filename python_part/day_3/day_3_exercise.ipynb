{
 "cells": [
  {
   "cell_type": "markdown",
   "metadata": {},
   "source": [
    "# Day 3 Exercise"
   ]
  },
  {
   "cell_type": "code",
   "execution_count": 2,
   "metadata": {},
   "outputs": [],
   "source": [
    "import numpy as np"
   ]
  },
  {
   "cell_type": "markdown",
   "metadata": {},
   "source": [
    "## 1. Write a Numpy Matrix Calculator\n",
    "\n",
    "Similar to the first exercise, finsih the function `numpy_calc(arr1, arr2, operation)`, which takes in two numpy arrays, and returns the result of an operation. Possible operations are: _\"add\"_, _\"subtract\"_, _\"multiplication\"_. For these operations, you need to check if the sizes of the two arrays are equal (We don't want to broadcast!).Multiplication also works if the columns of `arr1` are equal two the rows of `arr2`. If not, please print out a message.\n",
    "Other operations are: _sum_, _determinant_, _min_, _max_. Since these operation can only be applied to a single array, you should return a tuple containing the desired value for both arrays."
   ]
  },
  {
   "cell_type": "code",
   "execution_count": 9,
   "metadata": {},
   "outputs": [
    {
     "ename": "SyntaxError",
     "evalue": "unexpected EOF while parsing (<ipython-input-9-aadb11fec81e>, line 2)",
     "output_type": "error",
     "traceback": [
      "\u001b[0;36m  File \u001b[0;32m\"<ipython-input-9-aadb11fec81e>\"\u001b[0;36m, line \u001b[0;32m2\u001b[0m\n\u001b[0;31m    \u001b[0m\n\u001b[0m    ^\u001b[0m\n\u001b[0;31mSyntaxError\u001b[0m\u001b[0;31m:\u001b[0m unexpected EOF while parsing\n"
     ]
    }
   ],
   "source": [
    "def numpy_calc(arr1, arr2, operation):\n",
    "    #<---YOUR CODE HERE\n",
    "    \n",
    "    #<---YOUR CODE HERE\n"
   ]
  },
  {
   "cell_type": "markdown",
   "metadata": {},
   "source": [
    "## 2. Numpy Array Creation\n",
    "\n",
    "- Generate an array of length  3 x n  filled with the cyclic pattern 1, 2, 3.\n",
    "- Create an array of the first 10 odd integers.\n",
    "- Create a 10 x 10 arrays of zeros and then \"frame\" it with a border of ones.\n",
    "- Create an n x n array of zeros, where n must be odd. Then fill all axis (vertical, horizontal and diagonal) with ones\n",
    "- Create a n x n array, which represents a pyramid.Each entry represents a block. The value for each entry represents the height for the current block.  \n",
    "\n",
    "You don't need to write a function for each question"
   ]
  },
  {
   "cell_type": "code",
   "execution_count": null,
   "metadata": {},
   "outputs": [],
   "source": []
  },
  {
   "cell_type": "markdown",
   "metadata": {},
   "source": [
    "## 3. Numpy Chessboard\n",
    "\n",
    "Create an numpy array with size `8 x 8` and fill the array with 1s and 0s, so that they are arranged like a chessboard. Try to use slicing, but other methods will also work."
   ]
  },
  {
   "cell_type": "code",
   "execution_count": null,
   "metadata": {},
   "outputs": [],
   "source": []
  },
  {
   "cell_type": "code",
   "execution_count": null,
   "metadata": {},
   "outputs": [],
   "source": []
  },
  {
   "cell_type": "markdown",
   "metadata": {},
   "source": [
    "# 4 Numpy Indexing\n",
    "\n",
    "We want to quickly acquire some values from a matrix in numpy with numpy indexing. Therefore load the numpy array in the .txt file _\"numpy-array.txt\"_ with the numpy function `np.loadtxt()`. Docs are here:https://docs.scipy.org/doc/numpy/reference/generated/numpy.loadtxt.html. \n",
    "\n",
    "Afterwards answer following questions, and try to use only numpy functions:\n",
    "- how many values are above 90?\n",
    "- where are the indices of these values? Return the first 5 as a list of tuples(row-index, column-index)\n",
    "- how many values are dividable by 7?\n",
    "- what is the max value, and how many times is it in the array? Return a tuple (max_value,count)\n",
    "- are there any value with decimals? \n",
    "- are all values positive?\n",
    "\n",
    "fill the provided function blocks and return the result!"
   ]
  },
  {
   "cell_type": "code",
   "execution_count": 10,
   "metadata": {},
   "outputs": [],
   "source": [
    "matrix = np.loadtxt(\"numpy-array.txt\",dtype=np.dtype(float))\n",
    "\n",
    "# How many above 90?\n",
    "def question1():\n",
    "    #<---YOUR CODE HERE\n",
    "    #<---YOUR CODE HERE\n",
    "    return result\n",
    "\n",
    "# First 5 indices of values above 90\n",
    "def question2():\n",
    "    #<---YOUR CODE HERE\n",
    "    #<---YOUR CODE HERE\n",
    "    return resultList\n",
    "\n",
    "#how many values are dividable by 7\n",
    "def question3():\n",
    "    #<---YOUR CODE HERE\n",
    "    \n",
    "    #<---YOUR CODE HERE\n",
    "    return result\n",
    "\n",
    "# max value and count of max value\n",
    "def question4():\n",
    "    #<---YOUR CODE HERE\n",
    "    #<---YOUR CODE HERE\n",
    "    return (maxValue, countMaxValue)\n",
    "\n",
    "# are there any decimal values?\n",
    "def question5():\n",
    "    #<---YOUR CODE HERE\n",
    "    #<---YOUR CODE HERE\n",
    "    return resultBool\n",
    "\n",
    "# are all positive?\n",
    "def question6():\n",
    "    #<---YOUR CODE HERE\n",
    "    #<---YOUR CODE HERE\n",
    "    return resultBool"
   ]
  },
  {
   "cell_type": "code",
   "execution_count": 8,
   "metadata": {},
   "outputs": [],
   "source": [
    "# test your results\n",
    "question1()\n",
    "assert question1() == 1018\n",
    "\n",
    "question2()\n"
   ]
  },
  {
   "cell_type": "markdown",
   "metadata": {},
   "source": [
    "# 5 Python vs. Numpy\n",
    "\n",
    "We want to show how much faster numpy is than pure python when we do calculations on big data sets. Therefore we make a quick example, where we want to calculate the average and variance of distribution for students performamce of multiple tests.\n",
    "- Write a function `create_values_py(n, d)` which uses pure python to create a list of random values between 0-100 (including 100) for the number of tests, for each student. You should therefore return a list of `n`-tuples, where each tuple has `d`-entries\n",
    "- Write a function `create_values_np(n, d)` which uses only numpy functions to create an array of shape `n x d`, which is filled with random between 0-100 (including 100).\n",
    "- also create a function `create_values_np_from_py(values)`which take the python list of tuples and creates an array of the appropriate shape.\n",
    "- write a function `get_var_py(values)` which uses pure python to calculate the variance of the average student score of all tests.\n",
    "- write a function `get_var_ny(values)` which uses only numpy (no for loops, no list comprehension) to calculate the variance of the average student score of all tests.\n",
    "- compare the speed of these calculations for different `d`-values."
   ]
  },
  {
   "cell_type": "code",
   "execution_count": null,
   "metadata": {},
   "outputs": [],
   "source": [
    "import random\n",
    "import numpy as np\n",
    "\n",
    "def create_values_py(n, d):\n",
    "    # YOUR CODE HERE\n",
    "    return values\n",
    "\n",
    "def create_values_np(n, d):\n",
    "    # YOUR CODE HERE\n",
    "    return values\n",
    "\n",
    "def create_values_np_from_py(values):\n",
    "    # YOUR CODE HERE\n",
    "    return values\n",
    "\n",
    "def get_var_py(values):\n",
    "    # YOUR CODE HERE\n",
    "    return var\n",
    "\n",
    "def get_var_np(values):\n",
    "    # YOUR CODE HERE\n",
    "    return var\n",
    "\n",
    "# Check if both methods are equal\n",
    "values_py = create_values_py(20,10)\n",
    "values_np = create_values_np_from_py(values_py)\n",
    "assert get_var_py(values_py) == get_var_np(values_np)"
   ]
  },
  {
   "cell_type": "markdown",
   "metadata": {},
   "source": [
    "Next, we want to plot the performance for the python and numpy functions. Therefore, we are going to use the matplotlib, which we will introduce in the next lecture."
   ]
  },
  {
   "cell_type": "code",
   "execution_count": null,
   "metadata": {},
   "outputs": [],
   "source": [
    "import matplotlib\n",
    "from matplotlib import pyplot as plt\n",
    "%matplotlib inline\n",
    "from IPython.display import set_matplotlib_formats\n",
    "set_matplotlib_formats('pdf', 'png')\n",
    "plt.rcParams['savefig.dpi'] = 90\n",
    "import time"
   ]
  },
  {
   "cell_type": "code",
   "execution_count": null,
   "metadata": {},
   "outputs": [],
   "source": [
    "n = 1000\n",
    "dlist = [1,10, 20, 50, 100, 500, 1000]\n",
    "\n",
    "# Measure the computation time for each choice of number of dimensions d\n",
    "tlist_py = []\n",
    "tlist_np = []\n",
    "for d in dlist:\n",
    "    \n",
    "    values_py = create_values_py(n,d)\n",
    "    values_np = create_values_np_from_py(values_py)\n",
    "    \n",
    "    t1 = time.clock()\n",
    "    get_var_py(values_py)\n",
    "    t2 = time.clock()\n",
    "    tlist_py += [t2 - t1]\n",
    "    \n",
    "    t1 = time.clock()\n",
    "    get_var_np(values_np)\n",
    "    t2 = time.clock()\n",
    "    tlist_np += [t2 - t1]\n",
    "\n",
    "\n",
    "# plot the results in a line plot with matplotlib\n",
    "plt.figure(figsize=(5, 3))\n",
    "plt.plot(dlist, tlist_py, '-',c=\"b\")\n",
    "plt.plot(dlist, tlist_np, '-',c=\"r\")\n",
    "plt.xlim(dlist[0],dlist[-1])\n",
    "plt.xlabel('d')\n",
    "plt.ylabel('time');\n",
    "plt.grid(True)\n",
    "plt.legend((\"python\",\"numpy\"))\n",
    "plt.show()"
   ]
  },
  {
   "cell_type": "markdown",
   "metadata": {},
   "source": []
  },
  {
   "cell_type": "code",
   "execution_count": null,
   "metadata": {},
   "outputs": [],
   "source": []
  }
 ],
 "metadata": {
  "kernelspec": {
   "display_name": "Python 3",
   "language": "python",
   "name": "python3"
  },
  "language_info": {
   "codemirror_mode": {
    "name": "ipython",
    "version": 3
   },
   "file_extension": ".py",
   "mimetype": "text/x-python",
   "name": "python",
   "nbconvert_exporter": "python",
   "pygments_lexer": "ipython3",
   "version": "3.5.2"
  }
 },
 "nbformat": 4,
 "nbformat_minor": 2
}
