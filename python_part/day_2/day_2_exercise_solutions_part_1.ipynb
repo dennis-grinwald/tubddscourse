{
 "cells": [
  {
   "cell_type": "markdown",
   "metadata": {},
   "source": [
    "# Day 2: Python Advancd\n",
    "\n"
   ]
  },
  {
   "cell_type": "markdown",
   "metadata": {},
   "source": [
    "## 1. Making a decision\n",
    "\n",
    "The following decision tree is used in a (pretty bad) hospital to decide if a patient has \"more\" health risk or \"less\". \n",
    "\n",
    "![](tree1.png)"
   ]
  },
  {
   "cell_type": "markdown",
   "metadata": {},
   "source": [
    "### 1.1 Classify a patient\n",
    "\n",
    "* Create a function that takes as input a tuple containing values for attributes (smoker,age,diet), and computes the output of the decision tree. Should return `\"less\"` or `\"more\"`.\n",
    "* Test your function on the tuple `('yes', 31, 'good')`,"
   ]
  },
  {
   "cell_type": "code",
   "execution_count": 53,
   "metadata": {},
   "outputs": [],
   "source": [
    "def decision(x):\n",
    "    # >>>>> YOUR CODE HERE\n",
    "    if x[0]=='yes':\n",
    "        if x[1]<29.5:\n",
    "            return 'less'\n",
    "        else:\n",
    "            if x[2] ==\"good\":\n",
    "                return 'less'\n",
    "            else:\n",
    "                return 'more'\n",
    "    else:\n",
    "        if x[2]=='good':\n",
    "            return 'less'\n",
    "        else:\n",
    "            if x[1]>70:\n",
    "                return 'more'\n",
    "            else:\n",
    "                return 'less'\n",
    "    # <<<<< END YOUR CODE"
   ]
  },
  {
   "cell_type": "code",
   "execution_count": 54,
   "metadata": {},
   "outputs": [],
   "source": [
    "# Test\n",
    "x = ('yes', 31, 'good')\n",
    "assert decision(x) == 'less'"
   ]
  },
  {
   "cell_type": "markdown",
   "metadata": {},
   "source": [
    "### 1.2 Reading a dataset from a .txt file\n",
    "\n",
    "The file `health-test.txt` contains several fictious records of personal data and habits.\n",
    "\n",
    "* Read the file automatically using the methods introduced during the lecture.\n",
    "* Represent the dataset as a list of tuples. Make sure that the tuples have the same format as above, e.g. `('yes', 31, 'good')`.\n",
    "* Make extra note of the datatype of each element"
   ]
  },
  {
   "cell_type": "code",
   "execution_count": 55,
   "metadata": {},
   "outputs": [],
   "source": [
    "def gettest():\n",
    "    # >>>>> YOUR CODE HERE\n",
    "    with open('health-test.txt','r') as f:\n",
    "        D = list()\n",
    "        for line in f:\n",
    "            k = line[:-1].split(',')\n",
    "            t = (k[0],int(k[1]),k[2])\n",
    "            D.append(t)\n",
    "    return D\n",
    "    # <<<<< END YOUR CODE"
   ]
  },
  {
   "cell_type": "code",
   "execution_count": 56,
   "metadata": {},
   "outputs": [
    {
     "name": "stdout",
     "output_type": "stream",
     "text": [
      "[('yes', 21, 'poor'), ('no', 50, 'good'), ('no', 23, 'good'), ('no', 45, 'poor'), ('yes', 51, 'good'), ('no', 60, 'good'), ('no', 15, 'poor'), ('no', 18, 'good'), ('yes', 24, 'poor'), ('no', 55, 'good'), ('no', 37, 'good'), ('yes', 99, 'poor'), ('yes', 5, 'good'), ('no', 44, 'poor'), ('yes', 16, 'good'), ('no', 18, 'good'), ('no', 25, 'poor'), ('yes', 59, 'good'), ('no', 24, 'good'), ('yes', 45, 'good'), ('yes', 51, 'good'), ('no', 65, 'good'), ('yes', 15, 'poor'), ('no', 16, 'good'), ('yes', 24, 'poor'), ('no', 65, 'good'), ('no', 37, 'good'), ('no', 99, 'good'), ('no', 5, 'poor'), ('yes', 84, 'good'), ('no', 16, 'good'), ('no', 48, 'poor')]\n"
     ]
    }
   ],
   "source": [
    "print(gettest())"
   ]
  },
  {
   "cell_type": "markdown",
   "metadata": {},
   "source": [
    "### 1.3 Applying the decision tree to the dataset\n",
    "\n",
    "* Apply the decision tree to all points in the dataset, and return the ratio of them that are classified as \"more\"."
   ]
  },
  {
   "cell_type": "code",
   "execution_count": 57,
   "metadata": {},
   "outputs": [],
   "source": [
    "def evaluate_testset(D):\n",
    "    # >>>>> YOUR CODE HERE\n",
    "    return len([x for x in D if decision(x)=='more']) / len(D) # super short code... not always good!\n",
    "    # <<<<< END YOUR CODE"
   ]
  },
  {
   "cell_type": "code",
   "execution_count": 58,
   "metadata": {},
   "outputs": [
    {
     "name": "stdout",
     "output_type": "stream",
     "text": [
      "0.03125\n"
     ]
    }
   ],
   "source": [
    "print(evaluate_testset(gettest()))"
   ]
  },
  {
   "cell_type": "markdown",
   "metadata": {},
   "source": [
    "### 1.4 Build a DecisionMaker\n",
    "\n",
    "Write a class `DecisionMaker`, which can decide on a patient's health and is also capable to evaluate multiple patients. Also, we want to change the decision boundaries \n",
    "- write a class `DecisionMaker`, which sets the values `b1` and `b2` and `D` in the constructor. Default value for D is `None`\n",
    "- for this class, write the function `setBoundaries(b1,b2)` which sets the boundaries for the class again (setter)\n",
    "- write a setter for `D`\n",
    "- write a function `decision(x)` which makes a decision for the data point `x`. Check if `x` has the right format, and if `D` has been initialized.  Use the boundaries of the class\n",
    "- write a function `evaluate()` which gives the ratio of points of `D` classiefied as `more`."
   ]
  },
  {
   "cell_type": "code",
   "execution_count": 59,
   "metadata": {},
   "outputs": [],
   "source": [
    "class DecisionMaker:\n",
    "    \n",
    "    def __init__(self,b1,b2,D=None):\n",
    "        self.b1 = b1\n",
    "        self.b2 = b2\n",
    "        self.D = D\n",
    "        \n",
    "    def setData(self,D):\n",
    "        self.D = D\n",
    "        \n",
    "    def setBoundaries(self,b1,b2):\n",
    "        self.b1 = b1\n",
    "        self.b2 = b2\n",
    "        \n",
    "    def decision(self, x):\n",
    "        if self.D is not None:\n",
    "            if x[0]=='yes':\n",
    "                if x[1]<self.b1:\n",
    "                    return 'less'\n",
    "                elif x[2] ==\"good\":\n",
    "                    return 'less'\n",
    "                else:\n",
    "                    return 'more'\n",
    "            else:\n",
    "                if x[2]=='good':\n",
    "                    return 'less'\n",
    "                elif x[1]>self.b2:\n",
    "                    return 'more'\n",
    "                else:\n",
    "                    return 'less'\n",
    "        else:\n",
    "            print(\"Data has not been initialized\")\n",
    "            \n",
    "    def evaluate(self):\n",
    "        if self.D is not None:\n",
    "            A = [x for x in self.D if self.decision(x)=='more']\n",
    "            return len(A)/len(self.D)\n",
    "        else:\n",
    "            print(\"Data has not been initialized\")"
   ]
  },
  {
   "cell_type": "code",
   "execution_count": 60,
   "metadata": {},
   "outputs": [],
   "source": [
    "dm = DecisionMaker(10,30)\n",
    "dm.setData(gettest())\n",
    "\n",
    "assert(dm.evaluate() == 0.25)"
   ]
  },
  {
   "cell_type": "code",
   "execution_count": null,
   "metadata": {},
   "outputs": [],
   "source": []
  },
  {
   "cell_type": "markdown",
   "metadata": {},
   "source": [
    "## 2 Evaluate student performance\n",
    "\n",
    "In this exercise, we will read a dataset about the performance of students.  We will then use python to make some statements about the students."
   ]
  },
  {
   "cell_type": "markdown",
   "metadata": {},
   "source": [
    "### 2.1 Read the data from a .csv file\n",
    "\n",
    "Read the data of the StudentsPerformance.csv file, and store the value in a dictionary.\n",
    "- The keys of the dictionary should be the header of the csv file (first line of the .csv file!\n",
    "- The value for each key should be a list, containing the value for each student\n",
    "- All lists need to have the same length and should contain the order\n",
    "- The values which are numerical should be converted to `int`"
   ]
  },
  {
   "cell_type": "code",
   "execution_count": null,
   "metadata": {},
   "outputs": [],
   "source": [
    "def parse_csv(filename):\n",
    "    # >>>>> YOUR CODE HERE\n",
    "    \n",
    "    # <<<<< END YOUR CODE\n",
    "    return mydict"
   ]
  },
  {
   "cell_type": "markdown",
   "metadata": {},
   "source": [
    "### 2.2 Extend dataset and write .csv files\n",
    "\n",
    "Now, the dictionary dataset should be appended with a student ID for each student and new test scores from the Python Programming Test. \n",
    "- the ID should be a random 4-digit number. The ID of a student needs to be unique! (no repetition). Also, the id should be stored as a string.\n",
    "- the Python Programming score are in the file _PythonScores.csv_. The order of the students are the same as in the _StudentsPerformance.csv_.\n",
    "- When you have appended the dictionary, write the extended dataset into a new .csv file with the name: _NewStudentPerformance.csv_. This file should also contain the headers for the new values we have added.\n"
   ]
  },
  {
   "cell_type": "code",
   "execution_count": 12,
   "metadata": {},
   "outputs": [],
   "source": [
    "import random\n",
    "\n",
    "def add_ids(mydict):\n",
    "     # >>>>> YOUR CODE HERE\n",
    "    # <<<<< END YOUR CODE\n",
    "    \n",
    "add_ids(mydict)"
   ]
  },
  {
   "cell_type": "code",
   "execution_count": 13,
   "metadata": {},
   "outputs": [],
   "source": [
    "def add_python_scores(mydict):\n",
    "     # >>>>> YOUR CODE HERE\n",
    "    # <<<<< END YOUR CODE"
   ]
  },
  {
   "cell_type": "code",
   "execution_count": 14,
   "metadata": {},
   "outputs": [
    {
     "name": "stdout",
     "output_type": "stream",
     "text": [
      "dict_keys(['ids', 'gender', 'race/ethnicity', 'student count', 'python score', 'parental level of education', 'reading score', 'lunch', 'math score', 'writing score', 'test preparation course'])\n"
     ]
    }
   ],
   "source": [
    "add_python_scores(mydict)\n",
    "print(mydict.keys())"
   ]
  },
  {
   "cell_type": "code",
   "execution_count": 15,
   "metadata": {},
   "outputs": [],
   "source": [
    "def write_new_csv(mydict):\n",
    "     # >>>>> YOUR CODE HERE\n",
    "    # <<<<< END YOUR CODE"
   ]
  },
  {
   "cell_type": "markdown",
   "metadata": {},
   "source": [
    "### 2.3 Get some statistics of the dataset\n",
    "\n",
    "Finally we want to get a better understanding of the dataset. Therefore answer the following questions?\n",
    "- How many males and females are in the dataset? What is the ratio?\n",
    "- For each test, find the mean, min and max value and standard deviation (you can use built-ins)\n",
    "- For each parental education, get the percentage of students.\n",
    "- Who is the best student for each test?\n",
    "- Who has the best average of all tests?\n",
    "\n",
    "For each question, print out a message."
   ]
  },
  {
   "cell_type": "code",
   "execution_count": 16,
   "metadata": {},
   "outputs": [
    {
     "ename": "SyntaxError",
     "evalue": "invalid syntax (<ipython-input-16-62ac50bb76eb>, line 9)",
     "output_type": "error",
     "traceback": [
      "\u001b[0;36m  File \u001b[0;32m\"<ipython-input-16-62ac50bb76eb>\"\u001b[0;36m, line \u001b[0;32m9\u001b[0m\n\u001b[0;31m    print(f\"The number of males is {counterMale} while the number of females is {counterFemale}\")\u001b[0m\n\u001b[0m                                                                                               ^\u001b[0m\n\u001b[0;31mSyntaxError\u001b[0m\u001b[0;31m:\u001b[0m invalid syntax\n"
     ]
    }
   ],
   "source": [
    " # >>>>> YOUR CODE HERE\n",
    "# <<<<< END YOUR CODE"
   ]
  },
  {
   "cell_type": "markdown",
   "metadata": {},
   "source": [
    "## 3 More List Comprehension!!\n",
    "\n",
    "- Find all of the numbers from 1-1000 that are divisible by 7\n",
    "- Find all of the numbers from 1-1000 that have a 3 in them\n",
    "- Count the number of spaces in a string\n",
    "- Remove all of the vowels in a string\n",
    "- Find all of the words in a string that are less than 4 letters\n",
    "\n",
    "### Challenge:\n",
    "\n",
    "- Use a dictionary comprehension to count the length of each word in a sentence.\n",
    "- Use a nested list comprehension to find all of the numbers from 1-1000 that are divisible by any single digit besides 1 (2-9)\n",
    "- For all the numbers 1-1000, use a nested list/dictionary comprehension to find the highest single digit any of the numbers is divisible by"
   ]
  },
  {
   "cell_type": "code",
   "execution_count": null,
   "metadata": {},
   "outputs": [],
   "source": []
  },
  {
   "cell_type": "code",
   "execution_count": null,
   "metadata": {},
   "outputs": [],
   "source": []
  },
  {
   "cell_type": "code",
   "execution_count": null,
   "metadata": {},
   "outputs": [],
   "source": []
  },
  {
   "cell_type": "code",
   "execution_count": null,
   "metadata": {},
   "outputs": [],
   "source": []
  }
 ],
 "metadata": {
  "kernelspec": {
   "display_name": "Python 3",
   "language": "python",
   "name": "python3"
  },
  "language_info": {
   "codemirror_mode": {
    "name": "ipython",
    "version": 3
   },
   "file_extension": ".py",
   "mimetype": "text/x-python",
   "name": "python",
   "nbconvert_exporter": "python",
   "pygments_lexer": "ipython3",
   "version": "3.5.2"
  }
 },
 "nbformat": 4,
 "nbformat_minor": 2
}
