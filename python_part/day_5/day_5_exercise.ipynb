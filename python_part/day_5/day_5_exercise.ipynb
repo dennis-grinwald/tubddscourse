{
 "cells": [
  {
   "cell_type": "markdown",
   "metadata": {},
   "source": [
    "# Day 5 Pandas:\n",
    "\n",
    "This exercise is all about pandas!\n",
    "\n",
    "![](pandas.gif)"
   ]
  },
  {
   "cell_type": "code",
   "execution_count": 7,
   "metadata": {},
   "outputs": [],
   "source": [
    "import pandas as pd\n",
    "import numpy as np\n",
    "import matplotlib.pyplot as plt"
   ]
  },
  {
   "cell_type": "markdown",
   "metadata": {},
   "source": [
    "## 1 Create DataFrames\n",
    "\n",
    "We want to create some DataFrames with given structure, therefore fill the values with random numbers or categories.\n",
    "- create one Dataframe by joining two Series, one with the category fruits, which has at least 5 different fruits. the other Series represent the price\n",
    "- create a 24 x 7 numpy array, and build a DataFrame from it. The column index should be the days of the week, while the row index are the hours.\n",
    "- write a dictionary containing cities. The city's name should be the key, and the following tuple should be the value for each key: _(population, name_of_country, isCapital, size, location-lat, location-long,)_. (google some cities)"
   ]
  },
  {
   "cell_type": "code",
   "execution_count": null,
   "metadata": {},
   "outputs": [],
   "source": []
  },
  {
   "cell_type": "markdown",
   "metadata": {},
   "source": [
    "## 2 Analyze Data\n",
    "\n",
    "We want to analyze some data about some car seller. Therefore load the csv file _Automobile_data.csv_. Since the data is not fully clean, Replace all column values which contain ‘?’ and n.a with np.NaN.\n",
    "\n",
    "Afterwards answer the following questions:\n",
    "- whats the most expensive car's company name? Print out the car's name, company and price\n",
    "- Count total cars per company\n",
    "- Find each company’s Higesht price car\n",
    "- Find the average mileage of each car making company\n",
    "- Whats the average price for a Toyota?\n",
    "- do all Mercedes have more PS than Toyotas?\n"
   ]
  },
  {
   "cell_type": "markdown",
   "metadata": {},
   "source": [
    "## 3 Plotting\n",
    "\n",
    "Your employer wants to finally get to know his employers. Help him by reading the dataset in _employees.xlsx_ and creating the following plots:\n",
    "- a histogram for the distrubution of age, with bin size = 5\n",
    "- a bar chart showing the count for each country\n",
    "\n",
    "Also, find out the most frequent name of the employees. Whats the likelihood your employer will call the next worker by his correct name, assuming he only remembers one.\n"
   ]
  },
  {
   "cell_type": "markdown",
   "metadata": {},
   "source": [
    "## 4 One Hot Encoding with Pandas\n",
    "\n",
    "use the function `pandas.get_dummies()` to one-hot-encode our dataset in ¶_NewStudentPerformance.csv_. The documentation is here: https://pandas.pydata.org/pandas-docs/stable/reference/api/pandas.get_dummies.html. Create a sub-Dataframe, which holds only numerical values. Compare your result with the result in exercise 4.4. You will probably need to move some columns arround, to match the columns! \n",
    "Do I have the same encoding?\n"
   ]
  },
  {
   "cell_type": "markdown",
   "metadata": {},
   "source": [
    "## 4.1 Custom Index\n",
    "\n",
    "Extend our dataset with a custom Index, where the index should be the ID of the students. To make you implemented the Index correctly, try to acces students over their ID."
   ]
  },
  {
   "cell_type": "code",
   "execution_count": null,
   "metadata": {},
   "outputs": [],
   "source": []
  },
  {
   "cell_type": "markdown",
   "metadata": {},
   "source": [
    "## 5 Advanced: Crime Analyst\n",
    "\n",
    "You work for the CIS (or BND, just something kinda cool). Your task is to help to prevent crime using data. Therefore read the file _crime.csv_ (this is a very big file, might take some tim to load. You can also cut it by slicing it...) \n",
    "\n",
    "First:\n",
    "- remove the column \"SHOOTING\", \n",
    "- Clean the data, by droping all rows where the data is not complete\n",
    "\n",
    "fullfil the following tasks:\n",
    "\n",
    "- in a bar chart, plot the count for each crime type (use the column OFFENSE_CODE_GROUP)\n",
    "- whats the most crimeful day of the week? month? year?\n",
    "- show the average crimes per hour in a line chart(x-hour, y-avg no. crime)\n",
    "- for each district, find the street with the most crimes\n",
    "- For each district, predict the exact location for the next Robbery"
   ]
  },
  {
   "cell_type": "code",
   "execution_count": null,
   "metadata": {},
   "outputs": [],
   "source": []
  }
 ],
 "metadata": {
  "kernelspec": {
   "display_name": "Python 3",
   "language": "python",
   "name": "python3"
  },
  "language_info": {
   "codemirror_mode": {
    "name": "ipython",
    "version": 3
   },
   "file_extension": ".py",
   "mimetype": "text/x-python",
   "name": "python",
   "nbconvert_exporter": "python",
   "pygments_lexer": "ipython3",
   "version": "3.5.2"
  }
 },
 "nbformat": 4,
 "nbformat_minor": 2
}
