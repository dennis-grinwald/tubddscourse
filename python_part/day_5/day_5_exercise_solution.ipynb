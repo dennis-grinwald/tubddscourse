{
 "cells": [
  {
   "cell_type": "markdown",
   "metadata": {},
   "source": [
    "# Day 5 Pandas:\n",
    "\n",
    "This exercise is all about pandas!\n",
    "\n",
    "![](multi_panda.gif)"
   ]
  },
  {
   "cell_type": "code",
   "execution_count": 2,
   "metadata": {},
   "outputs": [],
   "source": [
    "import pandas as pd\n",
    "import numpy as np\n",
    "import matplotlib.pyplot as plt"
   ]
  },
  {
   "cell_type": "markdown",
   "metadata": {},
   "source": [
    "## 1 Create DataFrames\n",
    "\n",
    "We want to create some DataFrames with given structure, therefore fill the values with random numbers or categories.\n",
    "- create one Dataframe by joining two Series, one with the category fruits, which has at least 5 different fruits. the other Series represent the price\n",
    "- create a 24 x 7 numpy array, and build a DataFrame from it. The column index should be the days of the week, while the row index are the hours.\n",
    "- write a dictionary containing cities. The city's name should be the key, and the following tuple should be the value for each key: _(population, name-of-country, isCapital, size, location-lat, location-long)_ (google some cities)"
   ]
  },
  {
   "cell_type": "code",
   "execution_count": null,
   "metadata": {},
   "outputs": [],
   "source": [
    "# Problem 1\n",
    "fruits_categories = [\"apple\",\"banana\",\"watermelon\",\"orange\",\"dragon_fruit\",\"kaki\", \"kiwi\"]\n",
    "fruits_prices = np.round(np.random.rand(len(fruits_categories)) *10, decimals=2)\n",
    "\n",
    "s1 = pd.Series(fruits_categories, dtype=\"category\", name=\"name\")\n",
    "s2 = pd.Series(fruits_prices, name=\"price\")\n",
    "\n",
    "df = pd.concat([s1,s2],axis=1)\n",
    "df"
   ]
  },
  {
   "cell_type": "code",
   "execution_count": null,
   "metadata": {},
   "outputs": [],
   "source": [
    "# Problem 2\n",
    "data = np.random.rand(24,8) *10\n",
    "\n",
    "# not really what we are looking for\n",
    "#col_index = [pd.date_range(start=\"2020\", periods=7, freq=\"1D\")]\n",
    "\n",
    "# https://pandas.pydata.org/pandas-docs/stable/reference/api/pandas.Series.dt.day_name.html#pandas.Series.dt.day_name\n",
    "col_index = pd.date_range(start='2018-01-01', freq='D', periods=8).day_name() # had to look for this!\n",
    "row_index = pd.timedelta_range(start=0, periods=24, freq=\"1H\")\n",
    "\n",
    "df = pd.DataFrame(data, columns=col_index, index=row_index)\n",
    "df.head(3)"
   ]
  },
  {
   "cell_type": "code",
   "execution_count": null,
   "metadata": {},
   "outputs": [],
   "source": [
    "df[\"Monday\"]"
   ]
  },
  {
   "cell_type": "markdown",
   "metadata": {},
   "source": [
    "## 2 Analyze Data\n",
    "\n",
    "We want to analyze some data about some car seller. Therefore load the csv file *Automobile_data.csv*. Since the data is not fully clean, Replace all column values which contain ‘?’ and n.a with np.NaN.\n",
    "\n",
    "Afterwards answer the following questions:\n",
    "- whats the most expensive car's company name? Print out the car's index, company and price\n",
    "- Count total cars per company\n",
    "- Find each company’s Higesht price car\n",
    "- Find the average mileage for a car of a company\n",
    "- Whats the average price for a Toyota?\n",
    "- do all Mercedes have more PS than Toyotas?\n"
   ]
  },
  {
   "cell_type": "code",
   "execution_count": null,
   "metadata": {},
   "outputs": [],
   "source": [
    "df = pd.read_csv(\"Automobile_data.csv\")\n",
    "df = df.replace(\"?\",np.NaN)\n",
    "df.head(5)"
   ]
  },
  {
   "cell_type": "code",
   "execution_count": null,
   "metadata": {},
   "outputs": [],
   "source": [
    "#problem\n",
    "df.columns"
   ]
  },
  {
   "cell_type": "code",
   "execution_count": null,
   "metadata": {},
   "outputs": [],
   "source": [
    "# problem 1\n",
    "df[(df.price.max()==df.price)][['company',\"price\"]]"
   ]
  },
  {
   "cell_type": "code",
   "execution_count": null,
   "metadata": {},
   "outputs": [],
   "source": [
    "df.loc[df.price.idxmax(),['company',\"price\"]]"
   ]
  },
  {
   "cell_type": "code",
   "execution_count": null,
   "metadata": {},
   "outputs": [],
   "source": [
    "# problem 2\n",
    "df.company.value_counts()"
   ]
  },
  {
   "cell_type": "code",
   "execution_count": null,
   "metadata": {},
   "outputs": [],
   "source": [
    "# problem 3\n",
    "df.groupby(\"company\")[\"price\"].max()"
   ]
  },
  {
   "cell_type": "code",
   "execution_count": null,
   "metadata": {},
   "outputs": [],
   "source": [
    "# problem 3\n",
    "df.loc[df.groupby(\"company\")[\"price\"].idxmax()]"
   ]
  },
  {
   "cell_type": "code",
   "execution_count": null,
   "metadata": {},
   "outputs": [],
   "source": [
    "# problem 4\n",
    "df.groupby(\"company\")[\"average-mileage\"].mean()"
   ]
  },
  {
   "cell_type": "code",
   "execution_count": null,
   "metadata": {},
   "outputs": [],
   "source": [
    "# are all mercedes more expensive than volvos?"
   ]
  },
  {
   "cell_type": "code",
   "execution_count": null,
   "metadata": {},
   "outputs": [],
   "source": [
    "benz = df[(df.company == \"mercedes-benz\")][\"horsepower\"]\n",
    "volvo = df[(df.company == \"volvo\")][\"horsepower\"]"
   ]
  },
  {
   "cell_type": "code",
   "execution_count": null,
   "metadata": {},
   "outputs": [],
   "source": [
    "benz = benz.reset_index(drop=True)\n",
    "benz"
   ]
  },
  {
   "cell_type": "code",
   "execution_count": null,
   "metadata": {},
   "outputs": [],
   "source": [
    "volvo"
   ]
  },
  {
   "cell_type": "code",
   "execution_count": null,
   "metadata": {},
   "outputs": [],
   "source": [
    "benz.min() > volvo.max() "
   ]
  },
  {
   "cell_type": "code",
   "execution_count": null,
   "metadata": {},
   "outputs": [],
   "source": []
  },
  {
   "cell_type": "code",
   "execution_count": null,
   "metadata": {},
   "outputs": [],
   "source": [
    "df.columns"
   ]
  },
  {
   "cell_type": "markdown",
   "metadata": {},
   "source": [
    "## 3 Plotting\n",
    "\n",
    "Your employer wants to finally get to know his employers. Help him by reading the dataset in _employees.xlsx_ and creating the following plots:\n",
    "- a histogram for the distrubution of age, with bin size = 5\n",
    "- a bar chart showing the count for each country\n",
    "\n",
    "Also, find out the most frequent name of the employees. Whats the likelihood your employer will call the next worker by his correct name? Assume he only remembers the most frequent one.\n"
   ]
  },
  {
   "cell_type": "code",
   "execution_count": null,
   "metadata": {},
   "outputs": [],
   "source": [
    "df_employ = pd.read_excel(\"employees.xlsx\")\n",
    "\n",
    "df_employ.hist(\"Age\",bins=20)\n",
    "plt.xlim(0,100)\n",
    "plt.grid(False)\n",
    "plt.show()"
   ]
  },
  {
   "cell_type": "code",
   "execution_count": null,
   "metadata": {},
   "outputs": [],
   "source": [
    "df_employ.Country.value_counts().plot.bar(color=[\"r\",\"g\",\"b\"])\n",
    "\n",
    "#labels = series_counts_country.index\n",
    "#pos = [0,1,2]\n",
    "\n",
    "#plt.bar(pos,series_counts_country, color =[\"r\",\"g\",\"b\"])\n",
    "#plt.xticks(pos,labels)\n",
    "#plt.ylabel(\"Count\")\n",
    "#plt.title(\"Workers per country\")\n",
    "plt.show()"
   ]
  },
  {
   "cell_type": "code",
   "execution_count": null,
   "metadata": {},
   "outputs": [],
   "source": [
    "# Most frequent name\n",
    "df_employ = df_employ.drop_duplicates(\"Id\")\n",
    "1/df_employ[\"Last Name\"].value_counts().size*100\n",
    "#df_employ.columns"
   ]
  },
  {
   "cell_type": "markdown",
   "metadata": {},
   "source": [
    "## 4 One Hot Encoding with Pandas\n",
    "\n",
    "use the function `pandas.get_dummies()` to one-hot-encode our dataset in _NewStudentPerformance.csv_. The documentation is here: https://pandas.pydata.org/pandas-docs/stable/reference/api/pandas.get_dummies.html. Create a sub-Dataframe, which holds only numerical values. Compare your result with the result in exercise 4.4. You will probably need to move some columns arround, to match the columns! \n",
    "Do I have the same encoding?\n"
   ]
  },
  {
   "cell_type": "code",
   "execution_count": null,
   "metadata": {},
   "outputs": [],
   "source": [
    "# hot encoding\n",
    "df_stu = pd.read_csv(\"NewStudentPerformance.csv\")\n",
    "#print(df_stu.dtypes)\n",
    "cols_num = df_stu.select_dtypes(\"int64\").columns\n",
    "\n",
    "cols_cat = df_stu.select_dtypes(\"object\").columns\n",
    "\n",
    "\n",
    "cols_cat = cols_cat.drop(\"ids\")\n",
    "\n",
    "print(cols_cat)\n",
    "\n",
    "hot_data = pd.get_dummies(df_stu, columns=cols_cat)\n",
    "hot_data.head(2)\n",
    "\n",
    "# necessary for comparison\n",
    "hot_data = hot_data.reindex(sorted(hot_data.columns), axis=1)\n",
    "hot_data = hot_data.drop(\"ids\", axis=1)\n",
    "hot_data = hot_data.astype(\"uint8\")\n",
    "\n",
    "# compare to hot from file\n",
    "hot_df2 = pd.read_csv(\"../day_4/hot_data.csv\", dtype=\"uint8\")\n",
    "hot_df2 = hot_df2.reindex(sorted(hot_df2.columns), axis=1)\n",
    "#hot_df2.dtypes"
   ]
  },
  {
   "cell_type": "code",
   "execution_count": null,
   "metadata": {},
   "outputs": [],
   "source": [
    "hot_df2.equals(hot_data)"
   ]
  },
  {
   "cell_type": "markdown",
   "metadata": {},
   "source": [
    "## 4.1 Custom Index\n",
    "\n",
    "Extend our dataset with a custom Index, where the index should be the ID of the students. To make sure you implemented the `Index` correctly, try to access students over their ID."
   ]
  },
  {
   "cell_type": "code",
   "execution_count": 9,
   "metadata": {},
   "outputs": [
    {
     "data": {
      "text/plain": [
       "python score                                  89\n",
       "writing score                                 74\n",
       "lunch                                   standard\n",
       "race/ethnicity                           group B\n",
       "gender                                    female\n",
       "reading score                                 72\n",
       "parental level of education    bachelor's degree\n",
       "math score                                    72\n",
       "test preparation course                     none\n",
       "Name: '6480', dtype: object"
      ]
     },
     "execution_count": 9,
     "metadata": {},
     "output_type": "execute_result"
    }
   ],
   "source": [
    "df_stu_new = pd.read_csv(\"NewStudentPerformance.csv\")\n",
    "new_index = df_stu_new[\"ids\"]\n",
    "df_stu_new = df_stu_new.set_index(new_index)\n",
    "df_stu_new = df_stu_new.drop(\"ids\", axis=1)\n",
    "df_stu_new.loc[\"'6480'\"]\n",
    "#df_stu_new.dtypes"
   ]
  },
  {
   "cell_type": "markdown",
   "metadata": {},
   "source": [
    "## 5 Advanced: Crime Analyst\n",
    "\n",
    "You work for the CIS (or BND, just something kinda cool). Your task is to help to prevent crime using data. Therefore read the file _crime.csv_ (this is a very big file, might take some tim to load. You can also cut it by slicing it...) \n",
    "\n",
    "First:\n",
    "- remove the column \"SHOOTING\", \n",
    "- Clean the data, by droping all rows where the data is not complete\n",
    "\n",
    "fulfill the following tasks:\n",
    "\n",
    "- in a bar chart, plot the count for each crime type (use the column OFFENSE_CODE_GROUP)\n",
    "- whats the most crimeful day of the week? month? year?\n",
    "- show the average crimes per hour in a line chart(x-hour, y-avg no. crime)\n",
    "- for each district, find the street with the most crimes\n",
    "- For each district, predict the exact location for the next Robbery!"
   ]
  },
  {
   "cell_type": "code",
   "execution_count": 11,
   "metadata": {},
   "outputs": [],
   "source": [
    "# read data and clean\n",
    "df = pd.read_csv(\"crime2.csv\")\n",
    "df = df.drop(\"SHOOTING\",axis=1)\n",
    "df = df.dropna(how='any')"
   ]
  },
  {
   "cell_type": "code",
   "execution_count": 19,
   "metadata": {},
   "outputs": [
    {
     "data": {
      "image/png": "[encoded data removed]",
      "text/plain": [
       "<Figure size 720x720 with 1 Axes>"
      ]
     },
     "metadata": {
      "needs_background": "light"
     },
     "output_type": "display_data"
    }
   ],
   "source": [
    "plt.figure(figsize=(10,10))\n",
    "\n",
    "df.OFFENSE_CODE_GROUP.value_counts().plot.bar(title=\"Crime Frequencies\")\n",
    "\n",
    "#labels = crime_type_count.index\n",
    "#pos = list(range(len(labels)))\n",
    "\n",
    "\n",
    "#plt.bar(pos,crime_type_count)\n",
    "#plt.xticks(pos,labels,rotation='90')\n",
    "plt.ylabel(\"Count\")\n",
    "#plt.title(\"Crime Frequencies\")\n",
    "plt.show()"
   ]
  },
  {
   "cell_type": "code",
   "execution_count": 20,
   "metadata": {},
   "outputs": [
    {
     "data": {
      "text/plain": [
       "'Friday'"
      ]
     },
     "execution_count": 20,
     "metadata": {},
     "output_type": "execute_result"
    }
   ],
   "source": [
    "# most crimeful day of the week\n",
    "df[\"DAY_OF_WEEK\"].value_counts().idxmax()"
   ]
  },
  {
   "cell_type": "code",
   "execution_count": 21,
   "metadata": {},
   "outputs": [
    {
     "data": {
      "text/plain": [
       "8"
      ]
     },
     "execution_count": 21,
     "metadata": {},
     "output_type": "execute_result"
    }
   ],
   "source": [
    "# most crimeful YEAR\n",
    "df[\"MONTH\"].value_counts().idxmax()"
   ]
  },
  {
   "cell_type": "code",
   "execution_count": 22,
   "metadata": {},
   "outputs": [
    {
     "data": {
      "text/plain": [
       "2017"
      ]
     },
     "execution_count": 22,
     "metadata": {},
     "output_type": "execute_result"
    }
   ],
   "source": [
    "# most crimeful day of the week\n",
    "df[\"YEAR\"].value_counts().idxmax()"
   ]
  },
  {
   "cell_type": "code",
   "execution_count": null,
   "metadata": {},
   "outputs": [],
   "source": [
    "# plot average number of crimes per hour"
   ]
  },
  {
   "cell_type": "code",
   "execution_count": 23,
   "metadata": {},
   "outputs": [
    {
     "data": {
      "image/png": "[encoded data removed]",
      "text/plain": [
       "<Figure size 432x288 with 1 Axes>"
      ]
     },
     "metadata": {
      "needs_background": "light"
     },
     "output_type": "display_data"
    }
   ],
   "source": [
    "df.HOUR.value_counts().sort_index(ascending=True).plot()\n",
    "#x = y.index\n",
    "\n",
    "#plt.plot(x,y)\n",
    "plt.show()"
   ]
  },
  {
   "cell_type": "code",
   "execution_count": null,
   "metadata": {},
   "outputs": [],
   "source": [
    "# for each district, find the street with the most crimes"
   ]
  },
  {
   "cell_type": "code",
   "execution_count": 26,
   "metadata": {},
   "outputs": [
    {
     "data": {
      "text/plain": [
       "DISTRICT\n",
       "A1         (A1, WASHINGTON ST)\n",
       "A15      (A15, BUNKER HILL ST)\n",
       "A7             (A7, BORDER ST)\n",
       "B2         (B2, WASHINGTON ST)\n",
       "B3         (B3, BLUE HILL AVE)\n",
       "C11      (C11, DORCHESTER AVE)\n",
       "C6     (C6, MASSACHUSETTS AVE)\n",
       "D14    (D14, COMMONWEALTH AVE)\n",
       "D4           (D4, BOYLSTON ST)\n",
       "E13           (E13, CENTRE ST)\n",
       "E18       (E18, HYDE PARK AVE)\n",
       "E5         (E5, WASHINGTON ST)\n",
       "Name: STREET, dtype: object"
      ]
     },
     "execution_count": 26,
     "metadata": {},
     "output_type": "execute_result"
    }
   ],
   "source": [
    "df1 = df.groupby(\"DISTRICT\")[\"STREET\"].value_counts().groupby([\"DISTRICT\"]).idxmax()\n",
    "#districts = df1.index\n",
    "df1"
   ]
  },
  {
   "cell_type": "code",
   "execution_count": 27,
   "metadata": {},
   "outputs": [
    {
     "data": {
      "text/html": [
       "<div>\n",
       "<style scoped>\n",
       "    .dataframe tbody tr th:only-of-type {\n",
       "        vertical-align: middle;\n",
       "    }\n",
       "\n",
       "    .dataframe tbody tr th {\n",
       "        vertical-align: top;\n",
       "    }\n",
       "\n",
       "    .dataframe thead th {\n",
       "        text-align: right;\n",
       "    }\n",
       "</style>\n",
       "<table border=\"1\" class=\"dataframe\">\n",
       "  <thead>\n",
       "    <tr style=\"text-align: right;\">\n",
       "      <th></th>\n",
       "      <th>Lat</th>\n",
       "      <th>Long</th>\n",
       "    </tr>\n",
       "    <tr>\n",
       "      <th>DISTRICT</th>\n",
       "      <th></th>\n",
       "      <th></th>\n",
       "    </tr>\n",
       "  </thead>\n",
       "  <tbody>\n",
       "    <tr>\n",
       "      <th>A1</th>\n",
       "      <td>42.355363</td>\n",
       "      <td>-71.060495</td>\n",
       "    </tr>\n",
       "    <tr>\n",
       "      <th>A15</th>\n",
       "      <td>42.377127</td>\n",
       "      <td>-71.061156</td>\n",
       "    </tr>\n",
       "    <tr>\n",
       "      <th>A7</th>\n",
       "      <td>42.376805</td>\n",
       "      <td>-71.032605</td>\n",
       "    </tr>\n",
       "    <tr>\n",
       "      <th>B2</th>\n",
       "      <td>42.263631</td>\n",
       "      <td>-70.992904</td>\n",
       "    </tr>\n",
       "    <tr>\n",
       "      <th>B3</th>\n",
       "      <td>42.286576</td>\n",
       "      <td>-71.086255</td>\n",
       "    </tr>\n",
       "    <tr>\n",
       "      <th>C11</th>\n",
       "      <td>42.299111</td>\n",
       "      <td>-71.063906</td>\n",
       "    </tr>\n",
       "    <tr>\n",
       "      <th>C6</th>\n",
       "      <td>42.331370</td>\n",
       "      <td>-71.055793</td>\n",
       "    </tr>\n",
       "    <tr>\n",
       "      <th>D14</th>\n",
       "      <td>42.351837</td>\n",
       "      <td>-71.139972</td>\n",
       "    </tr>\n",
       "    <tr>\n",
       "      <th>D4</th>\n",
       "      <td>42.342590</td>\n",
       "      <td>-71.080167</td>\n",
       "    </tr>\n",
       "    <tr>\n",
       "      <th>E13</th>\n",
       "      <td>42.317205</td>\n",
       "      <td>-71.104789</td>\n",
       "    </tr>\n",
       "    <tr>\n",
       "      <th>E18</th>\n",
       "      <td>42.263523</td>\n",
       "      <td>-71.116131</td>\n",
       "    </tr>\n",
       "    <tr>\n",
       "      <th>E5</th>\n",
       "      <td>42.284742</td>\n",
       "      <td>-71.136809</td>\n",
       "    </tr>\n",
       "  </tbody>\n",
       "</table>\n",
       "</div>"
      ],
      "text/plain": [
       "                Lat       Long\n",
       "DISTRICT                      \n",
       "A1        42.355363 -71.060495\n",
       "A15       42.377127 -71.061156\n",
       "A7        42.376805 -71.032605\n",
       "B2        42.263631 -70.992904\n",
       "B3        42.286576 -71.086255\n",
       "C11       42.299111 -71.063906\n",
       "C6        42.331370 -71.055793\n",
       "D14       42.351837 -71.139972\n",
       "D4        42.342590 -71.080167\n",
       "E13       42.317205 -71.104789\n",
       "E18       42.263523 -71.116131\n",
       "E5        42.284742 -71.136809"
      ]
     },
     "execution_count": 27,
     "metadata": {},
     "output_type": "execute_result"
    }
   ],
   "source": [
    "## get the average for each district \n",
    "\n",
    "## create data frame where \n",
    "\n",
    "df3 = df[df.OFFENSE_CODE_GROUP==\"Robbery\"]\n",
    "#df3 = df.groupby(\"DISTRICT\")[[\"OFFENSE_CODE_GROUP\"]==\"Robbery\"].mean()\n",
    "df3.groupby(\"DISTRICT\")[\"Lat\",\"Long\"].mean()"
   ]
  },
  {
   "cell_type": "code",
   "execution_count": null,
   "metadata": {},
   "outputs": [],
   "source": [
    "df.columns"
   ]
  }
 ],
 "metadata": {
  "kernelspec": {
   "display_name": "Python 3",
   "language": "python",
   "name": "python3"
  },
  "language_info": {
   "codemirror_mode": {
    "name": "ipython",
    "version": 3
   },
   "file_extension": ".py",
   "mimetype": "text/x-python",
   "name": "python",
   "nbconvert_exporter": "python",
   "pygments_lexer": "ipython3",
   "version": "3.5.2"
  }
 },
 "nbformat": 4,
 "nbformat_minor": 2
}
