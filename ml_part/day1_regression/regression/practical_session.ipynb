{
 "cells": [
  {
   "cell_type": "markdown",
   "metadata": {},
   "source": [
    "# Gradient Descent in pratice\n",
    "\n",
    "<img src=\"resources/gradient_descent.gif\"  />"
   ]
  },
  {
   "cell_type": "code",
   "execution_count": null,
   "metadata": {},
   "outputs": [],
   "source": []
  },
  {
   "cell_type": "code",
   "execution_count": 1,
   "metadata": {},
   "outputs": [],
   "source": [
    "import numpy as np\n",
    "import pandas as pd\n",
    "import matplotlib.pyplot as plt"
   ]
  },
  {
   "cell_type": "code",
   "execution_count": 2,
   "metadata": {},
   "outputs": [],
   "source": [
    "# Given data\n",
    "X = 2.5 * np.random.rand(100) + 1.5   \n",
    "res = 0.2 * np.random.randn(100)\n",
    "Y = 0.3 * X + res"
   ]
  },
  {
   "cell_type": "code",
   "execution_count": 4,
   "metadata": {},
   "outputs": [
    {
     "data": {
      "text/plain": [
       "(100,)"
      ]
     },
     "execution_count": 4,
     "metadata": {},
     "output_type": "execute_result"
    }
   ],
   "source": [
    "X.shape"
   ]
  },
  {
   "cell_type": "code",
   "execution_count": 3,
   "metadata": {},
   "outputs": [
    {
     "data": {
      "text/plain": [
       "<matplotlib.collections.PathCollection at 0x7fc096b50278>"
      ]
     },
     "execution_count": 3,
     "metadata": {},
     "output_type": "execute_result"
    },
    {
     "data": {
      "image/png": "[encoded data removed]",
      "text/plain": [
       "<Figure size 432x288 with 1 Axes>"
      ]
     },
     "metadata": {
      "needs_background": "light"
     },
     "output_type": "display_data"
    }
   ],
   "source": [
    "plt.scatter(X,Y)"
   ]
  },
  {
   "cell_type": "markdown",
   "metadata": {},
   "source": [
    "# Q1: Implement Gradient descent and plot resulting regression line and data points\n",
    "\n",
    "#### 1. implement mse loss function, compare your results with sklearns mse function\n",
    "documentation: https://scikit-learn.org/stable/modules/generated/sklearn.metrics.mean_squared_error.html\n",
    "\n",
    "$MSE_{matrix} = \\frac{1}{2N} \\lvert \\lvert \\mathbf{X}w_{1} - \\mathbf{y} \\lvert \\lvert^{2} $\n",
    "\n",
    "\n",
    "#### HINT: \n",
    "---\n",
    "$\\lvert \\lvert \\mathbf{X}w_{1} - \\mathbf{y} \\lvert \\lvert^{2} = (\\mathbf{X}w - \\mathbf{y})^{T}(\\mathbf{X}w - \\mathbf{y})$ \n",
    "#### 2. implement gradient descent algorithm\n",
    "#### Algorithm pseudo-code\n",
    "---\n",
    "```python\n",
    "Initialize w(0)=100\n",
    "for step in range(training steps):\n",
    "    w(t+1) = w(t) - alpha * grad( J( w(t) ) ) \n",
    "    mse = mse(w(t+1))\n",
    "    print(mse)\n",
    "```\n",
    "#### Hints: \n",
    "---\n",
    "- Start with a w value of 100\n",
    "- grad( J( w(t) ) ) = ($\\nabla_{w_{1}} MSE$)\n",
    "\n",
    "$\\nabla_{w_{1}} MSE = \\frac{w_{1}\\mathbf{X^{T}X} - \\mathbf{X^{T}y}}{N}$\n",
    "##### 3. run gradient descent for 100 training iterations with a learning rate alpha = [0.05, 0.01, 0.005] and plot the mse-error(y-axis) over the number of training iterations(x-axis) for each alpha"
   ]
  },
  {
   "cell_type": "code",
   "execution_count": 56,
   "metadata": {},
   "outputs": [],
   "source": [
    "def mse(X, w1, Y_true):\n",
    "    \n",
    "    \n",
    "    return mse"
   ]
  },
  {
   "cell_type": "code",
   "execution_count": 60,
   "metadata": {},
   "outputs": [],
   "source": [
    "def gradient_descent(X, Y, training_itrs, alpha):\n",
    "    \n",
    "    w = 100\n",
    "    mse_error = []\n",
    "    \n",
    "    \n",
    "    return w"
   ]
  },
  {
   "cell_type": "markdown",
   "metadata": {},
   "source": [
    "# Q2. Use sklearn to compare multiple different linear regression algorithms\n",
    "## Data Science use case : Real estate analysis\n",
    "Use your training data to predict the housing prices\n",
    "\n",
    "## TODO:\n",
    "---\n",
    "##### 1. Split data into training and test set\n",
    "- shuffle the data\n",
    "- 80 % training set, 20 % test set\n",
    "- use numpy\n",
    "- at the end you should have: x_train, y_train, x_test, y_test\n",
    "\n",
    "##### 2. Separate labels(house price) from rest of the data\n",
    "##### 3. Fill in missing values and drop categorical ones\n",
    "##### 4. Train model using the following regression methods from sklearn:\n",
    "- Linear Regression\n",
    "- Ridge Regression\n",
    "- ElasticNet\n",
    "Documentation: https://scikit-learn.org/stable/modules/linear_model.html\n",
    "\n",
    "##### 5. Compute MSE and residual error on test set for each method\n",
    "##### 6. Compute the average house price\n",
    "##### 7. Compute the max. house prize\n",
    "##### 8. Compute the min. house prize\n",
    "##### 9. Compute histogram of house prices\n",
    "##### 10. Compute percentage of house prices higher than 1 mio. and plot histogram of those above 1 mio.\n",
    "##### 11. Which object offers the most rooms ? Whats the prize ?\n",
    "##### 12. How much do you, on average, pay for a room ? \n",
    "\n",
    "### Just FYI:\n",
    "---\n",
    "Formula for multidimensional linear regression:\n",
    "\n",
    "\n",
    "Loss = $\\frac{1}{N} \\lvert\\lvert \\mathbf{X}\\mathbf{w}-\\mathbf{y} \\lvert\\lvert^{2}$\n",
    "\n",
    "$\\mathbf{X}\\epsilon\\mathbb{R^{Nxd}}$,\n",
    "$\\mathbf{w}\\epsilon\\mathbb{R^{dx1}}$,\n",
    "$\\mathbf{y}\\epsilon\\mathbb{R^{Nx1}}$"
   ]
  },
  {
   "cell_type": "code",
   "execution_count": 140,
   "metadata": {},
   "outputs": [
    {
     "data": {
      "text/html": [
       "<div>\n",
       "<style scoped>\n",
       "    .dataframe tbody tr th:only-of-type {\n",
       "        vertical-align: middle;\n",
       "    }\n",
       "\n",
       "    .dataframe tbody tr th {\n",
       "        vertical-align: top;\n",
       "    }\n",
       "\n",
       "    .dataframe thead th {\n",
       "        text-align: right;\n",
       "    }\n",
       "</style>\n",
       "<table border=\"1\" class=\"dataframe\">\n",
       "  <thead>\n",
       "    <tr style=\"text-align: right;\">\n",
       "      <th></th>\n",
       "      <th>Avg. Area Income</th>\n",
       "      <th>Avg. Area House Age</th>\n",
       "      <th>Avg. Area Number of Rooms</th>\n",
       "      <th>Avg. Area Number of Bedrooms</th>\n",
       "      <th>Area Population</th>\n",
       "      <th>Price</th>\n",
       "      <th>Address</th>\n",
       "    </tr>\n",
       "  </thead>\n",
       "  <tbody>\n",
       "    <tr>\n",
       "      <th>0</th>\n",
       "      <td>79545.458574</td>\n",
       "      <td>5.682861</td>\n",
       "      <td>7.009188</td>\n",
       "      <td>4.09</td>\n",
       "      <td>23086.800503</td>\n",
       "      <td>1.059034e+06</td>\n",
       "      <td>208 Michael Ferry Apt. 674\\nLaurabury, NE 3701...</td>\n",
       "    </tr>\n",
       "    <tr>\n",
       "      <th>1</th>\n",
       "      <td>79248.642455</td>\n",
       "      <td>6.002900</td>\n",
       "      <td>6.730821</td>\n",
       "      <td>3.09</td>\n",
       "      <td>40173.072174</td>\n",
       "      <td>1.505891e+06</td>\n",
       "      <td>188 Johnson Views Suite 079\\nLake Kathleen, CA...</td>\n",
       "    </tr>\n",
       "    <tr>\n",
       "      <th>2</th>\n",
       "      <td>61287.067179</td>\n",
       "      <td>5.865890</td>\n",
       "      <td>8.512727</td>\n",
       "      <td>5.13</td>\n",
       "      <td>36882.159400</td>\n",
       "      <td>1.058988e+06</td>\n",
       "      <td>9127 Elizabeth Stravenue\\nDanieltown, WI 06482...</td>\n",
       "    </tr>\n",
       "    <tr>\n",
       "      <th>3</th>\n",
       "      <td>63345.240046</td>\n",
       "      <td>7.188236</td>\n",
       "      <td>5.586729</td>\n",
       "      <td>3.26</td>\n",
       "      <td>34310.242831</td>\n",
       "      <td>1.260617e+06</td>\n",
       "      <td>USS Barnett\\nFPO AP 44820</td>\n",
       "    </tr>\n",
       "    <tr>\n",
       "      <th>4</th>\n",
       "      <td>59982.197226</td>\n",
       "      <td>5.040555</td>\n",
       "      <td>7.839388</td>\n",
       "      <td>4.23</td>\n",
       "      <td>26354.109472</td>\n",
       "      <td>6.309435e+05</td>\n",
       "      <td>USNS Raymond\\nFPO AE 09386</td>\n",
       "    </tr>\n",
       "  </tbody>\n",
       "</table>\n",
       "</div>"
      ],
      "text/plain": [
       "   Avg. Area Income  Avg. Area House Age  Avg. Area Number of Rooms  \\\n",
       "0      79545.458574             5.682861                   7.009188   \n",
       "1      79248.642455             6.002900                   6.730821   \n",
       "2      61287.067179             5.865890                   8.512727   \n",
       "3      63345.240046             7.188236                   5.586729   \n",
       "4      59982.197226             5.040555                   7.839388   \n",
       "\n",
       "   Avg. Area Number of Bedrooms  Area Population         Price  \\\n",
       "0                          4.09     23086.800503  1.059034e+06   \n",
       "1                          3.09     40173.072174  1.505891e+06   \n",
       "2                          5.13     36882.159400  1.058988e+06   \n",
       "3                          3.26     34310.242831  1.260617e+06   \n",
       "4                          4.23     26354.109472  6.309435e+05   \n",
       "\n",
       "                                             Address  \n",
       "0  208 Michael Ferry Apt. 674\\nLaurabury, NE 3701...  \n",
       "1  188 Johnson Views Suite 079\\nLake Kathleen, CA...  \n",
       "2  9127 Elizabeth Stravenue\\nDanieltown, WI 06482...  \n",
       "3                          USS Barnett\\nFPO AP 44820  \n",
       "4                         USNS Raymond\\nFPO AE 09386  "
      ]
     },
     "execution_count": 140,
     "metadata": {},
     "output_type": "execute_result"
    }
   ],
   "source": [
    "data = pd.read_csv('data/USA_Housing.csv')\n",
    "data.head()"
   ]
  },
  {
   "cell_type": "code",
   "execution_count": 141,
   "metadata": {},
   "outputs": [],
   "source": [
    "from sklearn.linear_model import LinearRegression\n",
    "from sklearn.metrics import mean_squared_error"
   ]
  },
  {
   "cell_type": "code",
   "execution_count": 142,
   "metadata": {},
   "outputs": [],
   "source": []
  },
  {
   "cell_type": "code",
   "execution_count": 143,
   "metadata": {},
   "outputs": [],
   "source": []
  },
  {
   "cell_type": "markdown",
   "metadata": {},
   "source": [
    "# Q3: Non-linear regression"
   ]
  },
  {
   "cell_type": "markdown",
   "metadata": {},
   "source": [
    "### Apply linear regression methods on provided dataset"
   ]
  },
  {
   "cell_type": "code",
   "execution_count": 171,
   "metadata": {},
   "outputs": [],
   "source": [
    "X = 2.5 * np.random.rand(100) + 1.5   \n",
    "res = 0.2 * np.random.randn(100)\n",
    "Y = 0.3 * X**10 + res"
   ]
  },
  {
   "cell_type": "code",
   "execution_count": 172,
   "metadata": {},
   "outputs": [
    {
     "data": {
      "text/plain": [
       "<matplotlib.collections.PathCollection at 0x7f7dd13b4668>"
      ]
     },
     "execution_count": 172,
     "metadata": {},
     "output_type": "execute_result"
    },
    {
     "data": {
      "image/png": "[encoded data removed]",
      "text/plain": [
       "<Figure size 432x288 with 1 Axes>"
      ]
     },
     "metadata": {
      "needs_background": "light"
     },
     "output_type": "display_data"
    }
   ],
   "source": [
    "plt.scatter(X,Y)"
   ]
  },
  {
   "cell_type": "markdown",
   "metadata": {},
   "source": [
    "### Non-linear regression algorithms\n",
    "\n",
    "Luckily there exist some non-linear regression algorithms that we can use instead:\n",
    "\n",
    "#### Support Vector Regression:: \n",
    "https://scikit-learn.org/stable/auto_examples/svm/plot_svm_regression.html\n",
    "\n",
    "#### TODO:\n",
    "----\n",
    "\n",
    "1. Use noted algorithm to fit the data, play arround with different kernels and other hyperparameters(like shown in the link above)\n",
    "\n",
    "2. Plot the regression line together with the data"
   ]
  },
  {
   "cell_type": "code",
   "execution_count": 173,
   "metadata": {},
   "outputs": [],
   "source": []
  },
  {
   "cell_type": "code",
   "execution_count": 174,
   "metadata": {},
   "outputs": [],
   "source": []
  },
  {
   "cell_type": "code",
   "execution_count": 180,
   "metadata": {},
   "outputs": [],
   "source": []
  },
  {
   "cell_type": "code",
   "execution_count": null,
   "metadata": {},
   "outputs": [],
   "source": []
  },
  {
   "cell_type": "code",
   "execution_count": null,
   "metadata": {},
   "outputs": [],
   "source": []
  },
  {
   "cell_type": "markdown",
   "metadata": {},
   "source": [
    "# Q5: Apply learned methods on 1 dataset of your choice(optional)\n",
    "Datasets and kernels can be found here: https://www.kaggle.com/"
   ]
  },
  {
   "cell_type": "code",
   "execution_count": null,
   "metadata": {},
   "outputs": [],
   "source": []
  },
  {
   "cell_type": "code",
   "execution_count": null,
   "metadata": {},
   "outputs": [],
   "source": []
  },
  {
   "cell_type": "code",
   "execution_count": null,
   "metadata": {},
   "outputs": [],
   "source": []
  }
 ],
 "metadata": {
  "kernelspec": {
   "display_name": "Python 3",
   "language": "python",
   "name": "python3"
  },
  "language_info": {
   "codemirror_mode": {
    "name": "ipython",
    "version": 3
   },
   "file_extension": ".py",
   "mimetype": "text/x-python",
   "name": "python",
   "nbconvert_exporter": "python",
   "pygments_lexer": "ipython3",
   "version": "3.6.9"
  }
 },
 "nbformat": 4,
 "nbformat_minor": 2
}
