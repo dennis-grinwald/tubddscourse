{
 "cells": [
  {
   "cell_type": "markdown",
   "metadata": {},
   "source": [
    "# Gradient Descent in pratice\n",
    "\n",
    "<img src=\"resources/gradient_descent.gif\"  />"
   ]
  },
  {
   "cell_type": "code",
   "execution_count": 5,
   "metadata": {},
   "outputs": [],
   "source": [
    "import numpy as np\n",
    "import pandas as pd\n",
    "import matplotlib.pyplot as plt"
   ]
  },
  {
   "cell_type": "code",
   "execution_count": 6,
   "metadata": {},
   "outputs": [],
   "source": [
    "# Given data\n",
    "X = 2.5 * np.random.rand(100) + 1.5   \n",
    "res = 0.2 * np.random.randn(100)\n",
    "Y = 0.3 * X + res"
   ]
  },
  {
   "cell_type": "markdown",
   "metadata": {},
   "source": [
    "# Q1: Implement Gradient descent and plot resulting regression line and data points\n",
    "\n",
    "#### 1. implement mse loss function, compare your results with sklearns mse function\n",
    "$MSE_{matrix} = \\frac{1}{2N} \\lvert \\lvert \\mathbf{X}w_{1} - \\mathbf{y} \\lvert \\lvert^{2} $\n",
    "\n",
    "\n",
    "#### HINT: \n",
    "---\n",
    "$\\lvert \\lvert \\mathbf{X}w_{1} - \\mathbf{y} \\lvert \\lvert^{2} = (\\mathbf{X}w - \\mathbf{y})^{T}(\\mathbf{X}w - \\mathbf{y})$ \n",
    "#### 2. implement gradient descent algorithm\n",
    "#### Algorithm pseudo-code\n",
    "---\n",
    "```python\n",
    "initialize w(0) = 100\n",
    "for step in range(training steps):\n",
    "    w(t+1) = w(t) - alpha * grad( J( w(t) ) ) \n",
    "    mse = mse(w(t+1))\n",
    "    print(mse)\n",
    "```\n",
    "#### Hints: \n",
    "---\n",
    "- Start with a w value of 100\n",
    "- grad( J( w(t) ) ) = ($\\nabla_{w_{1}} MSE$)\n",
    "\n",
    "$\\nabla_{w_{1}} MSE = w_{1}\\mathbf{X^{T}X} - \\mathbf{X^{T}y}$\n",
    "##### 3. run gradient descent for 100 training iterations with a learning rate alpha = [0.05, 0.01, 0.005] and plot the mse-error(y-axis) over the number of training iterations(x-axis) for each alpha"
   ]
  },
  {
   "cell_type": "code",
   "execution_count": 56,
   "metadata": {},
   "outputs": [],
   "source": [
    "def mse(X, w1, Y_true):\n",
    "    return np.dot((X*w1 - Y_true).T, (X*w1 - Y_true)) / len(X)"
   ]
  },
  {
   "cell_type": "code",
   "execution_count": 57,
   "metadata": {},
   "outputs": [
    {
     "data": {
      "text/plain": [
       "0.37049867389264335"
      ]
     },
     "execution_count": 57,
     "metadata": {},
     "output_type": "execute_result"
    }
   ],
   "source": [
    "mse(X,0.5,Y)"
   ]
  },
  {
   "cell_type": "code",
   "execution_count": 58,
   "metadata": {},
   "outputs": [],
   "source": [
    "from sklearn.metrics import mean_squared_error"
   ]
  },
  {
   "cell_type": "code",
   "execution_count": 59,
   "metadata": {},
   "outputs": [
    {
     "data": {
      "text/plain": [
       "0.37049867389264335"
      ]
     },
     "execution_count": 59,
     "metadata": {},
     "output_type": "execute_result"
    }
   ],
   "source": [
    "mean_squared_error(Y, X*0.5)"
   ]
  },
  {
   "cell_type": "code",
   "execution_count": 60,
   "metadata": {},
   "outputs": [],
   "source": [
    "def gradient_descent(X, Y, training_itrs, alpha):\n",
    "    \n",
    "    w = 100\n",
    "    error = []\n",
    "    \n",
    "    for i in range(training_itrs):\n",
    "        \n",
    "        delta_J = (1/(len(X) * 2)) * w * np.dot(X.T, X) - np.dot(X.T, Y)\n",
    "        \n",
    "        w = w - alpha * delta_J\n",
    "        \n",
    "        error.append(mse(X, w, Y))\n",
    "    \n",
    "    plt.plot(error)\n",
    "    \n",
    "    return w"
   ]
  },
  {
   "cell_type": "code",
   "execution_count": 68,
   "metadata": {},
   "outputs": [
    {
     "data": {
      "text/plain": [
       "64.7755259436589"
      ]
     },
     "execution_count": 68,
     "metadata": {},
     "output_type": "execute_result"
    },
    {
     "data": {
      "image/png": "[encoded data removed]",
      "text/plain": [
       "<Figure size 432x288 with 1 Axes>"
      ]
     },
     "metadata": {
      "needs_background": "light"
     },
     "output_type": "display_data"
    }
   ],
   "source": [
    "gradient_descent(X, Y, 100, 0.005)"
   ]
  },
  {
   "cell_type": "markdown",
   "metadata": {},
   "source": [
    "# Q2. Use sklearn to compare multiple different linear regression algorithms\n",
    "## Data Science use case : Real estate analysis\n",
    "\n",
    "## TODO:\n",
    "---\n",
    "##### 1. Split data into training and test set\n",
    "- shuffle the data\n",
    "- 80 % training set, 20 % test set\n",
    "- use numpy\n",
    "- at the end you should have: x_train, y_train, x_test, y_test\n",
    "##### 2. Separate labels(house price) from rest of the data\n",
    "##### 3. Fill in missing values and drop categorical ones\n",
    "##### 4. Train model using the following regression methods from sklearn:\n",
    "- Linear Regression\n",
    "- Ridge Regression\n",
    "- ElasticNet\n",
    "Documentation: https://scikit-learn.org/stable/modules/linear_model.html\n",
    "\n",
    "##### 5. Compute MSE and residual error on test set for each method\n",
    "##### 6. Compute the average house price\n",
    "##### 7. Compute the max. house prize\n",
    "##### 8. Compute the min. house prize\n",
    "##### 9. Compute histogram of house prices\n",
    "##### 10. Compute percentage of house prices higher than 1 mio. and plot histogram of those above 1 mio.\n",
    "##### 11. Which object offers the most rooms ? Whats the prize ?\n",
    "##### 12. How much do you, on average, pay for a room ? \n",
    "\n",
    "### Just FYI:\n",
    "---\n",
    "Formula for multidimensional linear regression:\n",
    "\n",
    "\n",
    "Loss = $\\frac{1}{N} \\lvert\\lvert \\mathbf{X}\\mathbf{w}-\\mathbf{y} \\lvert\\lvert^{2}$\n",
    "\n",
    "$\\mathbf{X}\\epsilon\\mathbb{R^{Nxd}}$,\n",
    "$\\mathbf{w}\\epsilon\\mathbb{R^{dx1}}$,\n",
    "$\\mathbf{y}\\epsilon\\mathbb{R^{Nx1}}$"
   ]
  },
  {
   "cell_type": "code",
   "execution_count": 140,
   "metadata": {},
   "outputs": [
    {
     "data": {
      "text/html": [
       "<div>\n",
       "<style scoped>\n",
       "    .dataframe tbody tr th:only-of-type {\n",
       "        vertical-align: middle;\n",
       "    }\n",
       "\n",
       "    .dataframe tbody tr th {\n",
       "        vertical-align: top;\n",
       "    }\n",
       "\n",
       "    .dataframe thead th {\n",
       "        text-align: right;\n",
       "    }\n",
       "</style>\n",
       "<table border=\"1\" class=\"dataframe\">\n",
       "  <thead>\n",
       "    <tr style=\"text-align: right;\">\n",
       "      <th></th>\n",
       "      <th>Avg. Area Income</th>\n",
       "      <th>Avg. Area House Age</th>\n",
       "      <th>Avg. Area Number of Rooms</th>\n",
       "      <th>Avg. Area Number of Bedrooms</th>\n",
       "      <th>Area Population</th>\n",
       "      <th>Price</th>\n",
       "      <th>Address</th>\n",
       "    </tr>\n",
       "  </thead>\n",
       "  <tbody>\n",
       "    <tr>\n",
       "      <th>0</th>\n",
       "      <td>79545.458574</td>\n",
       "      <td>5.682861</td>\n",
       "      <td>7.009188</td>\n",
       "      <td>4.09</td>\n",
       "      <td>23086.800503</td>\n",
       "      <td>1.059034e+06</td>\n",
       "      <td>208 Michael Ferry Apt. 674\\nLaurabury, NE 3701...</td>\n",
       "    </tr>\n",
       "    <tr>\n",
       "      <th>1</th>\n",
       "      <td>79248.642455</td>\n",
       "      <td>6.002900</td>\n",
       "      <td>6.730821</td>\n",
       "      <td>3.09</td>\n",
       "      <td>40173.072174</td>\n",
       "      <td>1.505891e+06</td>\n",
       "      <td>188 Johnson Views Suite 079\\nLake Kathleen, CA...</td>\n",
       "    </tr>\n",
       "    <tr>\n",
       "      <th>2</th>\n",
       "      <td>61287.067179</td>\n",
       "      <td>5.865890</td>\n",
       "      <td>8.512727</td>\n",
       "      <td>5.13</td>\n",
       "      <td>36882.159400</td>\n",
       "      <td>1.058988e+06</td>\n",
       "      <td>9127 Elizabeth Stravenue\\nDanieltown, WI 06482...</td>\n",
       "    </tr>\n",
       "    <tr>\n",
       "      <th>3</th>\n",
       "      <td>63345.240046</td>\n",
       "      <td>7.188236</td>\n",
       "      <td>5.586729</td>\n",
       "      <td>3.26</td>\n",
       "      <td>34310.242831</td>\n",
       "      <td>1.260617e+06</td>\n",
       "      <td>USS Barnett\\nFPO AP 44820</td>\n",
       "    </tr>\n",
       "    <tr>\n",
       "      <th>4</th>\n",
       "      <td>59982.197226</td>\n",
       "      <td>5.040555</td>\n",
       "      <td>7.839388</td>\n",
       "      <td>4.23</td>\n",
       "      <td>26354.109472</td>\n",
       "      <td>6.309435e+05</td>\n",
       "      <td>USNS Raymond\\nFPO AE 09386</td>\n",
       "    </tr>\n",
       "  </tbody>\n",
       "</table>\n",
       "</div>"
      ],
      "text/plain": [
       "   Avg. Area Income  Avg. Area House Age  Avg. Area Number of Rooms  \\\n",
       "0      79545.458574             5.682861                   7.009188   \n",
       "1      79248.642455             6.002900                   6.730821   \n",
       "2      61287.067179             5.865890                   8.512727   \n",
       "3      63345.240046             7.188236                   5.586729   \n",
       "4      59982.197226             5.040555                   7.839388   \n",
       "\n",
       "   Avg. Area Number of Bedrooms  Area Population         Price  \\\n",
       "0                          4.09     23086.800503  1.059034e+06   \n",
       "1                          3.09     40173.072174  1.505891e+06   \n",
       "2                          5.13     36882.159400  1.058988e+06   \n",
       "3                          3.26     34310.242831  1.260617e+06   \n",
       "4                          4.23     26354.109472  6.309435e+05   \n",
       "\n",
       "                                             Address  \n",
       "0  208 Michael Ferry Apt. 674\\nLaurabury, NE 3701...  \n",
       "1  188 Johnson Views Suite 079\\nLake Kathleen, CA...  \n",
       "2  9127 Elizabeth Stravenue\\nDanieltown, WI 06482...  \n",
       "3                          USS Barnett\\nFPO AP 44820  \n",
       "4                         USNS Raymond\\nFPO AE 09386  "
      ]
     },
     "execution_count": 140,
     "metadata": {},
     "output_type": "execute_result"
    }
   ],
   "source": [
    "data = pd.read_csv('data/USA_Housing.csv')\n",
    "data.head()"
   ]
  },
  {
   "cell_type": "code",
   "execution_count": 141,
   "metadata": {},
   "outputs": [],
   "source": [
    "from sklearn.model_selection import train_test_split\n",
    "from sklearn.linear_model import LinearRegression\n",
    "from sklearn.metrics import mean_squared_error"
   ]
  },
  {
   "cell_type": "code",
   "execution_count": 142,
   "metadata": {},
   "outputs": [],
   "source": [
    "# using pandas\n",
    "x_train, y_train, x_test, y_test = train_test_split(data.iloc[:,:5], data.iloc[:,5], test_size=0.2, shuffle=True)"
   ]
  },
  {
   "cell_type": "code",
   "execution_count": 143,
   "metadata": {},
   "outputs": [],
   "source": [
    "# numpy\n",
    "indices = np.random.permutation(data.shape[0])\n",
    "train_indices = indices[:int(len(data)*0.8)] \n",
    "test_indices = indices[int(len(data)*0.8):]\n",
    "\n",
    "x_train, y_train, x_test, y_test = data.iloc[train_indices,:5], data.iloc[train_indices,5], data.iloc[test_indices,:5], data.iloc[test_indices,5]"
   ]
  },
  {
   "cell_type": "code",
   "execution_count": null,
   "metadata": {},
   "outputs": [],
   "source": []
  },
  {
   "cell_type": "code",
   "execution_count": null,
   "metadata": {},
   "outputs": [],
   "source": []
  },
  {
   "cell_type": "code",
   "execution_count": 144,
   "metadata": {},
   "outputs": [
    {
     "name": "stdout",
     "output_type": "stream",
     "text": [
      "Train residuals: 1.1082738637924194e-06\n",
      "Test residuals: -1473707.961686373\n",
      "Train MSE: 10301344708.082394\n",
      "Test MSE: 9906907169.206278\n"
     ]
    }
   ],
   "source": [
    "model = LinearRegression()\n",
    "model = model.fit(x_train, y_train)\n",
    "train_predictions = model.predict(x_train)\n",
    "test_predictions = model.predict(x_test)\n",
    "\n",
    "print(f'Train residuals: {np.sum(y_train - train_predictions)}')\n",
    "print(f'Test residuals: {np.sum(y_test - test_predictions)}')\n",
    "\n",
    "print(f'Train MSE: {mean_squared_error(y_train, train_predictions)}')\n",
    "print(f'Test MSE: {mean_squared_error(y_test, test_predictions)}')"
   ]
  },
  {
   "cell_type": "code",
   "execution_count": null,
   "metadata": {},
   "outputs": [],
   "source": []
  },
  {
   "cell_type": "code",
   "execution_count": null,
   "metadata": {},
   "outputs": [],
   "source": []
  },
  {
   "cell_type": "code",
   "execution_count": 113,
   "metadata": {},
   "outputs": [
    {
     "name": "stdout",
     "output_type": "stream",
     "text": [
      "2469065.5941747027\n",
      "15938.657923287848\n",
      "1232072.654142357\n"
     ]
    }
   ],
   "source": [
    "# solution 6, 7, 8\n",
    "max_prize = data['Price'].max()\n",
    "min_prize = data['Price'].min()\n",
    "avg_prize = data['Price'].mean()\n",
    "\n",
    "print(max_prize)\n",
    "print(min_prize)\n",
    "print(avg_prize)"
   ]
  },
  {
   "cell_type": "code",
   "execution_count": 114,
   "metadata": {},
   "outputs": [
    {
     "data": {
      "image/png": "[encoded data removed]",
      "text/plain": [
       "<Figure size 432x288 with 1 Axes>"
      ]
     },
     "metadata": {
      "needs_background": "light"
     },
     "output_type": "display_data"
    }
   ],
   "source": [
    "# solution 9\n",
    "plt.hist(data['Price'])\n",
    "plt.xlabel('House prices')\n",
    "plt.ylabel('# houses')\n",
    "plt.show()"
   ]
  },
  {
   "cell_type": "code",
   "execution_count": 115,
   "metadata": {},
   "outputs": [
    {
     "name": "stdout",
     "output_type": "stream",
     "text": [
      "Percentage of houses that cost more than 1mio.: 74.74%\n"
     ]
    },
    {
     "data": {
      "image/png": "[encoded data removed]",
      "text/plain": [
       "<Figure size 720x360 with 1 Axes>"
      ]
     },
     "metadata": {
      "needs_background": "light"
     },
     "output_type": "display_data"
    }
   ],
   "source": [
    "# solution 10\n",
    "above_1mio = data[data['Price'] > 1000000]['Price']\n",
    "\n",
    "per_above_1mio = len(above_1mio) / data.shape[0]\n",
    "\n",
    "print(f'Percentage of houses that cost more than 1mio.: {100*per_above_1mio}%')\n",
    "\n",
    "plt.figure(figsize=(10,5))\n",
    "plt.hist(above_1mio)\n",
    "plt.xlabel('Price')\n",
    "plt.ylabel('# houses')\n",
    "plt.show()"
   ]
  },
  {
   "cell_type": "code",
   "execution_count": null,
   "metadata": {},
   "outputs": [],
   "source": []
  },
  {
   "cell_type": "markdown",
   "metadata": {},
   "source": [
    "# Q4: Non-linear regression"
   ]
  },
  {
   "cell_type": "markdown",
   "metadata": {},
   "source": [
    "### Apply linear regression methods on provided dataset"
   ]
  },
  {
   "cell_type": "code",
   "execution_count": 171,
   "metadata": {},
   "outputs": [],
   "source": [
    "X = 2.5 * np.random.rand(100) + 1.5   \n",
    "res = 0.2 * np.random.randn(100)\n",
    "Y = 0.3 * X**10 + res"
   ]
  },
  {
   "cell_type": "code",
   "execution_count": 172,
   "metadata": {},
   "outputs": [
    {
     "data": {
      "text/plain": [
       "<matplotlib.collections.PathCollection at 0x7f7dd13b4668>"
      ]
     },
     "execution_count": 172,
     "metadata": {},
     "output_type": "execute_result"
    },
    {
     "data": {
      "image/png": "[encoded data removed]",
      "text/plain": [
       "<Figure size 432x288 with 1 Axes>"
      ]
     },
     "metadata": {
      "needs_background": "light"
     },
     "output_type": "display_data"
    }
   ],
   "source": [
    "plt.scatter(X,Y)"
   ]
  },
  {
   "cell_type": "markdown",
   "metadata": {},
   "source": [
    "### Non-linear regression algorithms\n",
    "\n",
    "Luckily there exist some non-linear regression algorithms that we can use instead:\n",
    "\n",
    "#### Support Vector Regression:: \n",
    "https://scikit-learn.org/stable/auto_examples/svm/plot_svm_regression.html\n",
    "\n",
    "#### TODO:\n",
    "----\n",
    "\n",
    "1. Use noted algorithm to fit the data, play arround with different kernels and other hyperparameters(like shown in the link above)\n",
    "\n",
    "2. Plot the regression line together with the data"
   ]
  },
  {
   "cell_type": "code",
   "execution_count": 173,
   "metadata": {},
   "outputs": [],
   "source": [
    "X = X.reshape(-1,1)"
   ]
  },
  {
   "cell_type": "code",
   "execution_count": 174,
   "metadata": {},
   "outputs": [],
   "source": [
    "from sklearn.svm import SVR"
   ]
  },
  {
   "cell_type": "code",
   "execution_count": 180,
   "metadata": {},
   "outputs": [],
   "source": [
    "model = SVR(kernel='poly', C=100, gamma='auto', degree=4, epsilon=.1, coef0=1)\n",
    "model = model.fit(X,Y)\n",
    "\n",
    "predictions = model.predict(X)"
   ]
  },
  {
   "cell_type": "code",
   "execution_count": 181,
   "metadata": {},
   "outputs": [
    {
     "data": {
      "text/plain": [
       "<matplotlib.collections.PathCollection at 0x7f7dd44cf400>"
      ]
     },
     "execution_count": 181,
     "metadata": {},
     "output_type": "execute_result"
    },
    {
     "data": {
      "image/png": "[encoded data removed]",
      "text/plain": [
       "<Figure size 432x288 with 1 Axes>"
      ]
     },
     "metadata": {
      "needs_background": "light"
     },
     "output_type": "display_data"
    }
   ],
   "source": [
    "plt.scatter(X, Y)\n",
    "plt.scatter(X, predictions)"
   ]
  },
  {
   "cell_type": "code",
   "execution_count": null,
   "metadata": {},
   "outputs": [],
   "source": []
  },
  {
   "cell_type": "markdown",
   "metadata": {},
   "source": [
    "# Q5: Apply learned methods on 1 dataset of your choice(optional)\n",
    "Datasets and kernels can be found here: https://www.kaggle.com/"
   ]
  },
  {
   "cell_type": "code",
   "execution_count": null,
   "metadata": {},
   "outputs": [],
   "source": []
  },
  {
   "cell_type": "code",
   "execution_count": null,
   "metadata": {},
   "outputs": [],
   "source": []
  },
  {
   "cell_type": "code",
   "execution_count": null,
   "metadata": {},
   "outputs": [],
   "source": []
  }
 ],
 "metadata": {
  "kernelspec": {
   "display_name": "Python 3",
   "language": "python",
   "name": "python3"
  },
  "language_info": {
   "codemirror_mode": {
    "name": "ipython",
    "version": 3
   },
   "file_extension": ".py",
   "mimetype": "text/x-python",
   "name": "python",
   "nbconvert_exporter": "python",
   "pygments_lexer": "ipython3",
   "version": "3.6.9"
  }
 },
 "nbformat": 4,
 "nbformat_minor": 2
}
