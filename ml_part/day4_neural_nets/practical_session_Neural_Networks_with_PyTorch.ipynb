{
 "cells": [
  {
   "cell_type": "code",
   "execution_count": 13,
   "metadata": {},
   "outputs": [],
   "source": [
    "import numpy as np\n",
    "import torch, torchvision\n",
    "import torch.nn.functional as F\n",
    "import torchvision.transforms as transforms\n",
    "import matplotlib.pyplot as plt"
   ]
  },
  {
   "cell_type": "markdown",
   "metadata": {},
   "source": [
    "# Prerequisites:\n",
    "\n",
    "- pip/conda install torch, torchvision"
   ]
  },
  {
   "cell_type": "code",
   "execution_count": null,
   "metadata": {},
   "outputs": [],
   "source": []
  },
  {
   "cell_type": "markdown",
   "metadata": {},
   "source": [
    "# Neural Networks using PyTorch framework\n",
    "---\n",
    "![](resources/torch.png)\n",
    "## Comparing performance of classical networks to convolutional neural networks \n",
    "\n",
    "## Typical Deep Learning workflow:\n",
    "\n",
    "1. Load your training datasets, and(if needed) convert them into PyTorch datasets\n",
    "2. Build PyTorch-DataLoaders using your datasets, set shuffle = True and define batch size\n",
    "3. Define the neural network structure\n",
    "4. Training process:\n",
    "    - Define optimizer\n",
    "    - Define loss function\n",
    "    - Define # of training iterations\n",
    "    - Train your model\n",
    "5. Evaluation process:\n",
    "    - Use your model to predict labels for your test set\n",
    "    - evaluate accuracy with true labels"
   ]
  },
  {
   "cell_type": "markdown",
   "metadata": {},
   "source": [
    "# Part I: Pair programming"
   ]
  },
  {
   "cell_type": "markdown",
   "metadata": {},
   "source": [
    "## Get the training data"
   ]
  },
  {
   "cell_type": "code",
   "execution_count": null,
   "metadata": {},
   "outputs": [],
   "source": []
  },
  {
   "cell_type": "code",
   "execution_count": 14,
   "metadata": {},
   "outputs": [],
   "source": [
    "# Get the data\n",
    "transform = transforms.Compose(\n",
    "    [transforms.ToTensor(),\n",
    "     transforms.Normalize((0.5,), (0.5,))])\n",
    "\n",
    "training_data = torchvision.datasets.MNIST('data/', train=True, download=True, transform=transform)\n",
    "testing_data = torchvision.datasets.MNIST('data/', train=False, download=True, transform=transform)"
   ]
  },
  {
   "cell_type": "code",
   "execution_count": 15,
   "metadata": {},
   "outputs": [
    {
     "data": {
      "text/plain": [
       "Dataset MNIST\n",
       "    Number of datapoints: 60000\n",
       "    Root location: data/\n",
       "    Split: Train\n",
       "    StandardTransform\n",
       "Transform: Compose(\n",
       "               ToTensor()\n",
       "               Normalize(mean=(0.5,), std=(0.5,))\n",
       "           )"
      ]
     },
     "execution_count": 15,
     "metadata": {},
     "output_type": "execute_result"
    }
   ],
   "source": [
    "training_data"
   ]
  },
  {
   "cell_type": "code",
   "execution_count": 16,
   "metadata": {},
   "outputs": [
    {
     "data": {
      "text/plain": [
       "Dataset MNIST\n",
       "    Number of datapoints: 10000\n",
       "    Root location: data/\n",
       "    Split: Test\n",
       "    StandardTransform\n",
       "Transform: Compose(\n",
       "               ToTensor()\n",
       "               Normalize(mean=(0.5,), std=(0.5,))\n",
       "           )"
      ]
     },
     "execution_count": 16,
     "metadata": {},
     "output_type": "execute_result"
    }
   ],
   "source": [
    "testing_data"
   ]
  },
  {
   "cell_type": "markdown",
   "metadata": {},
   "source": [
    "## Look at the data more closely"
   ]
  },
  {
   "cell_type": "code",
   "execution_count": 25,
   "metadata": {},
   "outputs": [],
   "source": [
    "# Look at a particular point\n",
    "\n",
    "test_img = training_data.data[0]\n",
    "test_label = training_data.targets[0]\n",
    "\n",
    "# 1. plot it\n",
    "# 2. show it's format\n",
    "\n"
   ]
  },
  {
   "cell_type": "code",
   "execution_count": 23,
   "metadata": {},
   "outputs": [
    {
     "name": "stdout",
     "output_type": "stream",
     "text": [
      "Label: 5\n"
     ]
    },
    {
     "data": {
      "image/png": "[encoded data removed]",
      "text/plain": [
       "<Figure size 432x288 with 1 Axes>"
      ]
     },
     "metadata": {
      "needs_background": "light"
     },
     "output_type": "display_data"
    }
   ],
   "source": [
    "plt.imshow(test_img, cmap='Greys')\n",
    "print(f'Label: {test_label}')"
   ]
  },
  {
   "cell_type": "code",
   "execution_count": 34,
   "metadata": {},
   "outputs": [
    {
     "data": {
      "text/plain": [
       "array([0, 1, 2, 3, 4, 5, 6, 7, 8, 9])"
      ]
     },
     "execution_count": 34,
     "metadata": {},
     "output_type": "execute_result"
    }
   ],
   "source": [
    "np.unique(train_loader.dataset.targets)"
   ]
  },
  {
   "cell_type": "markdown",
   "metadata": {},
   "source": [
    "## Create dataloaders to feed data into our neural network"
   ]
  },
  {
   "cell_type": "code",
   "execution_count": 27,
   "metadata": {},
   "outputs": [],
   "source": [
    "train_loader = torch.utils.data.DataLoader(training_data, batch_size=16, shuffle=True)\n",
    "test_loader = torch.utils.data.DataLoader(testing_data, batch_size=16, shuffle=True)"
   ]
  },
  {
   "cell_type": "markdown",
   "metadata": {},
   "source": [
    "# Define the network"
   ]
  },
  {
   "cell_type": "code",
   "execution_count": 43,
   "metadata": {},
   "outputs": [],
   "source": [
    "# Define Neural Network\n",
    "\n",
    "class Neural_Network(torch.nn.Module):\n",
    "    \n",
    "    def __init__(self, input_dim, num_classes):\n",
    "        \n",
    "        super(Neural_Network, self).__init__()\n",
    "        \n",
    "        self.input_dim = input_dim\n",
    "        self.num_classes = num_classes\n",
    "        \n",
    "        self.layer1 = torch.nn.Linear(self.input_dim, 50)\n",
    "        self.layer2 = torch.nn.Linear(50, 100)\n",
    "        self.layer3 = torch.nn.Linear(100, self.num_classes)\n",
    "        \n",
    "    def forward(self, x):\n",
    "        \n",
    "        # Passing the first layer\n",
    "        x = self.layer1(x.view(-1, self.input_dim))\n",
    "        x = F.sigmoid(x)\n",
    "        \n",
    "        # Passing the second layer\n",
    "        x = self.layer2(x)\n",
    "        x = F.sigmoid(x)\n",
    "        \n",
    "        # Passing the third layer\n",
    "        x = self.layer3(x)\n",
    "        \n",
    "        return x    "
   ]
  },
  {
   "cell_type": "markdown",
   "metadata": {},
   "source": [
    "## Training loop"
   ]
  },
  {
   "cell_type": "code",
   "execution_count": null,
   "metadata": {},
   "outputs": [],
   "source": []
  },
  {
   "cell_type": "code",
   "execution_count": 44,
   "metadata": {},
   "outputs": [],
   "source": [
    "# 1. Create an object of the neural network\n",
    "# 2. Define an optimizer\n",
    "# 3. Define a loss function\n",
    "\n",
    "network = Neural_Network(784, 10)\n",
    "optimizer = torch.optim.SGD(params = network.parameters(), lr=0.01)\n",
    "loss_fn = torch.nn.CrossEntropyLoss()"
   ]
  },
  {
   "cell_type": "code",
   "execution_count": 45,
   "metadata": {
    "scrolled": false
   },
   "outputs": [
    {
     "name": "stderr",
     "output_type": "stream",
     "text": [
      "/home/dg/envs/ds/lib/python3.6/site-packages/torch/nn/functional.py:1351: UserWarning: nn.functional.sigmoid is deprecated. Use torch.sigmoid instead.\n",
      "  warnings.warn(\"nn.functional.sigmoid is deprecated. Use torch.sigmoid instead.\")\n"
     ]
    },
    {
     "name": "stdout",
     "output_type": "stream",
     "text": [
      "Error after epoch: 0 =  2.299909678395589\n",
      "Error after epoch: 1 =  2.291334367752075\n",
      "Error after epoch: 2 =  2.2817932456334433\n",
      "Error after epoch: 3 =  2.2682059002558392\n",
      "Error after epoch: 4 =  2.247385698699951\n",
      "Error after epoch: 5 =  2.2152431074142456\n",
      "Error after epoch: 6 =  2.1657517914454143\n",
      "Error after epoch: 7 =  2.0920716283162433\n",
      "Error after epoch: 8 =  1.9916838428815207\n",
      "Error after epoch: 9 =  1.8689387754440308\n"
     ]
    }
   ],
   "source": [
    "# Run the training loop\n",
    "\n",
    "num_iterations = 10\n",
    "\n",
    "for epoch in range(num_iterations):\n",
    "    \n",
    "    running_loss = 0.0\n",
    "    \n",
    "    for i, data in enumerate(train_loader):\n",
    "        \n",
    "        x, y = data\n",
    "        \n",
    "        # zero-out gradients\n",
    "        optimizer.zero_grad()\n",
    "        \n",
    "        # forward pass\n",
    "        prediction = network.forward(x)\n",
    "        \n",
    "        # compute loss\n",
    "        loss = loss_fn(prediction, y)\n",
    "        \n",
    "        running_loss += loss.item()\n",
    "        \n",
    "        # backpropagation\n",
    "        loss.backward()\n",
    "        \n",
    "        optimizer.step()\n",
    "        \n",
    "    print(f'Error after epoch: {epoch} =  {running_loss / len(train_loader)}')\n",
    "    "
   ]
  },
  {
   "cell_type": "markdown",
   "metadata": {},
   "source": [
    "# Evaluation loop"
   ]
  },
  {
   "cell_type": "code",
   "execution_count": null,
   "metadata": {},
   "outputs": [],
   "source": []
  },
  {
   "cell_type": "code",
   "execution_count": 64,
   "metadata": {},
   "outputs": [
    {
     "name": "stderr",
     "output_type": "stream",
     "text": [
      "/home/dg/envs/ds/lib/python3.6/site-packages/torch/nn/functional.py:1351: UserWarning: nn.functional.sigmoid is deprecated. Use torch.sigmoid instead.\n",
      "  warnings.warn(\"nn.functional.sigmoid is deprecated. Use torch.sigmoid instead.\")\n"
     ]
    },
    {
     "name": "stdout",
     "output_type": "stream",
     "text": [
      "Final accuracy: 51.73% \n"
     ]
    }
   ],
   "source": [
    "# evaluation loop\n",
    "correct = 0\n",
    "total = 0\n",
    "\n",
    "with torch.no_grad():\n",
    "    \n",
    "    for i, data in enumerate(test_loader):\n",
    "        \n",
    "        x, y = data\n",
    "        \n",
    "        predicted = network.forward(x)\n",
    "        \n",
    "        _, predicted = torch.max(predicted.data, 1)\n",
    "        \n",
    "        correct += (predicted == y).sum().item()\n",
    "        \n",
    "        total += y.size(0)\n",
    "\n",
    "print(f'Final accuracy: {correct / total*100}% ')"
   ]
  },
  {
   "cell_type": "code",
   "execution_count": null,
   "metadata": {},
   "outputs": [],
   "source": []
  },
  {
   "cell_type": "code",
   "execution_count": null,
   "metadata": {},
   "outputs": [],
   "source": []
  },
  {
   "cell_type": "code",
   "execution_count": null,
   "metadata": {},
   "outputs": [],
   "source": []
  },
  {
   "cell_type": "markdown",
   "metadata": {},
   "source": [
    "## Compare regular Multilayer-perceptron performance against Convolutional neural network\n",
    "\n",
    "### How to compute output size after convolutional layer ??:\n",
    "- If stride = 1, padding = 0, dilation = 1 \n",
    "- output shape width(height): (size(input.shape[0]) - kernel.shape[0]) + 1\n",
    "- same for output shape 1\n",
    "\n",
    "- Nice visualizations of different kernel/filter/convolution strategies: https://github.com/vdumoulin/conv_arithmetic/blob/master/README.md\n",
    "\n",
    "### How to compute output size after pooling layer ??:\n",
    "- If stride = 1, padding = 0, dilation = 1 \n",
    "- output shape widht: input width / kernel width\n",
    "- same for output height\n",
    "\n",
    "- Nice visualizations of different kernel/filter/convolution strategies: https://github.com/vdumoulin/conv_arithmetic/blob/master/README.md"
   ]
  },
  {
   "cell_type": "code",
   "execution_count": 68,
   "metadata": {},
   "outputs": [],
   "source": [
    "# Define a convolutional neural network\n",
    "\n",
    "# Define Neural Network\n",
    "class Conv_Net(torch.nn.Module):\n",
    "    \n",
    "    def __init__(self, input_dim, num_classes):\n",
    "        \n",
    "        super(Conv_Net, self).__init__()\n",
    "        \n",
    "        self.input_dim = input_dim\n",
    "        \n",
    "        self.num_classes = num_classes\n",
    "        \n",
    "        \n",
    "        self.conv1 = torch.nn.Conv2d(1, 6, 5)\n",
    "        \n",
    "        self.conv2 = torch.nn.Conv2d(6, 16, 5)\n",
    "        \n",
    "        self.pool = torch.nn.MaxPool2d(2)\n",
    "        \n",
    "        \n",
    "        self.layer1 = torch.nn.Linear(16 * 4 * 4 , 50)\n",
    "        self.layer2 = torch.nn.Linear(50, 100)\n",
    "        self.layer3 = torch.nn.Linear(100, self.num_classes)\n",
    "        \n",
    "    def forward(self, x):\n",
    "        \n",
    "        # Input shape: 28 x 28 x 6\n",
    "        x = self.conv1(x)\n",
    "        x = F.relu(x)\n",
    "        \n",
    "        # Input 24 x 24 x 6\n",
    "        x = self.pool(x)\n",
    "        \n",
    "        # Input 12 x 12 x 6\n",
    "        x = self.conv2(x)\n",
    "        x = F.relu(x)\n",
    "        \n",
    "        # Input 8 x 8 x 16\n",
    "        x = self.pool(x)\n",
    "        \n",
    "        # Input 4 x 4 x 16\n",
    "        x = self.layer1(x.view(-1, 4 * 4 * 16))\n",
    "        x = F.relu(x)\n",
    "        \n",
    "        # Passing the second layer\n",
    "        x = self.layer2(x)\n",
    "        x = F.relu(x)\n",
    "        \n",
    "        # Passing the third layer\n",
    "        x = self.layer3(x)\n",
    "        \n",
    "        return x    "
   ]
  },
  {
   "cell_type": "code",
   "execution_count": 77,
   "metadata": {},
   "outputs": [],
   "source": [
    "# 1. Create an object of the neural network\n",
    "# 2. Define optimizer\n",
    "# 3. Define a loss function\n",
    "\n",
    "network = Conv_Net(784, 10)\n",
    "optimizer = torch.optim.SGD(params=network.parameters(), lr=0.01)\n",
    "loss_fn = torch.nn.CrossEntropyLoss()"
   ]
  },
  {
   "cell_type": "code",
   "execution_count": 78,
   "metadata": {},
   "outputs": [
    {
     "name": "stdout",
     "output_type": "stream",
     "text": [
      "Error after epoch: 0 =  0.6199655671540648\n",
      "Error after epoch: 1 =  0.10519977164162944\n",
      "Error after epoch: 2 =  0.07564659943189472\n",
      "Error after epoch: 3 =  0.059900401427080696\n",
      "Error after epoch: 4 =  0.05068628455610402\n",
      "Error after epoch: 5 =  0.04351682007452279\n",
      "Error after epoch: 6 =  0.0382263720872715\n",
      "Error after epoch: 7 =  0.03451183774853222\n",
      "Error after epoch: 8 =  0.030847848465439164\n",
      "Error after epoch: 9 =  0.02746898688941486\n"
     ]
    }
   ],
   "source": [
    "# training loop:\n",
    "# Run the training loop\n",
    "\n",
    "num_iterations = 10\n",
    "\n",
    "for epoch in range(num_iterations):\n",
    "    \n",
    "    running_loss = 0.0\n",
    "    \n",
    "    for i, data in enumerate(train_loader):\n",
    "        \n",
    "        x, y = data\n",
    "        \n",
    "        # zero-out gradients\n",
    "        optimizer.zero_grad()\n",
    "        \n",
    "        # forward pass\n",
    "        prediction = network.forward(x)\n",
    "        \n",
    "        # compute loss\n",
    "        loss = loss_fn(prediction, y)\n",
    "        \n",
    "        running_loss += loss.item()\n",
    "        \n",
    "        # backpropagation\n",
    "        loss.backward()\n",
    "        \n",
    "        optimizer.step()\n",
    "        \n",
    "    print(f'Error after epoch: {epoch} =  {running_loss / len(train_loader)}')\n",
    "    "
   ]
  },
  {
   "cell_type": "markdown",
   "metadata": {},
   "source": [
    "# Evaluation loop"
   ]
  },
  {
   "cell_type": "code",
   "execution_count": 79,
   "metadata": {},
   "outputs": [
    {
     "name": "stdout",
     "output_type": "stream",
     "text": [
      "Final accuracy: 98.78% \n"
     ]
    }
   ],
   "source": [
    "# evaluation loop\n",
    "correct = 0\n",
    "total = 0\n",
    "\n",
    "with torch.no_grad():\n",
    "    \n",
    "    for i, data in enumerate(test_loader):\n",
    "        \n",
    "        x, y = data\n",
    "        \n",
    "        predicted = network.forward(x)\n",
    "        \n",
    "        _, predicted = torch.max(predicted.data, 1)\n",
    "        \n",
    "        correct += (predicted == y).sum().item()\n",
    "        \n",
    "        total += y.size(0)\n",
    "\n",
    "print(f'Final accuracy: {correct / total*100}% ')"
   ]
  },
  {
   "cell_type": "markdown",
   "metadata": {},
   "source": [
    "# Part II: Build your own Neural Network classifiers:\n",
    "\n",
    "### Todos:\n",
    "1. Load the CIFAR 10 train and test dataset from the torchvision library that we have used above for the MNIST data:\n",
    "Documentation: https://pytorch.org/docs/stable/torchvision/datasets.html\n",
    "\n",
    "2. Create DataLoaders for the training and test size:\n",
    "    - experiment with different batch sizes\n",
    "3. Create one fully connected model and another Convolutional Neural Network, for each experiment with different layer sizes(# of neurons) and layer types:\n",
    "    - Conv layers preprocess the data\n",
    "    - Pooling layers preprocess the data\n",
    "    - Fully connected layer need to be added at the end to classify the data\n",
    "\n",
    "4. Evaluate the prediction accuracy(all correct classified points / number of points) of your Fully-connected and Convolutional Neural Networks\n",
    "\n",
    "5. Evaluate prediction accuracy of each class, e.g.: Correctly classified: 60% of planes, 70% of cars, 30% of housed etc."
   ]
  },
  {
   "cell_type": "code",
   "execution_count": null,
   "metadata": {},
   "outputs": [],
   "source": []
  },
  {
   "cell_type": "code",
   "execution_count": null,
   "metadata": {},
   "outputs": [],
   "source": []
  }
 ],
 "metadata": {
  "kernelspec": {
   "display_name": "Python 3",
   "language": "python",
   "name": "python3"
  },
  "language_info": {
   "codemirror_mode": {
    "name": "ipython",
    "version": 3
   },
   "file_extension": ".py",
   "mimetype": "text/x-python",
   "name": "python",
   "nbconvert_exporter": "python",
   "pygments_lexer": "ipython3",
   "version": "3.6.9"
  }
 },
 "nbformat": 4,
 "nbformat_minor": 2
}
