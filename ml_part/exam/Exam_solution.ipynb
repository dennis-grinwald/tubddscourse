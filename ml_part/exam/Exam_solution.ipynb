{
 "cells": [
  {
   "cell_type": "markdown",
   "metadata": {},
   "source": [
    "# Final Exam - Solutions\n",
    "---\n",
    "\n",
    "### Notes:\n",
    "\n",
    "\n",
    "- This exam is open book/open browser. That means you are allowed to use any resources to answer the questions, except communication with any other person.\n",
    "\n",
    "\n",
    "- Once finished you should upload your exam to the corresponding google drive submission folder, that you got assigned to. If you haven't been assigned to one, TELL US NOW!\n",
    "\n",
    "\n",
    "- The first part consists of 10 multiple choice questions, each increasing your final score by 5 points when answered corretly.\n",
    "\n",
    "\n",
    "- More details on the theory part and programming part are given below. \n",
    "\n",
    "\n",
    "- Please read the instructions carefully.\n",
    "\n",
    "\n",
    "- Good Luck!"
   ]
  },
  {
   "cell_type": "markdown",
   "metadata": {},
   "source": [
    "# Part I: Machine Learning theory (50/100 pts.)\n",
    "Please answer the multiple choice questions below. For each question, there is exactly ONE correct answer. Selecting multiple answers or the wrong answer results in 0 points for that question. Each question will have 4 different answer choices, numbered from 1-4. After each question, there will be a cell that you can use to place your answer. You just need to enter the number of the answer to that question, e.g. a number between 1-4."
   ]
  },
  {
   "cell_type": "markdown",
   "metadata": {},
   "source": [
    "## Question 1 (5pts.)\n",
    "\n",
    "A ***regression model***(e.g. linear regression) expects an input of type $\\mathbf x \\ \\epsilon \\ \\mathbb R^{d}$, where $\\mathbf x$ can have multiple dimensions/features(e.g. d=4 features/columns).\n",
    "What dimensionality and range of possible values does a label in a regression dataset have ?\n",
    "\n",
    "1. $y \\ \\epsilon \\ \\{0, 1\\}$, so y is either a scalar number equal to \"1\", or equal to \"0\" which represents one of two classes.\n",
    "\n",
    "\n",
    "2. $y \\ \\epsilon \\ \\mathbb R$, so y can represent any scalar number on the real line.\n",
    "\n",
    "\n",
    "3. $y \\ == \\ \\mathbf x$, so y has the same dimensionality and value as $\\mathbf x$.\n",
    "\n",
    "\n",
    "4. $y \\ \\epsilon \\ \\emptyset$, so there is no y-labels in a regresion task."
   ]
  },
  {
   "cell_type": "code",
   "execution_count": 28,
   "metadata": {},
   "outputs": [],
   "source": [
    "2"
   ]
  },
  {
   "cell_type": "markdown",
   "metadata": {},
   "source": [
    "## Question 2 (5pts.)\n",
    "\n",
    "A ***binary classification model***(e.g. binary nearest centroid classifier) expects an input of type $\\mathbf x \\ \\epsilon \\ \\mathbb R^{d}$, where $\\mathbf x$ can have multiple dimensions/features(e.g. d=4 features/columns).\n",
    "Select the type of a label \"$y$\" in a typical classification task:\n",
    "\n",
    "1. $y \\ \\epsilon \\ \\{0, 1\\}$, so y is either a scalar number equal to \"1\", or equal to \"0\" which represents one of two classes.\n",
    "\n",
    "\n",
    "2. $y \\ \\epsilon \\ \\mathbb R$, so y can represent any scalar number on the real line.\n",
    "\n",
    "\n",
    "3. $y \\ == \\ \\mathbf x$, so y has the same dimensionality and value as $\\mathbf x$.\n",
    "\n",
    "\n",
    "4. $y \\ \\epsilon \\ \\emptyset$, so there is no y-labels in a classification task."
   ]
  },
  {
   "cell_type": "code",
   "execution_count": 29,
   "metadata": {},
   "outputs": [],
   "source": [
    "1"
   ]
  },
  {
   "cell_type": "markdown",
   "metadata": {},
   "source": [
    "## Question 3 (5pts.)\n",
    "\n",
    "A ***clustering model***(e.g. k-neigherst neighbor clustering) expects an input of type $\\mathbf x \\ \\epsilon \\mathbb \\ R^{d}$, where $\\mathbf x$ can have multiple dimensions/features(e.g. d=4 features/columns).\n",
    "Select the type of a label \"$y$\" in a typical clustering task:\n",
    "\n",
    "1. $y \\ \\epsilon \\ \\{0, 1\\}$, so y is either a scalar number equal to \"1\", or equal to \"0\", which represents one of two classes.\n",
    "\n",
    "\n",
    "2. $y \\ \\epsilon \\ \\mathbb R$, so y can represent any scalar number on the real line.\n",
    "\n",
    "\n",
    "3. $y \\ \\epsilon \\ \\mathbf x_{input}$, so y has the same dimensionality and value as $\\mathbf x$.\n",
    "\n",
    "\n",
    "4. $y \\ \\epsilon \\ \\emptyset$, so there is no y-label in a clustering task."
   ]
  },
  {
   "cell_type": "code",
   "execution_count": 30,
   "metadata": {},
   "outputs": [],
   "source": [
    "4"
   ]
  },
  {
   "cell_type": "markdown",
   "metadata": {},
   "source": [
    "## Question 4 (5pts.)\n",
    "\n",
    "Which of these statements about the loss function is true ? \n",
    "\n",
    "1. The loss function is a way of measuring the performance of our machine learning model, which is used to optimize it.\n",
    "\n",
    "\n",
    "2. The loss function and the error function are 2 separate things.\n",
    "\n",
    "\n",
    "3. There exists 1 loss function that is used by every single machine learning algorithm.\n",
    "\n",
    "\n",
    "4. The loss function is independent of our training data, which means that we don't need our training data to compute the loss of our machine learning model."
   ]
  },
  {
   "cell_type": "code",
   "execution_count": 31,
   "metadata": {},
   "outputs": [],
   "source": [
    "1"
   ]
  },
  {
   "cell_type": "markdown",
   "metadata": {},
   "source": [
    "## Question 5 (5pts.)\n",
    "\n",
    "Which of these statements about the learning rate $\\alpha$ is true ? \n",
    "\n",
    "1. A large learning rate might result in never reaching the minimum of a loss function because our steps towards the minimum get too small to actually reach it. \n",
    "\n",
    "\n",
    "2. A small learning rate might result in \"overshooting\" the minimum of a loss function because we might \"overshoot\" the minimum.\n",
    "\n",
    "\n",
    "3. The learning rate is the step size that our gradient descent algorithm takes towards the direction of greatest decrease of our loss function, with respect to our model parameters.\n",
    "\n",
    "\n",
    "4. There learning rate has no impact on the optimization process of our loss function."
   ]
  },
  {
   "cell_type": "code",
   "execution_count": 32,
   "metadata": {},
   "outputs": [],
   "source": [
    "3"
   ]
  },
  {
   "cell_type": "markdown",
   "metadata": {},
   "source": [
    "## Question 6 (5pts.)\n",
    "\n",
    "A confusion matrix let's us compute a variety of metrics that can be used to measure the performance of our trained classification model. \n",
    "It usually consists of 4 fields, namely:\n",
    "\n",
    "- True positives  / TP: The number of points that our model has predicted to be from class \"1\"(sometimes referred to as \"positive\" class), while their actual label was class \"1\".\n",
    "\n",
    "\n",
    "- False positives / FP: The number of points that our model has predicted to be from class \"1\", while their actual label was class \"0\"(sometimes referred to as \"negative class\").\n",
    "\n",
    "\n",
    "- False negatives / FN: The number of points that our model has predicted to be from class \"0\", while their actual label was class \"1\".\n",
    "\n",
    "\n",
    "- True negatives  / TN: The number of points that our model has predicted to be from class \"0\", while their actual label was class \"0\".\n",
    "\n",
    "How is the accuracy computed, when given the elements of our confusion matrix ? \n",
    "\n",
    "### NOTE: \"Total\" refers to the total amount of points of the whole dataset(training set or test set).\n",
    "\n",
    "1. $Accuracy = \\frac{TP+TN}{Total}$\n",
    "\n",
    "\n",
    "2. $Accuracy = \\frac{TP}{TP+FP}$\n",
    "\n",
    "\n",
    "3. $Accuracy = \\frac{TP}{TP+FN}$\n",
    "\n",
    "\n",
    "4. $Accuracy = \\frac{TP + FP + FN + TN}{Total}$"
   ]
  },
  {
   "cell_type": "code",
   "execution_count": 33,
   "metadata": {},
   "outputs": [],
   "source": [
    "1"
   ]
  },
  {
   "cell_type": "markdown",
   "metadata": {},
   "source": [
    "## Question 7 (5pts.)\n",
    "\n",
    "Which of the following classification algorithms uses the distance between a new point x and the class means of multiple classes, as a decision rule for classification ?\n",
    "\n",
    "1. Binary Logisitc Regression classifier\n",
    "\n",
    "\n",
    "2. Binary K-nearest centroid classifier\n",
    "\n",
    "\n",
    "3. Convolutional Neural Network\n",
    "\n",
    "\n",
    "4. Linear Regression"
   ]
  },
  {
   "cell_type": "code",
   "execution_count": 34,
   "metadata": {},
   "outputs": [],
   "source": [
    "2"
   ]
  },
  {
   "cell_type": "markdown",
   "metadata": {},
   "source": [
    "## Question 8 (5pts.)\n",
    "\n",
    "When preparing the dataset for our learning algorithm, which of these steps does ***not*** help to achieve a better training process, in terms of efficiency, robustness, performance etc.\n",
    "\n",
    "\n",
    "1. Standardizing our features/columns.\n",
    "\n",
    "\n",
    "2. Dropping features that don't correlate with our label while keeping the ones that do correlate with the labels.\n",
    "\n",
    "\n",
    "3. Dropping all data points that belong to a certain label together with their labels. So at the end our dataset consists of only points from  a single class that we use for training.\n",
    "\n",
    "\n",
    "4. Training a machine learning model on different sets of hyperparameters(e.g. learning rates) and chossing the set that increases the test performance of our model."
   ]
  },
  {
   "cell_type": "code",
   "execution_count": 35,
   "metadata": {},
   "outputs": [],
   "source": [
    "3"
   ]
  },
  {
   "cell_type": "markdown",
   "metadata": {},
   "source": [
    "## Question 9 (5pts.)\n",
    "\n",
    "When training a machine learning model, we usually do a training and test set split. What do we use the training and test set for ?\n",
    "\n",
    "1. We use both the training set and the test set to train our model, and evaluate it's generalization performance on the accuracy of the concatenation of both data sets.\n",
    "\n",
    "\n",
    "2. We use the training set to train our model and the test set to estimate it's generalization performance. That is, it's prediction accuracy on unseen data points.\n",
    "\n",
    "\n",
    "3. We use the training and test split only to safe up computational time.\n",
    "\n",
    "\n",
    "4. We use the test set to train our model and the training set to estimate it's generalization performance. That is, it's prediction accuracy on unseen data points."
   ]
  },
  {
   "cell_type": "code",
   "execution_count": 36,
   "metadata": {},
   "outputs": [],
   "source": [
    "2"
   ]
  },
  {
   "cell_type": "markdown",
   "metadata": {},
   "source": [
    "## Question 10 (5pts.)\n",
    "\n",
    "Which of these statements about convex funtions is true ? \n",
    "\n",
    "1. Optimizing a convex function with respect to a certain variable(e.g. some weight variable w), will result in a ***local*** optimum.\n",
    "\n",
    "\n",
    "2. Convex functions are not differentiable and thus not optimizable.\n",
    "\n",
    "\n",
    "3. Optimizing a convex function with respect to a certain variable(e.g. some weight variable w), will result in a ***global*** optimum.\n",
    "\n",
    "\n",
    "4. There is no single loss/error function used in machine learning model that is a convex function."
   ]
  },
  {
   "cell_type": "code",
   "execution_count": 37,
   "metadata": {},
   "outputs": [],
   "source": [
    "3"
   ]
  },
  {
   "cell_type": "markdown",
   "metadata": {},
   "source": [
    "# Part II: Python programming exercises (50/100 pts.)\n",
    "For the programming exercises, please follow the following:\n",
    "- follow the instructions for each exercise\n",
    "- use the provided blocks to write your code, and do not delete any other code lines. \n",
    "- you can add cells for testing, but we will only evaluate what is in the block!\n",
    "- it is not necessary, but you may add comments to your code, explaining what your were thinking and trying to do. If the solution is not correct, we still can give you points based on your ideas!\n",
    "- do not hesistate to ask if something is not clear or you need help :)"
   ]
  },
  {
   "cell_type": "markdown",
   "metadata": {},
   "source": [
    "## Exercise 1: Pure Python (15 pts.)\n",
    "\n",
    "For the following exercises, use only pure python. Therefore do **NOT** import any libraries/modules."
   ]
  },
  {
   "cell_type": "markdown",
   "metadata": {},
   "source": [
    "### 1.1 List Evaluation (5 pts.)\n",
    "Find the largest and second largest value (`maxValue1` and `maxValue2` respectively) in a list of numbers, by completing the function below. Only use pure python for this! (No numpy, panda etc, but you may use in-built functions!)"
   ]
  },
  {
   "cell_type": "code",
   "execution_count": 386,
   "metadata": {},
   "outputs": [],
   "source": [
    "def getLargestValues(values):\n",
    "    maxValue1 = None\n",
    "    maxValue2 = None\n",
    "    \n",
    "    for e in values:\n",
    "        \n",
    "        if maxValue1 is None:\n",
    "            maxValue1 = e\n",
    "            \n",
    "        elif e > maxValue1:\n",
    "            maxValue2 = maxValue1\n",
    "            maxValue1 = e\n",
    "        \n",
    "        elif e > maxValue2:\n",
    "            maxValue2 = e\n",
    "\n",
    "    return maxValue1, maxValue2"
   ]
  },
  {
   "cell_type": "code",
   "execution_count": 387,
   "metadata": {},
   "outputs": [
    {
     "name": "stdout",
     "output_type": "stream",
     "text": [
      "(6, 5)\n"
     ]
    }
   ],
   "source": [
    "test = [2, 3, 2, 1, 1, 1, 3, 3, 6, 5, 5]\n",
    "print(getLargestValues(test))"
   ]
  },
  {
   "cell_type": "markdown",
   "metadata": {},
   "source": [
    "### 1.2 List Comprehension (10 pts.)\n",
    "\n",
    "From a given string in the input `text`, answer the following questions with list comprehension:\n",
    " 1. what is the longest word in the string? If there are multiple, get the first one.\n",
    " 2. how many words start with the letter \"l\" and end with \"us\" in the string? \n",
    " 3. what is the most occuring letter in the string?\n",
    "\n",
    "Complete the corresponding function for each question, and print out a message. For example:\n",
    "\n",
    "*\"The longest word is: XXX\"*\n",
    "\n",
    "To test your methods, you can use the string provided in `dummy_text`, or write your own string.\n",
    "\n",
    "**Hint**: (Assume the string is only has white spaces as special characters and ends with some symbol)"
   ]
  },
  {
   "cell_type": "code",
   "execution_count": null,
   "metadata": {},
   "outputs": [],
   "source": [
    "/home/dg/Downloads/exam submission-20200130T110424Z-001/exam submissions"
   ]
  },
  {
   "cell_type": "code",
   "execution_count": 74,
   "metadata": {
    "scrolled": true
   },
   "outputs": [
    {
     "data": {
      "text/plain": [
       "'Lorem ipsum dolor sit amet consectetur adipiscing elit Mauris egestas magna odio quis iaculis mi varius eget Phasellus rhoncus pharetra ullamcorper Proin fringilla turpis odio nec dignissim ligula iaculis eu Aenean ac orci luctus feugiat neque id aliquet tortor Nullam a gravida lacus sit amet commodo mi Nunc at pellentesque mi Proin luctus auctor gravida'"
      ]
     },
     "execution_count": 74,
     "metadata": {},
     "output_type": "execute_result"
    }
   ],
   "source": [
    "# use this string or write own string\n",
    "dummy_text = \"\".join(open(\"dummy_text.txt\", \"r\").readlines())[:-1]\n",
    "dummy_text"
   ]
  },
  {
   "cell_type": "code",
   "execution_count": 75,
   "metadata": {},
   "outputs": [],
   "source": [
    "def getQuestion1(text):\n",
    "    \n",
    "    longestWord = \"\"\n",
    "    \n",
    "    longestWord = max([(len(e), e) for e in text.split(\" \")])\n",
    "    \n",
    "    return longestWord"
   ]
  },
  {
   "cell_type": "code",
   "execution_count": 76,
   "metadata": {},
   "outputs": [
    {
     "data": {
      "text/plain": [
       "(12, 'pellentesque')"
      ]
     },
     "execution_count": 76,
     "metadata": {},
     "output_type": "execute_result"
    }
   ],
   "source": [
    "getQuestion1(dummy_text)"
   ]
  },
  {
   "cell_type": "code",
   "execution_count": 77,
   "metadata": {},
   "outputs": [],
   "source": [
    "def getQuestion2(text):\n",
    "    \n",
    "    countWords = len([word for word in text.split(\" \") if word.startswith(\"l\") and word.endswith(\"us\")])\n",
    "    \n",
    "    return countWords"
   ]
  },
  {
   "cell_type": "code",
   "execution_count": 78,
   "metadata": {},
   "outputs": [
    {
     "data": {
      "text/plain": [
       "3"
      ]
     },
     "execution_count": 78,
     "metadata": {},
     "output_type": "execute_result"
    }
   ],
   "source": [
    "getQuestion2(dummy_text)"
   ]
  },
  {
   "cell_type": "code",
   "execution_count": 79,
   "metadata": {},
   "outputs": [],
   "source": [
    "def getQuestion3(text):\n",
    "    \n",
    "    mostFrequentLetter = \"\"\n",
    "    \n",
    "    charset = list(set(text))\n",
    "    charset.remove(\" \")\n",
    "    \n",
    "    letterFreqs = [(text.count(e), e) for e in charset]\n",
    "    maxFrequency = max([(text.count(e), e) for e in charset])[0]\n",
    "    \n",
    "    maxLetters = [char for count, char in letterFreqs if count == maxFrequency]\n",
    "    \n",
    "    return maxLetters"
   ]
  },
  {
   "cell_type": "code",
   "execution_count": 80,
   "metadata": {},
   "outputs": [
    {
     "name": "stdout",
     "output_type": "stream",
     "text": [
      "['i']\n"
     ]
    }
   ],
   "source": [
    "print(getQuestion3(dummy_text))"
   ]
  },
  {
   "cell_type": "markdown",
   "metadata": {},
   "source": [
    "## Exercise 2: Pandas and Matplotlib (35 pts.)\n",
    "\n",
    "For the following exercises, you need to import the `pandas` and `matplotlib` library. You may also use `numpy`, but it won't be necessary."
   ]
  },
  {
   "cell_type": "code",
   "execution_count": 416,
   "metadata": {},
   "outputs": [],
   "source": [
    "# run this to import the modules\n",
    "import pandas as pd\n",
    "import matplotlib.pyplot as plt\n",
    "%matplotlib inline"
   ]
  },
  {
   "cell_type": "markdown",
   "metadata": {},
   "source": [
    "### 2.1 Parse the dataset population.csv into a pandas DataFrame (5 pts.)\n",
    "\n",
    "Complete the function `getData(path)`, which reads the file specified in the `path` input. The function should return a pandas `DataFrame`, containing the data in _population.csv_."
   ]
  },
  {
   "cell_type": "code",
   "execution_count": 417,
   "metadata": {},
   "outputs": [],
   "source": [
    "def getData(path):\n",
    "    \n",
    "    data = pd.read_csv(path)\n",
    "    \n",
    "    return data"
   ]
  },
  {
   "cell_type": "code",
   "execution_count": 418,
   "metadata": {},
   "outputs": [],
   "source": [
    "data = getData('population.csv')"
   ]
  },
  {
   "cell_type": "code",
   "execution_count": 419,
   "metadata": {},
   "outputs": [
    {
     "data": {
      "text/html": [
       "<div>\n",
       "<style scoped>\n",
       "    .dataframe tbody tr th:only-of-type {\n",
       "        vertical-align: middle;\n",
       "    }\n",
       "\n",
       "    .dataframe tbody tr th {\n",
       "        vertical-align: top;\n",
       "    }\n",
       "\n",
       "    .dataframe thead th {\n",
       "        text-align: right;\n",
       "    }\n",
       "</style>\n",
       "<table border=\"1\" class=\"dataframe\">\n",
       "  <thead>\n",
       "    <tr style=\"text-align: right;\">\n",
       "      <th></th>\n",
       "      <th>Year</th>\n",
       "      <th>District.Code</th>\n",
       "      <th>District.Name</th>\n",
       "      <th>Neighborhood.Code</th>\n",
       "      <th>Neighborhood.Name</th>\n",
       "      <th>Gender</th>\n",
       "      <th>Age</th>\n",
       "      <th>Number</th>\n",
       "    </tr>\n",
       "  </thead>\n",
       "  <tbody>\n",
       "    <tr>\n",
       "      <th>0</th>\n",
       "      <td>2017</td>\n",
       "      <td>1</td>\n",
       "      <td>Ciutat Vella</td>\n",
       "      <td>1</td>\n",
       "      <td>el Raval</td>\n",
       "      <td>Male</td>\n",
       "      <td>0-4</td>\n",
       "      <td>224</td>\n",
       "    </tr>\n",
       "    <tr>\n",
       "      <th>1</th>\n",
       "      <td>2017</td>\n",
       "      <td>1</td>\n",
       "      <td>Ciutat Vella</td>\n",
       "      <td>2</td>\n",
       "      <td>el Barri Gòtic</td>\n",
       "      <td>Male</td>\n",
       "      <td>0-4</td>\n",
       "      <td>50</td>\n",
       "    </tr>\n",
       "    <tr>\n",
       "      <th>2</th>\n",
       "      <td>2017</td>\n",
       "      <td>1</td>\n",
       "      <td>Ciutat Vella</td>\n",
       "      <td>3</td>\n",
       "      <td>la Barceloneta</td>\n",
       "      <td>Male</td>\n",
       "      <td>0-4</td>\n",
       "      <td>43</td>\n",
       "    </tr>\n",
       "    <tr>\n",
       "      <th>3</th>\n",
       "      <td>2017</td>\n",
       "      <td>1</td>\n",
       "      <td>Ciutat Vella</td>\n",
       "      <td>4</td>\n",
       "      <td>Sant Pere, Santa Caterina i la Ribera</td>\n",
       "      <td>Male</td>\n",
       "      <td>0-4</td>\n",
       "      <td>95</td>\n",
       "    </tr>\n",
       "    <tr>\n",
       "      <th>4</th>\n",
       "      <td>2017</td>\n",
       "      <td>2</td>\n",
       "      <td>Eixample</td>\n",
       "      <td>5</td>\n",
       "      <td>el Fort Pienc</td>\n",
       "      <td>Male</td>\n",
       "      <td>0-4</td>\n",
       "      <td>124</td>\n",
       "    </tr>\n",
       "  </tbody>\n",
       "</table>\n",
       "</div>"
      ],
      "text/plain": [
       "   Year  District.Code District.Name  Neighborhood.Code  \\\n",
       "0  2017              1  Ciutat Vella                  1   \n",
       "1  2017              1  Ciutat Vella                  2   \n",
       "2  2017              1  Ciutat Vella                  3   \n",
       "3  2017              1  Ciutat Vella                  4   \n",
       "4  2017              2      Eixample                  5   \n",
       "\n",
       "                       Neighborhood.Name Gender  Age  Number  \n",
       "0                               el Raval   Male  0-4     224  \n",
       "1                         el Barri Gòtic   Male  0-4      50  \n",
       "2                         la Barceloneta   Male  0-4      43  \n",
       "3  Sant Pere, Santa Caterina i la Ribera   Male  0-4      95  \n",
       "4                          el Fort Pienc   Male  0-4     124  "
      ]
     },
     "execution_count": 419,
     "metadata": {},
     "output_type": "execute_result"
    }
   ],
   "source": [
    "data.head()"
   ]
  },
  {
   "cell_type": "markdown",
   "metadata": {},
   "source": [
    "### 2.2 Print the total population of Barcelona (5 pts.)\n",
    "Complete the function `getTotalPopulation(data)`, which returns the total population of the city. Use the return value to print out message. The output should be in the form:\n",
    "\n",
    "*\"The total population of Barcelona is XXX people\"*"
   ]
  },
  {
   "cell_type": "code",
   "execution_count": 420,
   "metadata": {},
   "outputs": [],
   "source": [
    "# restrict on year: 2017\n",
    "data = data[data[\"Year\"] == 2017]"
   ]
  },
  {
   "cell_type": "code",
   "execution_count": 421,
   "metadata": {},
   "outputs": [],
   "source": [
    "def getTotalPopulation(data):\n",
    "    \n",
    "    population = sum(data[\"Number\"])\n",
    "    \n",
    "    return population"
   ]
  },
  {
   "cell_type": "code",
   "execution_count": 422,
   "metadata": {},
   "outputs": [
    {
     "data": {
      "text/plain": [
       "1620809"
      ]
     },
     "execution_count": 422,
     "metadata": {},
     "output_type": "execute_result"
    }
   ],
   "source": [
    "getTotalPopulation(data)"
   ]
  },
  {
   "cell_type": "markdown",
   "metadata": {},
   "source": [
    "### 2.3 Retrieve the names and the populations of the Districts with the highest and lowest populations (5 pts.)\n",
    "\n",
    "Complete the function `getMaxNMinPopulationPerDistrict(data)`, which returns the max and min population for each district in a form of two tuples. One tuple contains the name and population for the disrict. (So basically, you are returning one tuple, which contains two tuples). Use the function to print out a message. The output should be in the form:\n",
    "\n",
    "*\"The district A has the highest population XXX people\"*\n",
    "\n",
    "*\"The district B has the lowest population: XXX people\"*\n"
   ]
  },
  {
   "cell_type": "code",
   "execution_count": 394,
   "metadata": {},
   "outputs": [],
   "source": [
    "def getMaxNMinPopulationPerDistrict(data):\n",
    "    \n",
    "    max_row = data.groupby('District.Name').sum().sort_values('Number').iloc[0]\n",
    "    min_row = data.groupby('District.Name').sum().sort_values('Number').iloc[-1]\n",
    "    \n",
    "    \n",
    "    print(f\"{max_row.name}, {max_row['Number']}\")\n",
    "    print(f\"{min_row.name}, {min_row['Number']}\")"
   ]
  },
  {
   "cell_type": "code",
   "execution_count": 395,
   "metadata": {},
   "outputs": [
    {
     "name": "stdout",
     "output_type": "stream",
     "text": [
      "Les Corts, 408045\n",
      "Eixample, 1322624\n"
     ]
    }
   ],
   "source": [
    "getMaxNMinPopulationPerDistrict(data)"
   ]
  },
  {
   "cell_type": "markdown",
   "metadata": {},
   "source": [
    "### 2.4 Print the number of males and females in each district (5 pts.)\n",
    "\n",
    "Complete the function `getGenderPerDistrict(data)`, which returns a dictionary, where the keys are the districts, and the value for each key is a tuple. The tuple contains the number of female and male (in that order) for the district. Use the dictionary to print out a message for each district with the format:\n",
    "\n",
    "*In the district XXX, there are YYY females and ZZZ males.* "
   ]
  },
  {
   "cell_type": "code",
   "execution_count": 405,
   "metadata": {},
   "outputs": [],
   "source": [
    "def getGenderPerDistrict(data):\n",
    "    \n",
    "    gender_dict = dict()\n",
    "    \n",
    "    for dist_name, distdf in data.groupby('District.Name'):\n",
    "        gender_dict[dist_name] = (distdf.groupby('Gender')['Number'].sum()[0], distdf.groupby('Gender')['Number'].sum()[1])\n",
    "    \n",
    "    return gender_dict"
   ]
  },
  {
   "cell_type": "code",
   "execution_count": 406,
   "metadata": {},
   "outputs": [],
   "source": [
    "di = getGenderPerDistrict(data)"
   ]
  },
  {
   "cell_type": "code",
   "execution_count": 407,
   "metadata": {},
   "outputs": [
    {
     "data": {
      "text/plain": [
       "{'Ciutat Vella': (48467, 52920),\n",
       " 'Eixample': (142554, 123862),\n",
       " 'Gràcia': (65793, 55554),\n",
       " 'Horta-Guinardó': (89485, 79266),\n",
       " 'Les Corts': (43820, 38213),\n",
       " 'Nou Barris': (88348, 78231),\n",
       " 'Sant Andreu': (77571, 70023),\n",
       " 'Sant Martí': (122263, 113250),\n",
       " 'Sants-Montjuïc': (95006, 86904),\n",
       " 'Sarrià-Sant Gervasi': (80877, 68402)}"
      ]
     },
     "execution_count": 407,
     "metadata": {},
     "output_type": "execute_result"
    }
   ],
   "source": [
    "di"
   ]
  },
  {
   "cell_type": "markdown",
   "metadata": {},
   "source": [
    "### 2.5 Make a bar plot comparing the number of males and females in Barcelona (5 pts.)\n",
    "\n",
    "Complete the function `createBarPlot(data)`, which creates a bar plot for males and females in Barcelona. The function has no return value.\n",
    "The plot should include:\n",
    "- an explanative title\n",
    "- labels for both bars\n",
    "- labels for the number axis"
   ]
  },
  {
   "cell_type": "code",
   "execution_count": 423,
   "metadata": {},
   "outputs": [],
   "source": [
    "def createBarPlot1(data):\n",
    "    \n",
    "    grouped_table = data.groupby('Gender').sum()\n",
    "    plt.bar(grouped_table['Number'].index, grouped_table['Number'])"
   ]
  },
  {
   "cell_type": "code",
   "execution_count": 424,
   "metadata": {},
   "outputs": [
    {
     "data": {
      "image/png": "[encoded data removed]",
      "text/plain": [
       "<Figure size 432x288 with 1 Axes>"
      ]
     },
     "metadata": {
      "needs_background": "light"
     },
     "output_type": "display_data"
    }
   ],
   "source": [
    "createBarPlot1(data)"
   ]
  },
  {
   "cell_type": "code",
   "execution_count": 164,
   "metadata": {},
   "outputs": [],
   "source": [
    "def createBarPlot2(data):\n",
    "    data.groupby(\"Gender\")['Number'].sum().plot.bar()"
   ]
  },
  {
   "cell_type": "code",
   "execution_count": 165,
   "metadata": {},
   "outputs": [
    {
     "data": {
      "image/png": "[encoded data removed]",
      "text/plain": [
       "<Figure size 432x288 with 1 Axes>"
      ]
     },
     "metadata": {
      "needs_background": "light"
     },
     "output_type": "display_data"
    }
   ],
   "source": [
    "createBarPlot2(data)"
   ]
  },
  {
   "cell_type": "markdown",
   "metadata": {},
   "source": [
    "### 2.6 Make two overlapping histogram comparing population for the age groups for male and female (10 pts.)\n",
    "\n",
    "Complete the function `createHistogram(data)`, which creates two histograms in one plot, showing the distribution of age for male and female in Barcelona. The functions doesn't return anything.\n",
    "The plot should have:\n",
    "\n",
    "- two visible histograms\n",
    "- an explaining x- and y-label\n",
    "- x-ticks, showing the correct age group\n",
    "- a legend\n",
    "- a title\n",
    "\n",
    "Note: This might be a bit tricky! The column _Age_ doesn't hold numbers...\n",
    "\n",
    "Hint: There are two directions for solving this, the first is figuring what kind of input does `plt.hist()` take and creating data in that format, the second is not using `plt.hist()` but building the histogram out of something else, e.g. a bar plot."
   ]
  },
  {
   "cell_type": "code",
   "execution_count": 384,
   "metadata": {},
   "outputs": [],
   "source": [
    "def createHistogram(data):\n",
    "    \n",
    "    plt.figure(figsize=(12,5))\n",
    "    \n",
    "    \n",
    "    for gender, genderdf in data.groupby('Gender'):\n",
    "        \n",
    "        # We need to insert row on index \"9\" into index \"1\", otherwise it won't be a valid histogram.\n",
    "        # If you made a barplot you will still get max points\n",
    "        tmp_table = genderdf.groupby('Age').sum()\n",
    "        indices = [tmp_table.index[0]] + [tmp_table.index[9]] + list(tmp_table.index[1:9]) + list(tmp_table.index[10:])\n",
    "        final_table = tmp_table.reindex(indices)\n",
    "        plt.bar(final_table.index, final_table['Number'], alpha=0.5, label=f\"{gender}\")\n",
    "    \n",
    "    plt.legend()\n",
    "    plt.show()"
   ]
  },
  {
   "cell_type": "code",
   "execution_count": 385,
   "metadata": {
    "scrolled": false
   },
   "outputs": [
    {
     "data": {
      "image/png": "[encoded data removed]",
      "text/plain": [
       "<Figure size 864x360 with 1 Axes>"
      ]
     },
     "metadata": {
      "needs_background": "light"
     },
     "output_type": "display_data"
    }
   ],
   "source": [
    "createHistogram(data)"
   ]
  },
  {
   "cell_type": "code",
   "execution_count": null,
   "metadata": {},
   "outputs": [],
   "source": []
  },
  {
   "cell_type": "code",
   "execution_count": null,
   "metadata": {},
   "outputs": [],
   "source": []
  },
  {
   "cell_type": "code",
   "execution_count": null,
   "metadata": {},
   "outputs": [],
   "source": []
  },
  {
   "cell_type": "code",
   "execution_count": null,
   "metadata": {},
   "outputs": [],
   "source": []
  }
 ],
 "metadata": {
  "kernelspec": {
   "display_name": "Python 3",
   "language": "python",
   "name": "python3"
  },
  "language_info": {
   "codemirror_mode": {
    "name": "ipython",
    "version": 3
   },
   "file_extension": ".py",
   "mimetype": "text/x-python",
   "name": "python",
   "nbconvert_exporter": "python",
   "pygments_lexer": "ipython3",
   "version": "3.6.9"
  }
 },
 "nbformat": 4,
 "nbformat_minor": 2
}
