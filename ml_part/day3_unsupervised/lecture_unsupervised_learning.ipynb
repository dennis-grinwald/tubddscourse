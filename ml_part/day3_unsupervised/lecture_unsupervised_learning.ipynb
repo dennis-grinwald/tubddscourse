{
 "cells": [
  {
   "cell_type": "markdown",
   "metadata": {},
   "source": [
    "# Unsupervised learning\n",
    "\n",
    "## Usually refers to clustering and dimensionality reduction methods, when no labels are available. \n",
    "Moreover:\n",
    "- less expensive\n",
    "- easily available\n",
    "\n",
    "## Dataset:\n",
    "\n",
    "$D={((\\mathbf x_{1}), ..., (\\mathbf x_{N}}))$,"
   ]
  },
  {
   "cell_type": "markdown",
   "metadata": {},
   "source": [
    "# Clustering\n",
    "![Binary classification](ressources/unsupervised.png)\n",
    "\n",
    "## 1. K-Means clustering\n",
    "### Goal:\n",
    "---\n",
    "![Binary classification](ressources/kmeans.png)\n",
    "\n",
    "### Pseudo-code:\n",
    "---\n",
    "![Binary classification](ressources/kmeans_algo.jpg)\n",
    "\n",
    "### Visualizing good convergence\n",
    "---\n",
    "![Binary classification](ressources/kmeans.gif)"
   ]
  },
  {
   "cell_type": "code",
   "execution_count": null,
   "metadata": {},
   "outputs": [],
   "source": []
  },
  {
   "cell_type": "markdown",
   "metadata": {},
   "source": [
    "## 2. Hierarchical clustering"
   ]
  },
  {
   "cell_type": "code",
   "execution_count": null,
   "metadata": {},
   "outputs": [],
   "source": []
  },
  {
   "cell_type": "code",
   "execution_count": null,
   "metadata": {},
   "outputs": [],
   "source": []
  },
  {
   "cell_type": "markdown",
   "metadata": {},
   "source": [
    "# Dimensionality reduction\n",
    "## 1. PCA"
   ]
  },
  {
   "cell_type": "code",
   "execution_count": null,
   "metadata": {},
   "outputs": [],
   "source": []
  }
 ],
 "metadata": {
  "kernelspec": {
   "display_name": "Python 3",
   "language": "python",
   "name": "python3"
  },
  "language_info": {
   "codemirror_mode": {
    "name": "ipython",
    "version": 3
   },
   "file_extension": ".py",
   "mimetype": "text/x-python",
   "name": "python",
   "nbconvert_exporter": "python",
   "pygments_lexer": "ipython3",
   "version": "3.6.9"
  }
 },
 "nbformat": 4,
 "nbformat_minor": 2
}
