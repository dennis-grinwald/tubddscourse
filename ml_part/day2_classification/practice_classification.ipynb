{
 "cells": [
  {
   "cell_type": "markdown",
   "metadata": {},
   "source": [
    "# Task 1: Binary nearest centroid classifier\n",
    "Given the following dataset, please do the following:\n",
    "\n",
    "### 1.1 Implement the Nearest centroid classifier as a function or class, using the euclidean distance as a distance function:\n",
    "\n",
    "$dist(\\mathbf x, \\mathbf y)=\\lvert\\lvert \\mathbf x - \\mathbf y \\lvert\\lvert^{2}$\n",
    "\n",
    "### 1.2 Plot the decision boundary for given dataset(Note: decision boundary is where the distance to both centroids is equally large)"
   ]
  },
  {
   "cell_type": "code",
   "execution_count": 17,
   "metadata": {},
   "outputs": [
    {
     "name": "stderr",
     "output_type": "stream",
     "text": [
      "[nltk_data] Downloading package stopwords to /home/dg/nltk_data...\n",
      "[nltk_data]   Package stopwords is already up-to-date!\n"
     ]
    },
    {
     "data": {
      "text/plain": [
       "True"
      ]
     },
     "execution_count": 17,
     "metadata": {},
     "output_type": "execute_result"
    }
   ],
   "source": [
    "import numpy as np\n",
    "import pandas as pd\n",
    "import matplotlib.pyplot as plt\n",
    "import seaborn as sns\n",
    "nltk.download('stopwords')"
   ]
  },
  {
   "cell_type": "code",
   "execution_count": 18,
   "metadata": {},
   "outputs": [],
   "source": [
    "# create synthetic dataset\n",
    "dog_data = pd.DataFrame(data={'good girl/boy': [2, 2.4, 2.5, 3], 'grumpiness': [.9, .9, 1.2 ,.8]})\n",
    "cat_data = pd.DataFrame(data={'good girl/boy': [0.10, 0.5, 0.7, 0.2], 'grumpiness': [2, 1.5 ,1.8, 1.7]})"
   ]
  },
  {
   "cell_type": "code",
   "execution_count": 19,
   "metadata": {},
   "outputs": [
    {
     "data": {
      "image/png": "[encoded data removed]",
      "text/plain": [
       "<Figure size 432x288 with 1 Axes>"
      ]
     },
     "metadata": {
      "needs_background": "light"
     },
     "output_type": "display_data"
    }
   ],
   "source": [
    "plt.scatter(dog_data['grumpiness'], dog_data['good girl/boy'], label='Dogs')\n",
    "plt.scatter(cat_data['grumpiness'], cat_data['good girl/boy'], label='Cats')\n",
    "plt.xlabel('Grumpiness')\n",
    "plt.ylabel('Good Girl/Boy')\n",
    "plt.legend()\n",
    "plt.show()"
   ]
  },
  {
   "cell_type": "code",
   "execution_count": null,
   "metadata": {},
   "outputs": [],
   "source": []
  },
  {
   "cell_type": "code",
   "execution_count": null,
   "metadata": {},
   "outputs": [],
   "source": []
  },
  {
   "cell_type": "code",
   "execution_count": null,
   "metadata": {},
   "outputs": [],
   "source": []
  },
  {
   "cell_type": "markdown",
   "metadata": {},
   "source": [
    "# Task 2: Binary breast cancer classification\n",
    "Following up you'll find a UCI dataset containing samples of healthy patients, and patients that were diagnosed with breast cancer. \n",
    "For specific information about the dataset, please visit: https://archive.ics.uci.edu/ml/datasets/Breast+Cancer+Wisconsin+%28Diagnostic%29\n",
    "\n",
    "\n",
    "Your goals are to complete the following tasks:\n",
    "\n",
    "### 2.1. Parse the data and perform some exploration first, that is:\n",
    "- Load the data located in: 'data/breast_cancer.csv' into a pandas dataframe\n",
    "- Plot histogram of radius mean values\n",
    "    - Hint: Use np.hist() \n",
    "- Plot correlation matrix between between every pair of features\n",
    "    - Hint: Use sns.heatmap()\n",
    "- Choose 5 features that don't correlate with each other and drop the rest\n",
    "\n",
    "### 2.2. Split the data into training and test set(the ratio should be 80% / 20%)\n",
    "- Before splitting, convert all categorical features into numerical ones\n",
    "- Hint: Use pd.get_dummies()\n",
    "    \n",
    "### 2.3. Use the sklearn package and train the following algorithms on the dataset:\n",
    "https://scikit-learn.org/stable/modules/classes.html#module-sklearn.linear_model\n",
    "https://scikit-learn.org/stable/modules/generated/sklearn.ensemble.RandomForestClassifier.html\n",
    "\n",
    "- Apply the following linear models to the dataset:\n",
    "    - Logisitc regression\n",
    "    - SVM(linear kernel)\n",
    "- Apply the following non-linear models to the dataset:\n",
    "    - SVM(rbf kernel)\n",
    "    - Random Forest\n",
    "        \n",
    "- NOTE: Test different hyperparameter settings for the corresponding models and pick the best one.\n",
    "    \n",
    "### 2.4. Compute the confusion matrix for each classifier, which one performs best and why would you say so ?\n",
    "https://scikit-learn.org/stable/modules/generated/sklearn.metrics.confusion_matrix.html"
   ]
  },
  {
   "cell_type": "code",
   "execution_count": null,
   "metadata": {},
   "outputs": [],
   "source": []
  },
  {
   "cell_type": "code",
   "execution_count": null,
   "metadata": {},
   "outputs": [],
   "source": []
  },
  {
   "cell_type": "code",
   "execution_count": null,
   "metadata": {},
   "outputs": [],
   "source": []
  },
  {
   "cell_type": "markdown",
   "metadata": {},
   "source": [
    "# Task 3: Sentiment Analysis\n",
    "Goal: Identify and categorize opinions from text data.\n",
    "---\n",
    "Following up you'll find a official dataset containing user tweets about the first 2016 GOP Presidential Debate, or as stated by the original source: \n",
    "```\n",
    "We looked through tens of thousands of tweets about the early August GOP debate in Ohio and asked contributors to do both sentiment analysis and data categorization. Contributors were asked if the tweet was relevant, which candidate was mentioned, what subject was mentioned, and then what the sentiment was for a given tweet. We've removed the non-relevant messages from the uploaded dataset.\n",
    "```\n",
    "For more information about the data, please follow:\n",
    "https://www.kaggle.com/crowdflower/first-gop-debate-twitter-sentiment\n",
    "\n",
    "\n",
    "### Your goals are to complete the following tasks:\n",
    "---\n",
    "\n",
    "### 3.1. Parse the data and perform some exploration first, that is:\n",
    "- remove all columns except 'text' and 'sentiment'\n",
    "- split data into 2 separate datasets, where one contains just negative and one contains the positive tweets(create 2 new datasets instead of deleting the old one)\n",
    "- remove stop words from tweets(see https://www.nltk.org/book/ch02.html 4.1), as well as hashtags, '@'-signs and 'RT sign'\n",
    "- print a wordcloud for the positive-tweet dataset aswell as the negative tweets dataset. It displays the most appearing words in each dataset. The code for the wordcloud is provided below.\n",
    "- create a list object, called 'tweets', that contains tuples: (list of words in tweet(cleaned), sentiment('Negative' or 'Positive'))\n",
    "\n",
    "### 3.2. Split the data into training and test set(the ratio should be 80% / 20%)\n",
    "    \n",
    "    \n",
    "### 3.3. Use the nltk library to train a NaiveBayesClassifier on the dataset:\n",
    "- use nltk.classify.util.apply_features to provide the word features to the classifier(look up docu https://www.nltk.org/api/nltk.classify.html#module-nltk.classify.util)\n",
    "the needed input argument feature_func input is provided by extract_features function.\n",
    "- Use: 'classifier = nltk.NaiveBayesClassifier.train(training_set)' to train the classifier, where training_set is the output of the apply_features function\n",
    "\n",
    "### 3.4. Use the trained classifier to predict the sentiments of the test set. Plot confusion matrix\n",
    "\n",
    "### 3.5. Provide your own inputs to the classifier and see check whether it is able to classify your intended sentiment."
   ]
  },
  {
   "cell_type": "code",
   "execution_count": 13,
   "metadata": {},
   "outputs": [],
   "source": [
    "import numpy as np\n",
    "import pandas as pd\n",
    "from sklearn.model_selection import train_test_split\n",
    "\n",
    "import nltk\n",
    "from nltk.corpus import stopwords\n",
    "from nltk.classify import SklearnClassifier\n",
    "\n",
    "from wordcloud import WordCloud,STOPWORDS\n",
    "import matplotlib.pyplot as plt\n",
    "%matplotlib inline\n",
    "\n",
    "from subprocess import check_output"
   ]
  },
  {
   "cell_type": "code",
   "execution_count": null,
   "metadata": {},
   "outputs": [],
   "source": []
  },
  {
   "cell_type": "code",
   "execution_count": null,
   "metadata": {
    "scrolled": false
   },
   "outputs": [],
   "source": [
    "def wordcloud(cleaned_words, color='black'):\n",
    "    words = ' '.join(cleaned_words)\n",
    "    cleaned_word = \" \".join([word for word in words.split()])\n",
    "    \n",
    "    wordcloud = WordCloud(stopwords=STOPWORDS,\n",
    "                      background_color=color,\n",
    "                      width=2500,\n",
    "                      height=2000\n",
    "                     ).generate(cleaned_word)\n",
    "    plt.figure(1,figsize=(13, 13))\n",
    "    plt.imshow(wordcloud)\n",
    "    plt.axis('off')\n",
    "    plt.show()\n",
    "    \n",
    "print(\"Positive words\")\n",
    "wordcloud(train_pos,'white')\n",
    "print(\"Negative words\")\n",
    "wordcloud(train_neg)"
   ]
  },
  {
   "cell_type": "code",
   "execution_count": 15,
   "metadata": {},
   "outputs": [],
   "source": [
    "tweets = []"
   ]
  },
  {
   "cell_type": "code",
   "execution_count": 56,
   "metadata": {
    "scrolled": true
   },
   "outputs": [],
   "source": [
    "# Provided functions\n",
    "def get_words_in_tweets(tweets):\n",
    "    all = []\n",
    "    for (words, sentiment) in tweets:\n",
    "        all.extend(words)\n",
    "    return all\n",
    "\n",
    "def get_word_features(wordlist):\n",
    "    wordlist = nltk.FreqDist(wordlist)\n",
    "    features = wordlist.keys()\n",
    "    return features\n",
    "\n",
    "w_features = get_word_features(get_words_in_tweets(tweets))\n",
    "\n",
    "def extract_features(document):\n",
    "    document_words = set(document)\n",
    "    features = {}\n",
    "    for word in w_features:\n",
    "        features['contains(%s)' % word] = (word in document_words)\n",
    "    return features"
   ]
  },
  {
   "cell_type": "code",
   "execution_count": null,
   "metadata": {},
   "outputs": [],
   "source": []
  },
  {
   "cell_type": "code",
   "execution_count": null,
   "metadata": {},
   "outputs": [],
   "source": []
  },
  {
   "cell_type": "code",
   "execution_count": null,
   "metadata": {},
   "outputs": [],
   "source": []
  },
  {
   "cell_type": "markdown",
   "metadata": {},
   "source": [
    "# To learn more about the inner mechanics of the NaiveBayes classifier read up this introdution:\n",
    "https://towardsdatascience.com/naive-bayes-classifier-81d512f50a7c\n"
   ]
  },
  {
   "cell_type": "markdown",
   "metadata": {},
   "source": [
    "# To learn more about commonly used feature representations of text data, read up on:\n",
    "https://medium.com/machine-learning-intuition/document-classification-part-2-text-processing-eaa26d16c719"
   ]
  }
 ],
 "metadata": {
  "kernelspec": {
   "display_name": "Python 3",
   "language": "python",
   "name": "python3"
  },
  "language_info": {
   "codemirror_mode": {
    "name": "ipython",
    "version": 3
   },
   "file_extension": ".py",
   "mimetype": "text/x-python",
   "name": "python",
   "nbconvert_exporter": "python",
   "pygments_lexer": "ipython3",
   "version": "3.6.9"
  }
 },
 "nbformat": 4,
 "nbformat_minor": 2
}
