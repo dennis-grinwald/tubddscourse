{
 "cells": [
  {
   "cell_type": "markdown",
   "metadata": {},
   "source": [
    "# Q1: Binary nearest centroid classifier\n",
    "\n",
    "#### Implement the Nearest centroid classifier by following these steps:\n",
    "####  1. Implement a euclidean distance function, given by the following formula:\n",
    "$dist(\\mathbf x, \\mathbf y)=\\lvert\\lvert \\mathbf x - \\mathbf y \\lvert\\lvert^{2}_{2}$\n",
    "####  2. Write a class, that represents a Binary nearest centroid classifier, which should contain:\n",
    "- the init function should take as inputs a distance function(here we are gonna use your written function from task 1)\n",
    "- a fit function, that takes as input arguments a dataset and the corresponding labels and does the following:\n",
    "    - save the dataset and the labels separately as class variables(self. etc.)\n",
    "    - compute the means of both classes and save them as class variables\n",
    "    - save the indices of points from each class and save those 2 lists as class variables:\n",
    "        - e.g. self.indices_class1 = [], self.indices_class2 = [] \n",
    "        \n",
    "- a predict function that takes as input a new datapoint and computes and returns the corresponding label, specifically it should do the following:\n",
    "    - compute the distance to each of the means. The label of the closest mean will be the label that we assign to the new point.\n",
    "    - concatenate the old dataset with the new data point and its predicted label, respectively\n",
    "    - add the index of the point to the corresponding: self.indices_class list\n",
    "    - recompute the mean class variables and store them in the self variable\n",
    "- Use the model to classify the newly provided data point\n",
    "- make a scatter plot of the new dataset, including the newly classified point. Use the label information to paint the points according to their color"
   ]
  },
  {
   "cell_type": "code",
   "execution_count": 1,
   "metadata": {},
   "outputs": [
    {
     "name": "stderr",
     "output_type": "stream",
     "text": [
      "[nltk_data] Downloading package stopwords to /home/dg/nltk_data...\n",
      "[nltk_data]   Package stopwords is already up-to-date!\n"
     ]
    },
    {
     "data": {
      "text/plain": [
       "True"
      ]
     },
     "execution_count": 1,
     "metadata": {},
     "output_type": "execute_result"
    }
   ],
   "source": [
    "import numpy as np\n",
    "import pandas as pd\n",
    "import matplotlib.pyplot as plt\n",
    "import seaborn as sns\n",
    "import nltk\n",
    "nltk.download('stopwords')"
   ]
  },
  {
   "cell_type": "code",
   "execution_count": 2,
   "metadata": {},
   "outputs": [],
   "source": [
    "# create synthetic dataset\n",
    "dog_data = pd.DataFrame(data={'good girl/boy': [2, 2.4, 2.5, 3], 'grumpiness': [.9, .9, 1.2 ,.8]})\n",
    "\n",
    "cat_data = pd.DataFrame(data={'good girl/boy': [0.10, 0.5, 0.7, 0.2], 'grumpiness': [2, 1.5 ,1.8, 1.7]})\n",
    "\n",
    "labels = ['dog', 'cat']\n",
    "\n",
    "X = np.vstack([dog_data, cat_data])\n",
    "\n",
    "Y = np.concatenate([np.zeros(len(dog_data)), np.ones(len(cat_data))])"
   ]
  },
  {
   "cell_type": "code",
   "execution_count": 3,
   "metadata": {},
   "outputs": [
    {
     "data": {
      "image/png": "[encoded data removed]",
      "text/plain": [
       "<Figure size 432x288 with 1 Axes>"
      ]
     },
     "metadata": {
      "needs_background": "light"
     },
     "output_type": "display_data"
    }
   ],
   "source": [
    "plt.scatter(dog_data['grumpiness'], dog_data['good girl/boy'], label='Dogs')\n",
    "plt.scatter(cat_data['grumpiness'], cat_data['good girl/boy'], label='Cats')\n",
    "plt.xlabel('Grumpiness')\n",
    "plt.ylabel('Good Girl/Boy')\n",
    "plt.legend()\n",
    "plt.show()"
   ]
  },
  {
   "cell_type": "code",
   "execution_count": 4,
   "metadata": {},
   "outputs": [],
   "source": [
    "def euclidean_dist(x, y):\n",
    "    \n",
    "    distance = np.sqrt(np.sum((x-y)**2))\n",
    "    \n",
    "    return distance"
   ]
  },
  {
   "cell_type": "code",
   "execution_count": 5,
   "metadata": {},
   "outputs": [],
   "source": [
    "class Binary_NC_classifier(object):\n",
    "    \n",
    "    def __init__(self, dist_func):\n",
    "        \n",
    "        self.dist_fn = dist_func \n",
    "        self.mean_c0 = None\n",
    "        self.mean_c1 = None\n",
    "        \n",
    "    def fit(self, X, y):\n",
    "        \n",
    "        self.X = X\n",
    "        self.y = y\n",
    "        self.class_0_idx = np.argwhere(self.y==0)[:,0]\n",
    "        self.class_1_idx = np.argwhere(self.y==1)[:,0]\n",
    "        \n",
    "        self.mean_c0 = np.mean(self.X[self.class_0_idx], axis=0)\n",
    "        self.mean_c1 = np.mean(self.X[self.class_1_idx], axis=0)\n",
    "        \n",
    "    def predict(self, x):\n",
    "        \n",
    "        min_dist_class = np.argmin([self.dist_fn(x, self.mean_c0), self.dist_fn(x, self.mean_c1)])\n",
    "        \n",
    "        self.X = np.vstack([self.X, x])\n",
    "        self.y = np.concatenate([self.y, np.array([min_dist_class])])\n",
    "        \n",
    "        if min_dist_class == 0:\n",
    "            self.class_0_idx = np.concatenate([self.class_0_idx, np.array([len(self.X)-1])])\n",
    "            self.mean_c0 = np.mean(self.X[np.argwhere(self.y==0)[:,0]], axis=0)\n",
    "        else:\n",
    "            self.class_1_idx = np.concatenate([self.class_1_idx, np.array([len(self.X)-1])])\n",
    "            self.mean_c1 = np.mean(self.X[np.argwhere(self.y==1)[:,0]], axis=0)\n",
    "        \n",
    "        return min_dist_class"
   ]
  },
  {
   "cell_type": "code",
   "execution_count": 6,
   "metadata": {},
   "outputs": [],
   "source": [
    "model = Binary_NC_classifier(euclidean_dist)\n",
    "model.fit(X, Y)"
   ]
  },
  {
   "cell_type": "code",
   "execution_count": 7,
   "metadata": {},
   "outputs": [],
   "source": [
    "new_point = np.array([1.8, 0.5])"
   ]
  },
  {
   "cell_type": "code",
   "execution_count": 8,
   "metadata": {},
   "outputs": [
    {
     "name": "stdout",
     "output_type": "stream",
     "text": [
      "Predicted label: dog\n"
     ]
    }
   ],
   "source": [
    "predicted_label = model.predict(new_point)\n",
    "print(f'Predicted label: {labels[predicted_label]}')"
   ]
  },
  {
   "cell_type": "code",
   "execution_count": 9,
   "metadata": {},
   "outputs": [
    {
     "data": {
      "text/plain": [
       "<matplotlib.legend.Legend at 0x7f7ef66f7470>"
      ]
     },
     "execution_count": 9,
     "metadata": {},
     "output_type": "execute_result"
    },
    {
     "data": {
      "image/png": "[encoded data removed]",
      "text/plain": [
       "<Figure size 432x288 with 1 Axes>"
      ]
     },
     "metadata": {
      "needs_background": "light"
     },
     "output_type": "display_data"
    }
   ],
   "source": [
    "plt.scatter(dog_data['good girl/boy'], dog_data['grumpiness'], label='Dogs')\n",
    "plt.scatter(cat_data['good girl/boy'], cat_data['grumpiness'], label='Cats')\n",
    "plt.scatter(new_point[0], new_point[1], label='new point')\n",
    "plt.legend()"
   ]
  },
  {
   "cell_type": "markdown",
   "metadata": {},
   "source": [
    "# Q2: Binary breast cancer classification\n",
    "Following up you'll find a UCI dataset containing samples of healthy patients, and patients that were diagnosed with breast cancer. \n",
    "For specific information about the dataset, please visit: https://archive.ics.uci.edu/ml/datasets/Breast+Cancer+Wisconsin+%28Diagnostic%29\n",
    "\n",
    "\n",
    "Your goals are to complete the following tasks:\n",
    "\n",
    "### 1. Parse the data and perform some cleaning:\n",
    "- Split the labels(='diagnosis') from the rest of the dataset\n",
    "- Drop the columns: 'id', 'Unnamed: 32':\n",
    "    - Hint: Check out the pandas function 'drop': https://pandas.pydata.org/pandas-docs/stable/reference/api/pandas.DataFrame.drop.html\n",
    "- Convert the labels(=['M', 'B']) to binary ones(=1, 0)\n",
    "    - Hint: You can use pd.get_dummies() or your method to do so\n",
    "- split the dataset into training and test set(ratio=80%/20%). Create two new datasets, and keep the original, whole dataset fixed:\n",
    "    - You may use: https://scikit-learn.org/stable/modules/generated/sklearn.model_selection.train_test_split.html\n",
    "    - Don't forget to shuffle the data\n",
    "\n",
    "### 2. Do some exploration on the whole dataset(training and test set together):\n",
    "- Plot histogram of radius mean values from both classes\n",
    "    - Hint: Use np.hist() \n",
    "- Plot correlation matrix between between every pair of features\n",
    "    - Hint: Use sns.heatmap(data.corr())\n",
    "- Look for feature pairs that strongly correlate with each other, and save one of them. Repeat this process until you have found 5 features. Keep those and drop the rest.(remember to do this for both the training dataset and the test dataset) \n",
    "    \n",
    "### 3. Use the sklearn package and train the following algorithms on the dataset:\n",
    "https://scikit-learn.org/stable/modules/classes.html#module-sklearn.linear_model\n",
    "https://scikit-learn.org/stable/modules/generated/sklearn.ensemble.RandomForestClassifier.html\n",
    "\n",
    "- Apply the following linear models to the dataset:\n",
    "    - Logisitc regression\n",
    "    - SVM(linear kernel)\n",
    "    \n",
    "- Apply the following non-linear models to the dataset:\n",
    "    - SVM(rbf kernel)\n",
    "    - Random Forest\n",
    "        \n",
    "- NOTE: Test different hyperparameter settings for the corresponding models and pick the best one.\n",
    "    \n",
    "### 4. Compute the confusion matrix and print a classification report for each classifier, which one performs best and why would you say so ?\n",
    "- Docs: https://scikit-learn.org/stable/modules/generated/sklearn.metrics.confusion_matrix.html, \n",
    "- https://scikit-learn.org/stable/modules/generated/sklearn.metrics.classification_report.html"
   ]
  },
  {
   "cell_type": "code",
   "execution_count": null,
   "metadata": {},
   "outputs": [],
   "source": [
    "data = pd.read_csv('data/breast_cancer.csv')\n",
    "data.head()"
   ]
  },
  {
   "cell_type": "code",
   "execution_count": null,
   "metadata": {},
   "outputs": [],
   "source": [
    "plt.figure(figsize=(10,10))\n",
    "sns.heatmap(data.corr())"
   ]
  },
  {
   "cell_type": "code",
   "execution_count": null,
   "metadata": {},
   "outputs": [],
   "source": []
  },
  {
   "cell_type": "code",
   "execution_count": null,
   "metadata": {},
   "outputs": [],
   "source": []
  },
  {
   "cell_type": "code",
   "execution_count": null,
   "metadata": {},
   "outputs": [],
   "source": []
  },
  {
   "cell_type": "code",
   "execution_count": null,
   "metadata": {},
   "outputs": [],
   "source": []
  },
  {
   "cell_type": "code",
   "execution_count": null,
   "metadata": {},
   "outputs": [],
   "source": []
  },
  {
   "cell_type": "markdown",
   "metadata": {},
   "source": [
    "# Q3: Multiclass sentiment Analysis a la Trump(Optional but quite funny)\n",
    "\n",
    "![Binary classification](resources/trump.jpg)\n",
    "Goal: Identify and categorize opinions from text data.\n",
    "---\n",
    "Following up you'll find a official dataset containing user tweets about the first 2016 GOP Presidential Debate, or as stated by the original source: \n",
    "```\n",
    "We looked through tens of thousands of tweets about the early August GOP debate in Ohio and asked contributors to do both sentiment analysis and data categorization. Contributors were asked if the tweet was relevant, which candidate was mentioned, what subject was mentioned, and then what the sentiment was for a given tweet. We've removed the non-relevant messages from the uploaded dataset.\n",
    "```\n",
    "For more information about the data, please follow:\n",
    "https://www.kaggle.com/crowdflower/first-gop-debate-twitter-sentiment\n",
    "\n",
    "\n",
    "### Your goals are to complete the following tasks:\n",
    "---\n",
    "\n",
    "### 1. Parse the data and perform some exploration first, that is:\n",
    "- Load and initially explore the dataset located under: 'data/sentiment.csv'\n",
    "- remove all columns except 'text' and 'sentiment'\n",
    "- split data into 2 separate datasets, where one contains just negative and one contains the positive tweets(create 2 new datasets instead of deleting the old one)\n",
    "- remove stop words from tweets(see https://www.nltk.org/book/ch02.html 4.1), as well as hashtags, '@'-signs and 'RT'-sign'\n",
    "- print a wordcloud for the positive-tweet dataset aswell as the negative tweets dataset. It displays the most appearing words in each dataset. The code for the wordcloud is provided below.\n",
    "- create a list object, called 'tweets', that contains tuples: (list of words in tweet(cleaned), sentiment('Negative' or 'Positive'))\n",
    "\n",
    "### 2. Split the data into training and test set(the ratio should be 80% / 20%)\n",
    "    \n",
    "    \n",
    "### 3. Use the nltk library to train a NaiveBayesClassifier on the dataset:\n",
    "- use nltk.classify.util.apply_features to provide the word features to the classifier(look up docu https://www.nltk.org/api/nltk.classify.html#module-nltk.classify.util)\n",
    "the needed input argument feature_func input is provided by extract_features function.\n",
    "- Use: 'classifier = nltk.NaiveBayesClassifier.train(training_set)' to train the classifier, where training_set is the output of the apply_features function\n",
    "\n",
    "### 4. Use the trained classifier to predict the sentiments of the test set. Plot confusion matrix and print accuracy report like done above\n",
    "\n",
    "### 5. Provide your own inputs to the classifier and see check whether it is able to classify your intended sentiment."
   ]
  },
  {
   "cell_type": "code",
   "execution_count": null,
   "metadata": {},
   "outputs": [],
   "source": [
    "import numpy as np\n",
    "import pandas as pd\n",
    "from sklearn.model_selection import train_test_split\n",
    "\n",
    "import nltk\n",
    "from nltk.corpus import stopwords\n",
    "from nltk.classify import SklearnClassifier\n",
    "\n",
    "from wordcloud import WordCloud,STOPWORDS\n",
    "import matplotlib.pyplot as plt\n",
    "%matplotlib inline\n",
    "\n",
    "from subprocess import check_output"
   ]
  },
  {
   "cell_type": "code",
   "execution_count": null,
   "metadata": {},
   "outputs": [],
   "source": [
    "data = pd.read_csv('data/sentiment.csv')\n",
    "data.head()"
   ]
  },
  {
   "cell_type": "code",
   "execution_count": null,
   "metadata": {},
   "outputs": [],
   "source": [
    "data = data[['text','sentiment']]"
   ]
  },
  {
   "cell_type": "code",
   "execution_count": null,
   "metadata": {},
   "outputs": [],
   "source": [
    "data.head()"
   ]
  },
  {
   "cell_type": "code",
   "execution_count": null,
   "metadata": {},
   "outputs": [],
   "source": [
    "# Splitting the dataset into train and test set\n",
    "train, test = train_test_split(data,test_size = 0.2)\n",
    "# Removing neutral sentiments\n",
    "train = train[train.sentiment != \"Neutral\"]"
   ]
  },
  {
   "cell_type": "code",
   "execution_count": null,
   "metadata": {
    "scrolled": false
   },
   "outputs": [],
   "source": [
    "train_pos = # TODO\n",
    "train_neg = # TODO\n",
    "\n",
    "test_pos = # TODO\n",
    "test_neg = # TODO\n",
    "\n",
    "def wordcloud(cleaned_words, color='black'):\n",
    "    words = ' '.join(cleaned_words)\n",
    "    cleaned_word = \" \".join([word for word in words.split()])\n",
    "    \n",
    "    wordcloud = WordCloud(stopwords=STOPWORDS,\n",
    "                      background_color=color,\n",
    "                      width=2500,\n",
    "                      height=2000\n",
    "                     ).generate(cleaned_word)\n",
    "    plt.figure(1,figsize=(13, 13))\n",
    "    plt.imshow(wordcloud)\n",
    "    plt.axis('off')\n",
    "    plt.show()\n",
    "    \n",
    "print(\"Positive words\")\n",
    "wordcloud(train_pos,'white')\n",
    "print(\"Negative words\")\n",
    "wordcloud(train_neg)"
   ]
  },
  {
   "cell_type": "code",
   "execution_count": null,
   "metadata": {},
   "outputs": [],
   "source": []
  },
  {
   "cell_type": "code",
   "execution_count": null,
   "metadata": {
    "scrolled": true
   },
   "outputs": [],
   "source": [
    "# Provided functions\n",
    "def get_words_in_tweets(tweets):\n",
    "    all = []\n",
    "    for (words, sentiment) in tweets:\n",
    "        all.extend(words)\n",
    "    return all\n",
    "\n",
    "def get_word_features(wordlist):\n",
    "    wordlist = nltk.FreqDist(wordlist)\n",
    "    features = wordlist.keys()\n",
    "    return features\n",
    "\n",
    "w_features = get_word_features(get_words_in_tweets(tweets))\n",
    "\n",
    "# IMPORTANT: USE THIS ONE FOR nltk.classify.apply_features argument input\n",
    "def extract_features(document):\n",
    "    document_words = set(document)\n",
    "    features = {}\n",
    "    for word in w_features:\n",
    "        features['contains(%s)' % word] = (word in document_words)\n",
    "    return features"
   ]
  },
  {
   "cell_type": "code",
   "execution_count": null,
   "metadata": {},
   "outputs": [],
   "source": [
    "# INPUTS\n",
    "\n",
    "neg_cnt = 0\n",
    "pos_cnt = 0\n",
    "\n",
    "for obj in test_neg: \n",
    "    res =  classifier.classify(extract_features(obj.split()))\n",
    "    if(res == 'Negative'): \n",
    "        neg_cnt = neg_cnt + 1\n",
    "        \n",
    "for obj in test_pos: \n",
    "    res =  classifier.classify(extract_features(obj.split()))\n",
    "    if(res == 'Positive'): \n",
    "        pos_cnt = pos_cnt + 1\n",
    "        \n",
    "print('[Negative]: %s/%s '  % (neg_cnt, len(test_neg)))        \n",
    "print('[Positive]: %s/%s '  % (pos_cnt, len(test_pos)))   "
   ]
  },
  {
   "cell_type": "code",
   "execution_count": null,
   "metadata": {},
   "outputs": [],
   "source": []
  },
  {
   "cell_type": "code",
   "execution_count": null,
   "metadata": {},
   "outputs": [],
   "source": []
  },
  {
   "cell_type": "code",
   "execution_count": null,
   "metadata": {},
   "outputs": [],
   "source": []
  },
  {
   "cell_type": "markdown",
   "metadata": {},
   "source": [
    "# Q4. Implement cross validation(Optional)\n",
    "![Binary classification](resources/crossvalidation.png)\n",
    "### TODO:\n",
    "Your first task will be to implement the cross-validation algorithm using a classification algorithm of your choice.\n",
    "The pseudocode would look something like this:\n",
    "\n",
    "```python\n",
    "1. split dataset into training set ant test set\n",
    "2. loop over a list of hyperparameter settings:\n",
    "    2.1 split training set into training set and validation set\n",
    "    2.2 initialize your classification algo. using those hyperparams\n",
    "    2.3 train your algo. on the training set\n",
    "    2.4 measure accuracy of your algo on the validation set\n",
    "    2.5 safe temp. hyperparams if temp accuracy exceeded prior one\n",
    "3. train the whole training set on the best hyperparameter setting\n",
    "4. evaluate final accuracy of your algorithm using the test set\n",
    "```"
   ]
  },
  {
   "cell_type": "code",
   "execution_count": null,
   "metadata": {},
   "outputs": [],
   "source": []
  },
  {
   "cell_type": "code",
   "execution_count": null,
   "metadata": {},
   "outputs": [],
   "source": []
  },
  {
   "cell_type": "code",
   "execution_count": null,
   "metadata": {},
   "outputs": [],
   "source": []
  }
 ],
 "metadata": {
  "kernelspec": {
   "display_name": "Python 3",
   "language": "python",
   "name": "python3"
  },
  "language_info": {
   "codemirror_mode": {
    "name": "ipython",
    "version": 3
   },
   "file_extension": ".py",
   "mimetype": "text/x-python",
   "name": "python",
   "nbconvert_exporter": "python",
   "pygments_lexer": "ipython3",
   "version": "3.6.9"
  }
 },
 "nbformat": 4,
 "nbformat_minor": 2
}
