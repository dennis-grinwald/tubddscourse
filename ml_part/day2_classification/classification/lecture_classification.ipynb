{
 "cells": [
  {
   "cell_type": "markdown",
   "metadata": {},
   "source": [
    "# Binary classification\n",
    "---\n",
    "## Essential questions in life: How to distinguish dog from cat pictures ?\n",
    "![Binary classification](resources/dog_cat.jpeg)"
   ]
  },
  {
   "cell_type": "markdown",
   "metadata": {},
   "source": [
    "## Dataset \n",
    "In classification tasks our dataset has the following form:\n",
    "\n",
    "$D={((\\mathbf x_{1}, y_{1}), ..., (\\mathbf x_{N}, y_{N}))}$,\n",
    "\n",
    "where $y_{i}$ is either 1(=dog) or 0(=cat)\n",
    "\n",
    "\n",
    "### Goal of a classification algorithm:\n",
    "In more formal terms, the main goal of a classification algorithm is to learn how to maximize the probability $p(y=1|x=\\text{dog data})$ and $p(y=0|x=\\text{cat data})$, respectively. Or in other words: A trained classifier should, when given a dog data input, output a high probability value > 0.5(= 50%), and when given a cat picture, output a low probability value < 0.5. An untrained classifier would usually output a value around 0.5, meaning it would classify the inputs by chance."
   ]
  },
  {
   "cell_type": "markdown",
   "metadata": {},
   "source": [
    "## Visualizing a trained classification boundary\n",
    "---"
   ]
  },
  {
   "cell_type": "markdown",
   "metadata": {},
   "source": [
    "![Binary classification](resources/dc_classifier.png)"
   ]
  },
  {
   "cell_type": "code",
   "execution_count": null,
   "metadata": {},
   "outputs": [],
   "source": []
  },
  {
   "cell_type": "code",
   "execution_count": null,
   "metadata": {},
   "outputs": [],
   "source": []
  },
  {
   "cell_type": "code",
   "execution_count": null,
   "metadata": {},
   "outputs": [],
   "source": []
  },
  {
   "cell_type": "markdown",
   "metadata": {},
   "source": [
    "# Measuring classification performance\n",
    "---\n",
    "\n",
    "# Confusion matrix\n",
    "---\n",
    "---\n",
    "A confusion matrix is a good way to represent the performance of a classification algorithm. \n",
    "![Binary classification](resources/conf_mat1.png)\n",
    "![Binary classification](resources/conf_mat2.png)\n",
    "\n",
    "### Accuracy of our model = $\\frac{\\text{no. of correct classified points}}{total points}$\n",
    "\n",
    "# Other possible measures\n",
    "---\n",
    "Usually we start judging the performance of our trained model by evaluating it's accuracy.\n",
    "![Binary classification](resources/conf_mat3.png)"
   ]
  },
  {
   "cell_type": "markdown",
   "metadata": {},
   "source": [
    "# Classification Algorithms\n",
    "---\n",
    "Various classification algorithms essentially differ in their way of choosing a suitable decision boundary"
   ]
  },
  {
   "cell_type": "markdown",
   "metadata": {},
   "source": [
    "# 1. Nearest centroid classifier\n",
    "---\n",
    "![Binary classification](resources/ncc.png)\n",
    "#### 1. Compute centroids(mean vector) of both classes:\n",
    "\n",
    "$\\mathbf w_{dogs} = \\frac{1}{N_{dogs}}\\sum_{x_{i}\\epsilon Dogs}\\mathbf x_{i}$\n",
    "\n",
    "$\\mathbf w_{cats} = \\frac{1}{N_{cats}}\\sum_{x_{i}\\epsilon Cats}\\mathbf x_{i}$\n",
    "\n",
    "with $N_{dogs/cats}$ = number of dogs/cats\n",
    "\n",
    "#### 2. Assign new points to the class whose centroid is closest:\n",
    "\n",
    "$\\mathbf y_{new} = \\underset{c_{i} \\epsilon C}{\\operatorname{argmin}}\n",
    " dist(x_{new}, w_{i})$, \n",
    "\n",
    "where $\\mathbf w_{i} \\epsilon \\mathbf R^{dx1}:$ centroid of class i, $C:$ Set of all classes\n",
    "\n",
    "#### 3. Recompute centroids of both classes:\n",
    "$\\mathbf w_{dogs}^{new} = \\frac{1}{N_{dogs}+1}\\sum_{x_{i}\\epsilon Dogs}\\mathbf x_{i}$, if $y_{new}=Dog$\n",
    "\n",
    "else:\n",
    "\n",
    "$\\mathbf w_{cats}^{new} = \\frac{1}{N_{cats}+1}\\sum_{x_{i}\\epsilon Cats}\\mathbf x_{i}$\n",
    "\n",
    "#### 4. Restart from point 2. when doing inference on new incoming point"
   ]
  },
  {
   "cell_type": "code",
   "execution_count": null,
   "metadata": {},
   "outputs": [],
   "source": []
  },
  {
   "cell_type": "code",
   "execution_count": null,
   "metadata": {},
   "outputs": [],
   "source": []
  },
  {
   "cell_type": "code",
   "execution_count": null,
   "metadata": {},
   "outputs": [],
   "source": []
  },
  {
   "cell_type": "markdown",
   "metadata": {},
   "source": [
    "# 2. Logisitic Regression\n",
    "---\n",
    "### Objective:\n",
    "Find a way to interpret the output of a linear regression as a probability distribution over different classes.\n",
    "### From linear regression to logistic regresssion\n",
    "$P(y_{i}=1)$: Probability of $x_{i}$ belonging to class 1(=dog)\n",
    "$P(y_{i}=0)$: Probability of $x_{i}$ belonging to class 2(=cat)\n",
    "![image.png](resources/logistic_regression.png)\n",
    "![image.png](resources/sigmoid2.png)"
   ]
  },
  {
   "cell_type": "markdown",
   "metadata": {},
   "source": [
    "### Note: The term in the exponent of the exponential function is just the output of a linear regression!"
   ]
  },
  {
   "cell_type": "markdown",
   "metadata": {},
   "source": [
    "## Whats the cost function ?\n",
    "Typically used cost function is the binary cross-entropy loss:\n",
    "\n",
    "Scalar form:\n",
    "$J(\\beta) = -\\frac{1}{N}\\sum_{i=1}^{N}y_{i}\\ log(\\hat{y_{i}})+(1-y_{i})\\ log(1-\\hat{y_{i}})$\n",
    "\n",
    "Vectorized form:\n",
    "$J(\\beta) = -\\frac{1}{N}\\lvert \\mathbf ylog(\\hat{\\mathbf y})+(1-\\mathbf y)\\ log(1-\\hat{\\mathbf y})\\lvert$"
   ]
  },
  {
   "cell_type": "code",
   "execution_count": 1,
   "metadata": {},
   "outputs": [],
   "source": [
    "import sklearn\n",
    "import numpy as np\n",
    "import matplotlib.pyplot as plt"
   ]
  },
  {
   "cell_type": "markdown",
   "metadata": {},
   "source": [
    "### Loss surface when y=1 (true label)"
   ]
  },
  {
   "cell_type": "code",
   "execution_count": 2,
   "metadata": {},
   "outputs": [
    {
     "data": {
      "image/png": "[encoded data removed]",
      "text/plain": [
       "<Figure size 432x288 with 1 Axes>"
      ]
     },
     "metadata": {
      "needs_background": "light"
     },
     "output_type": "display_data"
    }
   ],
   "source": [
    "# Assume true y = 1\n",
    "y_hat = np.linspace(0.001,1,100)\n",
    "loss = -np.log(y_hat)\n",
    "\n",
    "fig = plt.figure()\n",
    "plt.plot(y_hat, loss)\n",
    "plt.xlabel('y_hat(predicted label)')\n",
    "plt.ylabel('-log(y_hat)')\n",
    "plt.title('Log Loss')\n",
    "\n",
    "plt.show()"
   ]
  },
  {
   "cell_type": "markdown",
   "metadata": {},
   "source": [
    "### Loss surface when y=0 (true label)"
   ]
  },
  {
   "cell_type": "code",
   "execution_count": 7,
   "metadata": {},
   "outputs": [
    {
     "name": "stderr",
     "output_type": "stream",
     "text": [
      "/home/dg/envs/ds/lib/python3.6/site-packages/ipykernel_launcher.py:2: RuntimeWarning: divide by zero encountered in log\n",
      "  \n"
     ]
    },
    {
     "data": {
      "image/png": "[encoded data removed]",
      "text/plain": [
       "<Figure size 432x288 with 1 Axes>"
      ]
     },
     "metadata": {
      "needs_background": "light"
     },
     "output_type": "display_data"
    }
   ],
   "source": [
    "y_hat = np.linspace(0.001,1,100)\n",
    "loss = -np.log(1-y_hat)\n",
    "\n",
    "fig = plt.figure()\n",
    "plt.plot(y_hat, loss)\n",
    "plt.xlabel('y_hat(predicted label)')\n",
    "plt.ylabel('-log(y_hat)')\n",
    "plt.title('Log Loss')\n",
    "plt.show()"
   ]
  },
  {
   "cell_type": "markdown",
   "metadata": {},
   "source": [
    "### Objective\n",
    "$ min_{\\beta}J(\\beta) \\Rightarrow  \\nabla J(\\beta)$\n",
    "\n",
    "$\\Rightarrow \\nabla J(\\beta) = \\mathbf X ( \\hat{\\mathbf y}- \\mathbf y)$\n",
    "\n",
    "- Repeat until convergence: $w^{t+1}_{1} \\leftarrow w^{t}_{1} - \\alpha \\nabla_{w^{t}_{1}}J(w_{1}^{t})$\n",
    "\n",
    "where $\\mathbf X \\epsilon \\mathbb{R}^{Nxd}$, $\\mathbf y \\epsilon \\mathbb{R}^{Nx1}$, $\\hat{\\mathbf y} \\epsilon \\mathbb{R}^{Nx1}$, $\\hat{\\mathbf y}=\\mathbf X \\mathbf \\beta $, $\\mathbf \\beta \\epsilon \\mathbb{R}^{dx1}$"
   ]
  },
  {
   "cell_type": "code",
   "execution_count": null,
   "metadata": {},
   "outputs": [],
   "source": []
  },
  {
   "cell_type": "code",
   "execution_count": null,
   "metadata": {},
   "outputs": [],
   "source": []
  },
  {
   "cell_type": "code",
   "execution_count": null,
   "metadata": {},
   "outputs": [],
   "source": []
  },
  {
   "cell_type": "markdown",
   "metadata": {},
   "source": [
    "# 3. Linear Discriminant Analysis / LDA\n",
    "---\n",
    "- Idea: Find optimal projection of the points into 1 dim, such that they can be separated along that projection axis\n",
    "# Like that ?\n",
    "![image.png](resources/lda00.png)\n",
    "![image.png](resources/lda01.png)\n",
    "# or like that ?\n",
    "![image.png](resources/lda1.png)\n",
    "![image.png](resources/lda2.png)\n",
    "![image.png](resources/lda3.png)\n",
    "\n",
    "## Objective:\n",
    "Two criteria are used by LDA to create a new axis:\n",
    "\n",
    "    Maximize the distance between means of the two classes.\n",
    "    Minimize the variation within each class."
   ]
  },
  {
   "cell_type": "code",
   "execution_count": null,
   "metadata": {},
   "outputs": [],
   "source": []
  },
  {
   "cell_type": "markdown",
   "metadata": {},
   "source": [
    "# 4. Support Vector Machines\n",
    "---\n",
    "![image.png](resources/svm.png)\n",
    "### Objective:\n",
    "\n",
    "Find a decision boundary such that the distance between it and the closest element of either class is maximized. \n",
    "\n",
    "Our in mathematical notation:\n",
    "\n",
    "$min_{\\mathbf w, b}\\frac{1}{2}\\lvert\\lvert \\mathbf w \\lvert\\lvert^{2}$\n",
    "\n",
    "$s.t. y_{i}(\\mathbf w^{T}\\mathbf x_{i}+b) \\geq 1$, $i=1,...,N$"
   ]
  },
  {
   "cell_type": "markdown",
   "metadata": {},
   "source": [
    "# Summary of linear methods:\n",
    "---\n",
    "- Nearest centroid classifier\n",
    "- Logistic regression\n",
    "- Linear Discriminant Analysis\n",
    "- SVM(linear kernel)"
   ]
  },
  {
   "cell_type": "code",
   "execution_count": null,
   "metadata": {},
   "outputs": [],
   "source": []
  },
  {
   "cell_type": "code",
   "execution_count": null,
   "metadata": {},
   "outputs": [],
   "source": []
  },
  {
   "cell_type": "code",
   "execution_count": null,
   "metadata": {},
   "outputs": [],
   "source": []
  },
  {
   "cell_type": "markdown",
   "metadata": {},
   "source": [
    "# What about non-linearly separable datasets ?\n",
    "---"
   ]
  },
  {
   "cell_type": "markdown",
   "metadata": {},
   "source": [
    "# 1. Feature maps\n",
    "\n",
    "When dealing with non-linearly separable data we look for a function $\\phi$ that applies a map from our original input data space into another feature space, where the data then can be separated using a linear decision boundary.\n",
    "In classical ML we build feature map $\\phi$ by hand, whereas neural networks automatically learn them.\n",
    "\n",
    "![image.png](resources/nonlinear.png)"
   ]
  },
  {
   "cell_type": "markdown",
   "metadata": {},
   "source": [
    "# 2. Decision Trees\n",
    "---\n",
    "![image.png](resources/decision_tree.png)\n",
    "\n",
    "### Objective: \n",
    "\n",
    "Find feature splits that perfectly split all the classes in the leaf nodes of the decision tree.\n",
    "\n",
    "# 3. Random Forest\n",
    "---\n",
    "![image.png](resources/random_forest.jpeg)\n",
    "### Objective: \n",
    "1. Build many uncorrelated decision trees(e.g. on different parts of the dataset).\n",
    "2. During inference use all decision trees to predict the label and decide by the rule of majority vote"
   ]
  },
  {
   "cell_type": "markdown",
   "metadata": {},
   "source": [
    "## Summary of non-linear methods:\n",
    "- SVM with non-linear kernels\n",
    "- Neural Networks\n",
    "- Decision Trees\n",
    "- etc.\n",
    "![image.png](resources/nonlinear_boundaries.png)"
   ]
  },
  {
   "cell_type": "code",
   "execution_count": null,
   "metadata": {},
   "outputs": [],
   "source": []
  },
  {
   "cell_type": "code",
   "execution_count": null,
   "metadata": {},
   "outputs": [],
   "source": []
  },
  {
   "cell_type": "code",
   "execution_count": null,
   "metadata": {},
   "outputs": [],
   "source": []
  },
  {
   "cell_type": "markdown",
   "metadata": {},
   "source": [
    "# What about multiclass-classification ?\n",
    "---\n",
    "# Method 1:\n",
    "- Train K classifiers, where K is the total number of classes. Then perform ensemble prediction for a new data point\n",
    "![image.png](resources/one_vs_all.jpeg)\n",
    "## Problem:\n",
    "---\n",
    "- highly unbalanced training set\n",
    "\n",
    "# Method 2:\n",
    "- Train K(K-1) / 2 classifiers and perform ensemble prediction\n",
    "![image.png](resources/one_vs_one.png)\n",
    "## Problem\n",
    "---\n",
    "- higher runtime complexity than method 2"
   ]
  },
  {
   "cell_type": "code",
   "execution_count": null,
   "metadata": {},
   "outputs": [],
   "source": []
  },
  {
   "cell_type": "code",
   "execution_count": null,
   "metadata": {},
   "outputs": [],
   "source": []
  },
  {
   "cell_type": "code",
   "execution_count": null,
   "metadata": {},
   "outputs": [],
   "source": []
  },
  {
   "cell_type": "markdown",
   "metadata": {},
   "source": [
    "# Extending the idea of a train-, test set split\n",
    "---\n",
    "We already know that by splitting our dataset into a training set and a test set, then train using the training set and evaluate using the test set, we can approximate the generalization performance of our algorithm. If we want to optimize our hyperparameters however, training on the same training dataset and evaluating on the test dataset is actually already overfitting. That's why we should split our training dataset into a training and validation set which we use to find our best hyperparameter setting, then train the whole training dataset(validation set included) using that best hyperparameter setting, and evaluating the final performance of our algorithm on the test set once.\n",
    "\n",
    "\n",
    "![Binary classification](resources/crossvalidation.png)"
   ]
  },
  {
   "cell_type": "code",
   "execution_count": null,
   "metadata": {},
   "outputs": [],
   "source": []
  },
  {
   "cell_type": "code",
   "execution_count": null,
   "metadata": {},
   "outputs": [],
   "source": []
  },
  {
   "cell_type": "markdown",
   "metadata": {},
   "source": [
    "# Move on to practical session"
   ]
  },
  {
   "cell_type": "code",
   "execution_count": null,
   "metadata": {},
   "outputs": [],
   "source": []
  },
  {
   "cell_type": "code",
   "execution_count": null,
   "metadata": {},
   "outputs": [],
   "source": []
  }
 ],
 "metadata": {
  "kernelspec": {
   "display_name": "Python 3",
   "language": "python",
   "name": "python3"
  },
  "language_info": {
   "codemirror_mode": {
    "name": "ipython",
    "version": 3
   },
   "file_extension": ".py",
   "mimetype": "text/x-python",
   "name": "python",
   "nbconvert_exporter": "python",
   "pygments_lexer": "ipython3",
   "version": "3.6.9"
  }
 },
 "nbformat": 4,
 "nbformat_minor": 2
}
