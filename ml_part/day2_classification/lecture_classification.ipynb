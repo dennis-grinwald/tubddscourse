{
 "cells": [
  {
   "cell_type": "markdown",
   "metadata": {},
   "source": [
    "# Binary classification\n",
    "## Essential questions in life: Dog or Cat ?\n",
    "![Binary classification](resources/dog_cat.jpeg)"
   ]
  },
  {
   "cell_type": "markdown",
   "metadata": {},
   "source": [
    "# What does the dataset look like ?\n",
    "$D={(x_{1}, y_{1}), ..., (x_{N}, y_{N})}$,\n",
    "\n",
    "where $y_{i}$ is either 1(=dog) or 0(=cat)"
   ]
  },
  {
   "cell_type": "markdown",
   "metadata": {},
   "source": [
    "![Binary classification](resources/dc_classifier.png)"
   ]
  },
  {
   "cell_type": "markdown",
   "metadata": {},
   "source": [
    "# Classification Algorithms"
   ]
  },
  {
   "cell_type": "markdown",
   "metadata": {},
   "source": [
    "## How to choose decision boundary ?"
   ]
  },
  {
   "cell_type": "markdown",
   "metadata": {},
   "source": [
    "## 1. Nearest centroid classifier\n",
    "![Binary classification](resources/ncc.png)\n",
    "#### 1. Compute centroids(mean vector):\n",
    "\n",
    "$w_{dogs} = \\frac{1}{N_{dogs}}\\sum_{x_{i}\\epsilon Dogs}\\mathbf x_{i}$\n",
    "\n",
    "$w_{cats} = \\frac{1}{N_{cats}}\\sum_{x_{i}\\epsilon Cats}\\mathbf x_{i}$\n",
    "\n",
    "with $N_{dogs/cats}$ = number of dogs/cats\n",
    "\n",
    "#### 2. Assign new points to closest centroid\n",
    "\n",
    "$\\mathbf x_{new} = \\underset{c_{i} \\epsilon C}{\\operatorname{argmin}}\n",
    " dist(y_{new}, w_{i})$, \n",
    "\n",
    "where $w_{i}:$ centroid of class i, $C:$ Set of all classes\n",
    "\n",
    "#### 3. Recompute Means\n",
    "$w_{dogs}^{new} = \\frac{1}{N_{dogs}+1}\\sum_{x_{i}\\epsilon Dogs}\\mathbf x_{i}$, if $y_{new}=Dog$\n",
    "\n",
    "else:\n",
    "\n",
    "$w_{cats}^{new} = \\frac{1}{N_{cats}+1}\\sum_{x_{i}\\epsilon Cats}\\mathbf x_{i}$"
   ]
  },
  {
   "attachments": {},
   "cell_type": "markdown",
   "metadata": {},
   "source": [
    "## 2. Logisitic Regression\n",
    "### Main goal:\n",
    "Find a way to interpret the output of a linear regression as a probability distribution over different classes.\n",
    "### From linear regression to logistic regresssion\n",
    "$P(y_{i}=1)$: Probability of $x_{i}$ belonging to class 1(=dog)\n",
    "![image.png](resources/logistic_regression.png)"
   ]
  },
  {
   "cell_type": "markdown",
   "metadata": {},
   "source": [
    "### Note: The term in the exponent of the exponential function is just the output of a linear regression!"
   ]
  },
  {
   "cell_type": "markdown",
   "metadata": {},
   "source": [
    "## Whats the cost function ?\n",
    "Typically used cost function is the binary cross-entropy loss:\n",
    "\n",
    "Scalar form:\n",
    "$J(\\beta) = -\\frac{1}{N}\\sum_{i=1}^{N}y_{i}\\ log(\\hat{y_{i}})+(1-y_{i})\\ log(1-\\hat{y_{i}})$\n",
    "\n",
    "Vectorized form:\n",
    "$J(\\beta) = -\\frac{1}{N}( \\mathbf ylog(\\hat{\\mathbf y})+(1-\\mathbf y)\\ log(1-\\hat{\\mathbf y}))$"
   ]
  },
  {
   "cell_type": "code",
   "execution_count": 84,
   "metadata": {},
   "outputs": [
    {
     "data": {
      "image/png": "[encoded data removed]",
      "text/plain": [
       "<Figure size 432x288 with 1 Axes>"
      ]
     },
     "metadata": {},
     "output_type": "display_data"
    }
   ],
   "source": [
    "# Assume y = 1\n",
    "y_hat = np.linspace(0.001,1,100)\n",
    "loss = -np.log(y_hat)\n",
    "\n",
    "fig = plt.figure()\n",
    "plt.plot(y_hat, loss)\n",
    "plt.xlabel('y_hat')\n",
    "plt.ylabel('-log(y_hat)')\n",
    "plt.title('Log Loss')\n",
    "plt.show()"
   ]
  },
  {
   "cell_type": "markdown",
   "metadata": {},
   "source": [
    "### Objective\n",
    "$ min_{\\beta}J(\\beta) \\Rightarrow  \\nabla J(\\beta) = 0$\n",
    "\n",
    "$\\Rightarrow \\nabla J(\\beta) = \\mathbf X ( \\hat{\\mathbf y}- \\mathbf y)$\n",
    "\n",
    "where $\\mathbf X \\epsilon \\mathbb{R}^{Nxd}$, $\\mathbf y \\epsilon \\mathbb{R}^{Nx1}$, $\\hat{\\mathbf y} \\epsilon \\mathbb{R}^{Nx1}$, $\\hat{\\mathbf y}=\\mathbf X \\mathbf \\beta $, $\\mathbf \\beta \\epsilon \\mathbb{R}^{dx1}$"
   ]
  },
  {
   "cell_type": "markdown",
   "metadata": {},
   "source": [
    "## 3. Support Vector Machines\n",
    "![image.png](resources/svm.png)\n",
    "### Objective:\n",
    "\n",
    "$min_{\\mathbf w, b}\\frac{1}{2}\\lvert\\lvert \\mathbf w \\lvert\\lvert^{2}$\n",
    "\n",
    "$s.t. y_{i}(\\mathbf w^{T}\\mathbf x_{i}+b) \\geq 1$, $i=1,...,N$"
   ]
  },
  {
   "cell_type": "markdown",
   "metadata": {},
   "source": [
    "## 4. Linear Discriminant Analysis / LDA\n",
    "- Idea: Find optimal projection of the points into 1 dim, such that they can be separated along that projection axis"
   ]
  },
  {
   "cell_type": "code",
   "execution_count": null,
   "metadata": {},
   "outputs": [],
   "source": []
  },
  {
   "cell_type": "code",
   "execution_count": null,
   "metadata": {},
   "outputs": [],
   "source": []
  },
  {
   "cell_type": "code",
   "execution_count": null,
   "metadata": {},
   "outputs": [],
   "source": []
  },
  {
   "cell_type": "markdown",
   "metadata": {},
   "source": [
    "# Multiclass classification"
   ]
  },
  {
   "cell_type": "markdown",
   "metadata": {},
   "source": [
    "### One vs one\n",
    "### One vs all"
   ]
  },
  {
   "cell_type": "code",
   "execution_count": null,
   "metadata": {},
   "outputs": [],
   "source": []
  },
  {
   "cell_type": "code",
   "execution_count": null,
   "metadata": {},
   "outputs": [],
   "source": []
  },
  {
   "cell_type": "code",
   "execution_count": null,
   "metadata": {},
   "outputs": [],
   "source": []
  },
  {
   "cell_type": "markdown",
   "metadata": {},
   "source": [
    "# Measuring classification performance"
   ]
  },
  {
   "cell_type": "code",
   "execution_count": null,
   "metadata": {},
   "outputs": [],
   "source": []
  },
  {
   "cell_type": "code",
   "execution_count": null,
   "metadata": {},
   "outputs": [],
   "source": []
  },
  {
   "cell_type": "code",
   "execution_count": null,
   "metadata": {},
   "outputs": [],
   "source": []
  }
 ],
 "metadata": {
  "kernelspec": {
   "display_name": "nn_env",
   "language": "python",
   "name": "nn_env"
  },
  "language_info": {
   "codemirror_mode": {
    "name": "ipython",
    "version": 3
   },
   "file_extension": ".py",
   "mimetype": "text/x-python",
   "name": "python",
   "nbconvert_exporter": "python",
   "pygments_lexer": "ipython3",
   "version": "3.6.7"
  }
 },
 "nbformat": 4,
 "nbformat_minor": 2
}
